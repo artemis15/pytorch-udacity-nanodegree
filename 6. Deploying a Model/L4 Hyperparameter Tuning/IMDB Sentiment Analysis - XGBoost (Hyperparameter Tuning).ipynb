{
 "cells": [
  {
   "cell_type": "markdown",
   "metadata": {},
   "source": [
    "# Sentiment Analysis\n",
    "\n",
    "## Using XGBoost in SageMaker\n",
    "\n",
    "_Deep Learning Nanodegree Program | Deployment_\n",
    "\n",
    "---\n",
    "\n",
    "In this example of using Amazon's SageMaker service we will construct a random tree model to predict the sentiment of a movie review. You may have seen a version of this example in a pervious lesson although it would have been done using the sklearn package. Instead, we will be using the XGBoost package as it is provided to us by Amazon.\n",
    "\n",
    "## Instructions\n",
    "\n",
    "Some template code has already been provided for you, and you will need to implement additional functionality to successfully complete this notebook. You will not need to modify the included code beyond what is requested. Sections that begin with '**TODO**' in the header indicate that you need to complete or implement some portion within them. Instructions will be provided for each section and the specifics of the implementation are marked in the code block with a `# TODO: ...` comment. Please be sure to read the instructions carefully!\n",
    "\n",
    "In addition to implementing code, there will be questions for you to answer which relate to the task and your implementation. Each section where you will answer a question is preceded by a '**Question:**' header. Carefully read each question and provide your answer below the '**Answer:**' header by editing the Markdown cell.\n",
    "\n",
    "> **Note**: Code and Markdown cells can be executed using the **Shift+Enter** keyboard shortcut. In addition, a cell can be edited by typically clicking it (double-click for Markdown cells) or by pressing **Enter** while it is highlighted."
   ]
  },
  {
   "cell_type": "markdown",
   "metadata": {},
   "source": [
    "## Step 1: Downloading the data\n",
    "\n",
    "The dataset we are going to use is very popular among researchers in Natural Language Processing, usually referred to as the [IMDb dataset](http://ai.stanford.edu/~amaas/data/sentiment/). It consists of movie reviews from the website [imdb.com](http://www.imdb.com/), each labeled as either '**pos**itive', if the reviewer enjoyed the film, or '**neg**ative' otherwise.\n",
    "\n",
    "> Maas, Andrew L., et al. [Learning Word Vectors for Sentiment Analysis](http://ai.stanford.edu/~amaas/data/sentiment/). In _Proceedings of the 49th Annual Meeting of the Association for Computational Linguistics: Human Language Technologies_. Association for Computational Linguistics, 2011.\n",
    "\n",
    "We begin by using some Jupyter Notebook magic to download and extract the dataset."
   ]
  },
  {
   "cell_type": "code",
   "execution_count": 1,
   "metadata": {},
   "outputs": [
    {
     "name": "stdout",
     "output_type": "stream",
     "text": [
      "mkdir: cannot create directory ‘../data’: File exists\n",
      "--2019-05-04 23:30:25--  http://ai.stanford.edu/~amaas/data/sentiment/aclImdb_v1.tar.gz\n",
      "Resolving ai.stanford.edu (ai.stanford.edu)... 171.64.68.10\n",
      "Connecting to ai.stanford.edu (ai.stanford.edu)|171.64.68.10|:80... connected.\n",
      "HTTP request sent, awaiting response... 200 OK\n",
      "Length: 84125825 (80M) [application/x-gzip]\n",
      "Saving to: ‘../data/aclImdb_v1.tar.gz’\n",
      "\n",
      "../data/aclImdb_v1. 100%[===================>]  80.23M  5.40MB/s    in 16s     \n",
      "\n",
      "2019-05-04 23:30:42 (5.07 MB/s) - ‘../data/aclImdb_v1.tar.gz’ saved [84125825/84125825]\n",
      "\n"
     ]
    }
   ],
   "source": [
    "%mkdir ../data\n",
    "!wget -O ../data/aclImdb_v1.tar.gz http://ai.stanford.edu/~amaas/data/sentiment/aclImdb_v1.tar.gz\n",
    "!tar -zxf ../data/aclImdb_v1.tar.gz -C ../data"
   ]
  },
  {
   "cell_type": "markdown",
   "metadata": {},
   "source": [
    "## Step 2: Preparing the data\n",
    "\n",
    "The data we have downloaded is split into various files, each of which contains a single review. It will be much easier going forward if we combine these individual files into two large files, one for training and one for testing."
   ]
  },
  {
   "cell_type": "code",
   "execution_count": 2,
   "metadata": {},
   "outputs": [],
   "source": [
    "import os\n",
    "import glob\n",
    "\n",
    "def read_imdb_data(data_dir='../data/aclImdb'):\n",
    "    data = {}\n",
    "    labels = {}\n",
    "    \n",
    "    for data_type in ['train', 'test']:\n",
    "        data[data_type] = {}\n",
    "        labels[data_type] = {}\n",
    "        \n",
    "        for sentiment in ['pos', 'neg']:\n",
    "            data[data_type][sentiment] = []\n",
    "            labels[data_type][sentiment] = []\n",
    "            \n",
    "            path = os.path.join(data_dir, data_type, sentiment, '*.txt')\n",
    "            files = glob.glob(path)\n",
    "            \n",
    "            for f in files:\n",
    "                with open(f) as review:\n",
    "                    data[data_type][sentiment].append(review.read())\n",
    "                    # Here we represent a positive review by '1' and a negative review by '0'\n",
    "                    labels[data_type][sentiment].append(1 if sentiment == 'pos' else 0)\n",
    "                    \n",
    "            assert len(data[data_type][sentiment]) == len(labels[data_type][sentiment]), \\\n",
    "                    \"{}/{} data size does not match labels size\".format(data_type, sentiment)\n",
    "                \n",
    "    return data, labels"
   ]
  },
  {
   "cell_type": "code",
   "execution_count": 3,
   "metadata": {},
   "outputs": [
    {
     "name": "stdout",
     "output_type": "stream",
     "text": [
      "IMDB reviews: train = 12500 pos / 12500 neg, test = 12500 pos / 12500 neg\n"
     ]
    }
   ],
   "source": [
    "data, labels = read_imdb_data()\n",
    "print(\"IMDB reviews: train = {} pos / {} neg, test = {} pos / {} neg\".format(\n",
    "            len(data['train']['pos']), len(data['train']['neg']),\n",
    "            len(data['test']['pos']), len(data['test']['neg'])))"
   ]
  },
  {
   "cell_type": "code",
   "execution_count": 4,
   "metadata": {},
   "outputs": [],
   "source": [
    "from sklearn.utils import shuffle\n",
    "\n",
    "def prepare_imdb_data(data, labels):\n",
    "    \"\"\"Prepare training and test sets from IMDb movie reviews.\"\"\"\n",
    "    \n",
    "    #Combine positive and negative reviews and labels\n",
    "    data_train = data['train']['pos'] + data['train']['neg']\n",
    "    data_test = data['test']['pos'] + data['test']['neg']\n",
    "    labels_train = labels['train']['pos'] + labels['train']['neg']\n",
    "    labels_test = labels['test']['pos'] + labels['test']['neg']\n",
    "    \n",
    "    #Shuffle reviews and corresponding labels within training and test sets\n",
    "    data_train, labels_train = shuffle(data_train, labels_train)\n",
    "    data_test, labels_test = shuffle(data_test, labels_test)\n",
    "    \n",
    "    # Return a unified training data, test data, training labels, test labets\n",
    "    return data_train, data_test, labels_train, labels_test"
   ]
  },
  {
   "cell_type": "code",
   "execution_count": 5,
   "metadata": {},
   "outputs": [
    {
     "name": "stdout",
     "output_type": "stream",
     "text": [
      "IMDb reviews (combined): train = 25000, test = 25000\n"
     ]
    }
   ],
   "source": [
    "train_X, test_X, train_y, test_y = prepare_imdb_data(data, labels)\n",
    "print(\"IMDb reviews (combined): train = {}, test = {}\".format(len(train_X), len(test_X)))"
   ]
  },
  {
   "cell_type": "code",
   "execution_count": 6,
   "metadata": {},
   "outputs": [
    {
     "data": {
      "text/plain": [
       "\"if.... is the cinematic equivalent of Sgt. Pepper's: Revered by baby boomers as the pinnacle of creation, and viewed as rather a silly bit of business by preceding and subsequent generations. Now that the children of the middle classes the world over are seemingly super human due to the internet, and view the prospect of boarding school as a wonderful opportunity thanks to the Harry Potter books/films, the relevance of if.... couldn't be further from modern concern. In fact, many scenes appear so alien and exaggerated as to hint at an inspiration for Pink Floyd's The Wall.<br /><br />One should never hold personal bias against a film while reviewing, and the cemented date of this film aside, there are a few flaws which others have overlooked. Lindsay Anderson was known to be a fan of Luis Buñuel, on top of generally being too smart for his own good. And despite a straightforward narrative through the first and second acts, the latter portion of the piece it taken hostage by cod Buñuel surrealism and strained attempts at symbolism. Anderson wasn't capable of this feat due to his over-intelligent cynicism, failing to see that Buñuel was jovial in his work. I have not found a critic whom champions the 'Chaplain in a drawer', and am almost certain it still gets sideways looks from those who adore this film. The ending is not so much a concise punch to the established class/values system, as a wet slap on a moving target.<br /><br />The British public school system was firmly for the middle classes (the upper crust being educated at home by private tutors). And the modus operandi of if.... was to check the boxes of public school life which Lindsay believed had been unexplored in film, thereby savaging middle class pretense. Homosexuality, generational cutlery, cold showers et al. In reality, such issues HAD been covered in many other great British films, if.... merely brought them to the fore. The Browning Version was a more oblique damning of such pomp, to name but one.<br /><br />if.... is oddly quaint, and simply can not be viewed with modern (especially American) eyes. Kudos to Anderson for avoiding Mick and Kieth in favour of African chant, and a few brownie points for the latent homoerotic overtones. Points deducted for pretension, establishing characters who disappear, and inciting a glib revolution which came to naught.\""
      ]
     },
     "execution_count": 6,
     "metadata": {},
     "output_type": "execute_result"
    }
   ],
   "source": [
    "train_X[100]"
   ]
  },
  {
   "cell_type": "markdown",
   "metadata": {},
   "source": [
    "## Step 3: Processing the data\n",
    "\n",
    "Now that we have our training and testing datasets merged and ready to use, we need to start processing the raw data into something that will be useable by our machine learning algorithm. To begin with, we remove any html formatting that may appear in the reviews and perform some standard natural language processing in order to homogenize the data."
   ]
  },
  {
   "cell_type": "code",
   "execution_count": 7,
   "metadata": {},
   "outputs": [
    {
     "name": "stdout",
     "output_type": "stream",
     "text": [
      "[nltk_data] Downloading package stopwords to\n",
      "[nltk_data]     /home/ec2-user/nltk_data...\n",
      "[nltk_data]   Package stopwords is already up-to-date!\n"
     ]
    }
   ],
   "source": [
    "import nltk\n",
    "nltk.download(\"stopwords\")\n",
    "from nltk.corpus import stopwords\n",
    "from nltk.stem.porter import *\n",
    "stemmer = PorterStemmer()"
   ]
  },
  {
   "cell_type": "code",
   "execution_count": 8,
   "metadata": {},
   "outputs": [],
   "source": [
    "import re\n",
    "from bs4 import BeautifulSoup\n",
    "\n",
    "def review_to_words(review):\n",
    "    text = BeautifulSoup(review, \"html.parser\").get_text() # Remove HTML tags\n",
    "    text = re.sub(r\"[^a-zA-Z0-9]\", \" \", text.lower()) # Convert to lower case\n",
    "    words = text.split() # Split string into words\n",
    "    words = [w for w in words if w not in stopwords.words(\"english\")] # Remove stopwords\n",
    "    words = [PorterStemmer().stem(w) for w in words] # stem\n",
    "    \n",
    "    return words"
   ]
  },
  {
   "cell_type": "code",
   "execution_count": 9,
   "metadata": {},
   "outputs": [],
   "source": [
    "import pickle\n",
    "\n",
    "cache_dir = os.path.join(\"../cache\", \"sentiment_analysis\")  # where to store cache files\n",
    "os.makedirs(cache_dir, exist_ok=True)  # ensure cache directory exists\n",
    "\n",
    "def preprocess_data(data_train, data_test, labels_train, labels_test,\n",
    "                    cache_dir=cache_dir, cache_file=\"preprocessed_data.pkl\"):\n",
    "    \"\"\"Convert each review to words; read from cache if available.\"\"\"\n",
    "\n",
    "    # If cache_file is not None, try to read from it first\n",
    "    cache_data = None\n",
    "    if cache_file is not None:\n",
    "        try:\n",
    "            with open(os.path.join(cache_dir, cache_file), \"rb\") as f:\n",
    "                cache_data = pickle.load(f)\n",
    "            print(\"Read preprocessed data from cache file:\", cache_file)\n",
    "        except:\n",
    "            pass  # unable to read from cache, but that's okay\n",
    "    \n",
    "    # If cache is missing, then do the heavy lifting\n",
    "    if cache_data is None:\n",
    "        # Preprocess training and test data to obtain words for each review\n",
    "        #words_train = list(map(review_to_words, data_train))\n",
    "        #words_test = list(map(review_to_words, data_test))\n",
    "        words_train = [review_to_words(review) for review in data_train]\n",
    "        words_test = [review_to_words(review) for review in data_test]\n",
    "        \n",
    "        # Write to cache file for future runs\n",
    "        if cache_file is not None:\n",
    "            cache_data = dict(words_train=words_train, words_test=words_test,\n",
    "                              labels_train=labels_train, labels_test=labels_test)\n",
    "            with open(os.path.join(cache_dir, cache_file), \"wb\") as f:\n",
    "                pickle.dump(cache_data, f)\n",
    "            print(\"Wrote preprocessed data to cache file:\", cache_file)\n",
    "    else:\n",
    "        # Unpack data loaded from cache file\n",
    "        words_train, words_test, labels_train, labels_test = (cache_data['words_train'],\n",
    "                cache_data['words_test'], cache_data['labels_train'], cache_data['labels_test'])\n",
    "    \n",
    "    return words_train, words_test, labels_train, labels_test"
   ]
  },
  {
   "cell_type": "code",
   "execution_count": 10,
   "metadata": {},
   "outputs": [
    {
     "name": "stdout",
     "output_type": "stream",
     "text": [
      "Read preprocessed data from cache file: preprocessed_data.pkl\n"
     ]
    }
   ],
   "source": [
    "# Preprocess data\n",
    "train_X, test_X, train_y, test_y = preprocess_data(train_X, test_X, train_y, test_y)"
   ]
  },
  {
   "cell_type": "markdown",
   "metadata": {},
   "source": [
    "### Extract Bag-of-Words features\n",
    "\n",
    "For the model we will be implementing, rather than using the reviews directly, we are going to transform each review into a Bag-of-Words feature representation. Keep in mind that 'in the wild' we will only have access to the training set so our transformer can only use the training set to construct a representation."
   ]
  },
  {
   "cell_type": "code",
   "execution_count": 11,
   "metadata": {},
   "outputs": [],
   "source": [
    "import numpy as np\n",
    "from sklearn.feature_extraction.text import CountVectorizer\n",
    "from sklearn.externals import joblib\n",
    "# joblib is an enhanced version of pickle that is more efficient for storing NumPy arrays\n",
    "\n",
    "def extract_BoW_features(words_train, words_test, vocabulary_size=5000,\n",
    "                         cache_dir=cache_dir, cache_file=\"bow_features.pkl\"):\n",
    "    \"\"\"Extract Bag-of-Words for a given set of documents, already preprocessed into words.\"\"\"\n",
    "    \n",
    "    # If cache_file is not None, try to read from it first\n",
    "    cache_data = None\n",
    "    if cache_file is not None:\n",
    "        try:\n",
    "            with open(os.path.join(cache_dir, cache_file), \"rb\") as f:\n",
    "                cache_data = joblib.load(f)\n",
    "            print(\"Read features from cache file:\", cache_file)\n",
    "        except:\n",
    "            pass  # unable to read from cache, but that's okay\n",
    "    \n",
    "    # If cache is missing, then do the heavy lifting\n",
    "    if cache_data is None:\n",
    "        # Fit a vectorizer to training documents and use it to transform them\n",
    "        # NOTE: Training documents have already been preprocessed and tokenized into words;\n",
    "        #       pass in dummy functions to skip those steps, e.g. preprocessor=lambda x: x\n",
    "        vectorizer = CountVectorizer(max_features=vocabulary_size,\n",
    "                preprocessor=lambda x: x, tokenizer=lambda x: x)  # already preprocessed\n",
    "        features_train = vectorizer.fit_transform(words_train).toarray()\n",
    "\n",
    "        # Apply the same vectorizer to transform the test documents (ignore unknown words)\n",
    "        features_test = vectorizer.transform(words_test).toarray()\n",
    "        \n",
    "        # NOTE: Remember to convert the features using .toarray() for a compact representation\n",
    "        \n",
    "        # Write to cache file for future runs (store vocabulary as well)\n",
    "        if cache_file is not None:\n",
    "            vocabulary = vectorizer.vocabulary_\n",
    "            cache_data = dict(features_train=features_train, features_test=features_test,\n",
    "                             vocabulary=vocabulary)\n",
    "            with open(os.path.join(cache_dir, cache_file), \"wb\") as f:\n",
    "                joblib.dump(cache_data, f)\n",
    "            print(\"Wrote features to cache file:\", cache_file)\n",
    "    else:\n",
    "        # Unpack data loaded from cache file\n",
    "        features_train, features_test, vocabulary = (cache_data['features_train'],\n",
    "                cache_data['features_test'], cache_data['vocabulary'])\n",
    "    \n",
    "    # Return both the extracted features as well as the vocabulary\n",
    "    return features_train, features_test, vocabulary"
   ]
  },
  {
   "cell_type": "code",
   "execution_count": 12,
   "metadata": {},
   "outputs": [
    {
     "name": "stdout",
     "output_type": "stream",
     "text": [
      "Read features from cache file: bow_features.pkl\n"
     ]
    }
   ],
   "source": [
    "# Extract Bag of Words features for both training and test datasets\n",
    "train_X, test_X, vocabulary = extract_BoW_features(train_X, test_X)"
   ]
  },
  {
   "cell_type": "markdown",
   "metadata": {},
   "source": [
    "## Step 4: Classification using XGBoost\n",
    "\n",
    "Now that we have created the feature representation of our training (and testing) data, it is time to start setting up and using the XGBoost classifier provided by SageMaker.\n",
    "\n",
    "### Writing the dataset\n",
    "\n",
    "The XGBoost classifier that we will be using requires the dataset to be written to a file and stored using Amazon S3. To do this, we will start by splitting the training dataset into two parts, the data we will train the model with and a validation set. Then, we will write those datasets to a file and upload the files to S3. In addition, we will write the test set input to a file and upload the file to S3. This is so that we can use SageMakers Batch Transform functionality to test our model once we've fit it."
   ]
  },
  {
   "cell_type": "code",
   "execution_count": 13,
   "metadata": {},
   "outputs": [],
   "source": [
    "import pandas as pd\n",
    "\n",
    "val_X = pd.DataFrame(train_X[:10000])\n",
    "train_X = pd.DataFrame(train_X[10000:])\n",
    "\n",
    "val_y = pd.DataFrame(train_y[:10000])\n",
    "train_y = pd.DataFrame(train_y[10000:])\n",
    "\n",
    "test_y = pd.DataFrame(test_y)\n",
    "test_X = pd.DataFrame(test_X)"
   ]
  },
  {
   "cell_type": "markdown",
   "metadata": {},
   "source": [
    "The documentation for the XGBoost algorithm in SageMaker requires that the saved datasets should contain no headers or index and that for the training and validation data, the label should occur first for each sample.\n",
    "\n",
    "For more information about this and other algorithms, the SageMaker developer documentation can be found on __[Amazon's website.](https://docs.aws.amazon.com/sagemaker/latest/dg/)__"
   ]
  },
  {
   "cell_type": "code",
   "execution_count": 14,
   "metadata": {},
   "outputs": [],
   "source": [
    "# First we make sure that the local directory in which we'd like to store the training and validation csv files exists.\n",
    "data_dir = '../data/xgboost'\n",
    "if not os.path.exists(data_dir):\n",
    "    os.makedirs(data_dir)"
   ]
  },
  {
   "cell_type": "code",
   "execution_count": 15,
   "metadata": {},
   "outputs": [],
   "source": [
    "# First, save the test data to test.csv in the data_dir directory. Note that we do not save the associated ground truth\n",
    "# labels, instead we will use them later to compare with our model output.\n",
    "\n",
    "pd.DataFrame(test_X).to_csv(os.path.join(data_dir, 'test.csv'), header=False, index=False)\n",
    "pd.concat([val_y, val_X], axis=1).to_csv(os.path.join(data_dir, 'validation.csv'), header=False, index=False)\n",
    "pd.concat([train_y, train_X], axis=1).to_csv(os.path.join(data_dir, 'train.csv'), header=False, index=False)"
   ]
  },
  {
   "cell_type": "code",
   "execution_count": 16,
   "metadata": {},
   "outputs": [],
   "source": [
    "# To save a bit of memory we can set text_X, train_X, val_X, train_y and val_y to None.\n",
    "\n",
    "train_X = val_X = train_y = val_y = None"
   ]
  },
  {
   "cell_type": "markdown",
   "metadata": {},
   "source": [
    "### Uploading Training / Validation files to S3\n",
    "\n",
    "Amazon's S3 service allows us to store files that can be access by both the built-in training models such as the XGBoost model we will be using as well as custom models such as the one we will see a little later.\n",
    "\n",
    "For this, and most other tasks we will be doing using SageMaker, there are two methods we could use. The first is to use the low level functionality of SageMaker which requires knowing each of the objects involved in the SageMaker environment. The second is to use the high level functionality in which certain choices have been made on the user's behalf. The low level approach benefits from allowing the user a great deal of flexibility while the high level approach makes development much quicker. For our purposes we will opt to use the high level approach although using the low-level approach is certainly an option.\n",
    "\n",
    "Recall the method `upload_data()` which is a member of object representing our current SageMaker session. What this method does is upload the data to the default bucket (which is created if it does not exist) into the path described by the key_prefix variable. To see this for yourself, once you have uploaded the data files, go to the S3 console and look to see where the files have been uploaded.\n",
    "\n",
    "For additional resources, see the __[SageMaker API documentation](http://sagemaker.readthedocs.io/en/latest/)__ and in addition the __[SageMaker Developer Guide.](https://docs.aws.amazon.com/sagemaker/latest/dg/)__"
   ]
  },
  {
   "cell_type": "code",
   "execution_count": 17,
   "metadata": {},
   "outputs": [],
   "source": [
    "import sagemaker\n",
    "\n",
    "session = sagemaker.Session() # Store the current SageMaker session\n",
    "\n",
    "# S3 prefix (which folder will we use)\n",
    "prefix = 'sentiment-xgboost'\n",
    "\n",
    "test_location = session.upload_data(os.path.join(data_dir, 'test.csv'), key_prefix=prefix)\n",
    "val_location = session.upload_data(os.path.join(data_dir, 'validation.csv'), key_prefix=prefix)\n",
    "train_location = session.upload_data(os.path.join(data_dir, 'train.csv'), key_prefix=prefix)"
   ]
  },
  {
   "cell_type": "markdown",
   "metadata": {},
   "source": [
    "### (TODO) Creating a hypertuned XGBoost model\n",
    "\n",
    "Now that the data has been uploaded it is time to create the XGBoost model. As in the Boston Housing notebook, the first step is to create an estimator object which will be used as the *base* of your hyperparameter tuning job."
   ]
  },
  {
   "cell_type": "code",
   "execution_count": 18,
   "metadata": {},
   "outputs": [],
   "source": [
    "from sagemaker import get_execution_role\n",
    "\n",
    "# Our current execution role is require when creating the model as the training\n",
    "# and inference code will need to access the model artifacts.\n",
    "role = get_execution_role()"
   ]
  },
  {
   "cell_type": "code",
   "execution_count": 19,
   "metadata": {},
   "outputs": [],
   "source": [
    "# We need to retrieve the location of the container which is provided by Amazon for using XGBoost.\n",
    "# As a matter of convenience, the training and inference code both use the same container.\n",
    "from sagemaker.amazon.amazon_estimator import get_image_uri\n",
    "\n",
    "container = get_image_uri(session.boto_region_name, 'xgboost')"
   ]
  },
  {
   "cell_type": "code",
   "execution_count": 20,
   "metadata": {},
   "outputs": [],
   "source": [
    "# TODO: Create a SageMaker estimator using the container location determined in the previous cell.\n",
    "#       It is recommended that you use a single training instance of type ml.m4.xlarge. It is also\n",
    "#       recommended that you use 's3://{}/{}/output'.format(session.default_bucket(), prefix) as the\n",
    "#       output path.\n",
    "\n",
    "xgb = sagemaker.estimator.Estimator(container,\n",
    "                                    role,\n",
    "                                    train_instance_count=1,\n",
    "                                    train_instance_type='ml.m4.xlarge',\n",
    "                                    output_path='s3://{}/{}/output'.format(session.default_bucket(), prefix))\n",
    "\n",
    "# TODO: Set the XGBoost hyperparameters in the xgb object. Don't forget that in this case we have a binary\n",
    "#       label so we should be using the 'binary:logistic' objective.\n",
    "\n",
    "xgb.set_hyperparameters(max_depth=5,\n",
    "                        eta=0.2,\n",
    "                        gamma=4,\n",
    "                        min_child_weight=6,\n",
    "                        subsample=0.8,\n",
    "                        objective='binary:logistic',\n",
    "                        early_stopping_rounds=10,\n",
    "                        num_round=200)"
   ]
  },
  {
   "cell_type": "markdown",
   "metadata": {},
   "source": [
    "### (TODO) Create the hyperparameter tuner\n",
    "\n",
    "Now that the base estimator has been set up we need to construct a hyperparameter tuner object which we will use to request SageMaker construct a hyperparameter tuning job.\n",
    "\n",
    "**Note:** Training a single sentiment analysis XGBoost model takes longer than training a Boston Housing XGBoost model so if you don't want the hyperparameter tuning job to take too long, make sure to not set the total number of models (jobs) too high."
   ]
  },
  {
   "cell_type": "code",
   "execution_count": 21,
   "metadata": {},
   "outputs": [],
   "source": [
    "# First, make sure to import the relevant objects used to construct the tuner\n",
    "from sagemaker.tuner import IntegerParameter, ContinuousParameter, HyperparameterTuner\n",
    "\n",
    "# TODO: Create the hyperparameter tuner object\n",
    "\n",
    "xgb_hyperparameter_tuner = HyperparameterTuner(estimator=xgb,\n",
    "                                               objective_metric_name='validation:rmse',\n",
    "                                               objective_type='Minimize',\n",
    "                                               max_jobs=20,\n",
    "                                               max_parallel_jobs=3,\n",
    "                                               hyperparameter_ranges={\n",
    "                                                   'max_depth':IntegerParameter(3, 12),\n",
    "                                                    'eta':ContinuousParameter(0.05, 0.5),\n",
    "                                                    'min_child_weight':IntegerParameter(2, 8),\n",
    "                                                    'subsample':ContinuousParameter(0.5, 0.9),\n",
    "                                                    'gamma':ContinuousParameter(0, 10),\n",
    "                                               })\n",
    "\n"
   ]
  },
  {
   "cell_type": "markdown",
   "metadata": {},
   "source": [
    "### Fit the hyperparameter tuner\n",
    "\n",
    "Now that the hyperparameter tuner object has been constructed, it is time to fit the various models and find the best performing model."
   ]
  },
  {
   "cell_type": "code",
   "execution_count": 22,
   "metadata": {},
   "outputs": [],
   "source": [
    "s3_input_train = sagemaker.s3_input(s3_data=train_location, content_type='csv')\n",
    "s3_input_validation = sagemaker.s3_input(s3_data=val_location, content_type='csv')"
   ]
  },
  {
   "cell_type": "code",
   "execution_count": 23,
   "metadata": {},
   "outputs": [],
   "source": [
    "xgb_hyperparameter_tuner.fit({'train': s3_input_train, 'validation': s3_input_validation})"
   ]
  },
  {
   "cell_type": "markdown",
   "metadata": {},
   "source": [
    "Remember that the tuning job is constructed and run in the background so if we want to see the progress of our training job we need to call the `wait()` method."
   ]
  },
  {
   "cell_type": "code",
   "execution_count": 24,
   "metadata": {},
   "outputs": [
    {
     "name": "stdout",
     "output_type": "stream",
     "text": [
      "..................................................................................................................................................................................................................................................................................................................................................................................................................................................................................................................................................................................................................................................................................................................................................................................!\n"
     ]
    }
   ],
   "source": [
    "xgb_hyperparameter_tuner.wait()"
   ]
  },
  {
   "cell_type": "markdown",
   "metadata": {},
   "source": [
    "### (TODO) Testing the model\n",
    "\n",
    "Now that we've run our hyperparameter tuning job, it's time to see how well the best performing model actually performs. To do this we will use SageMaker's Batch Transform functionality. Batch Transform is a convenient way to perform inference on a large dataset in a way that is not realtime. That is, we don't necessarily need to use our model's results immediately and instead we can peform inference on a large number of samples. An example of this in industry might be peforming an end of month report. This method of inference can also be useful to us as it means to can perform inference on our entire test set. \n",
    "\n",
    "Remember that in order to create a transformer object to perform the batch transform job, we need a trained estimator object. We can do that using the `attach()` method, creating an estimator object which is attached to the best trained job."
   ]
  },
  {
   "cell_type": "code",
   "execution_count": 25,
   "metadata": {},
   "outputs": [
    {
     "name": "stdout",
     "output_type": "stream",
     "text": [
      "2019-05-04 23:59:56 Starting - Preparing the instances for training\n",
      "2019-05-04 23:59:56 Downloading - Downloading input data\n",
      "2019-05-04 23:59:56 Training - Training image download completed. Training in progress.\n",
      "2019-05-04 23:59:56 Uploading - Uploading generated training model\n",
      "2019-05-04 23:59:56 Completed - Training job completed\u001b[31mArguments: train\u001b[0m\n",
      "\u001b[31m[2019-05-04:23:54:15:INFO] Running standalone xgboost training.\u001b[0m\n",
      "\u001b[31m[2019-05-04:23:54:15:INFO] Setting up HPO optimized metric to be : rmse\u001b[0m\n",
      "\u001b[31m[2019-05-04:23:54:15:INFO] File size need to be processed in the node: 238.47mb. Available memory size in the node: 8401.54mb\u001b[0m\n",
      "\u001b[31m[2019-05-04:23:54:15:INFO] Determined delimiter of CSV input is ','\u001b[0m\n",
      "\u001b[31m[23:54:15] S3DistributionType set as FullyReplicated\u001b[0m\n",
      "\u001b[31m[23:54:18] 15000x5000 matrix with 75000000 entries loaded from /opt/ml/input/data/train?format=csv&label_column=0&delimiter=,\u001b[0m\n",
      "\u001b[31m[2019-05-04:23:54:18:INFO] Determined delimiter of CSV input is ','\u001b[0m\n",
      "\u001b[31m[23:54:18] S3DistributionType set as FullyReplicated\u001b[0m\n",
      "\u001b[31m[23:54:19] 10000x5000 matrix with 50000000 entries loaded from /opt/ml/input/data/validation?format=csv&label_column=0&delimiter=,\u001b[0m\n",
      "\u001b[31m[23:54:22] src/tree/updater_prune.cc:74: tree pruning end, 1 roots, 112 extra nodes, 16 pruned nodes, max_depth=7\u001b[0m\n",
      "\u001b[31m[0]#011train-rmse:0.468754#011validation-rmse:0.471813\u001b[0m\n",
      "\u001b[31mMultiple eval metrics have been passed: 'validation-rmse' will be used for early stopping.\n",
      "\u001b[0m\n",
      "\u001b[31mWill train until validation-rmse hasn't improved in 10 rounds.\u001b[0m\n",
      "\u001b[31m[23:54:24] src/tree/updater_prune.cc:74: tree pruning end, 1 roots, 114 extra nodes, 14 pruned nodes, max_depth=7\u001b[0m\n",
      "\u001b[31m[1]#011train-rmse:0.448413#011validation-rmse:0.454256\u001b[0m\n",
      "\u001b[31m[23:54:26] src/tree/updater_prune.cc:74: tree pruning end, 1 roots, 88 extra nodes, 26 pruned nodes, max_depth=7\u001b[0m\n",
      "\u001b[31m[2]#011train-rmse:0.433851#011validation-rmse:0.441565\u001b[0m\n",
      "\u001b[31m[23:54:28] src/tree/updater_prune.cc:74: tree pruning end, 1 roots, 74 extra nodes, 12 pruned nodes, max_depth=7\u001b[0m\n",
      "\u001b[31m[3]#011train-rmse:0.422806#011validation-rmse:0.432033\u001b[0m\n",
      "\u001b[31m[23:54:29] src/tree/updater_prune.cc:74: tree pruning end, 1 roots, 86 extra nodes, 24 pruned nodes, max_depth=7\u001b[0m\n",
      "\u001b[31m[4]#011train-rmse:0.412362#011validation-rmse:0.423472\u001b[0m\n",
      "\u001b[31m[23:54:31] src/tree/updater_prune.cc:74: tree pruning end, 1 roots, 72 extra nodes, 10 pruned nodes, max_depth=7\u001b[0m\n",
      "\u001b[31m[5]#011train-rmse:0.404341#011validation-rmse:0.417043\u001b[0m\n",
      "\u001b[31m[23:54:33] src/tree/updater_prune.cc:74: tree pruning end, 1 roots, 60 extra nodes, 8 pruned nodes, max_depth=7\u001b[0m\n",
      "\u001b[31m[6]#011train-rmse:0.39758#011validation-rmse:0.411009\u001b[0m\n",
      "\u001b[31m[23:54:34] src/tree/updater_prune.cc:74: tree pruning end, 1 roots, 110 extra nodes, 22 pruned nodes, max_depth=7\u001b[0m\n",
      "\u001b[31m[7]#011train-rmse:0.38916#011validation-rmse:0.405471\u001b[0m\n",
      "\u001b[31m[23:54:36] src/tree/updater_prune.cc:74: tree pruning end, 1 roots, 60 extra nodes, 18 pruned nodes, max_depth=7\u001b[0m\n",
      "\u001b[31m[8]#011train-rmse:0.383326#011validation-rmse:0.400794\u001b[0m\n",
      "\u001b[31m[23:54:38] src/tree/updater_prune.cc:74: tree pruning end, 1 roots, 72 extra nodes, 16 pruned nodes, max_depth=7\u001b[0m\n",
      "\u001b[31m[9]#011train-rmse:0.377356#011validation-rmse:0.396277\u001b[0m\n",
      "\u001b[31m[23:54:39] src/tree/updater_prune.cc:74: tree pruning end, 1 roots, 72 extra nodes, 18 pruned nodes, max_depth=7\u001b[0m\n",
      "\u001b[31m[10]#011train-rmse:0.372364#011validation-rmse:0.392613\u001b[0m\n",
      "\u001b[31m[23:54:41] src/tree/updater_prune.cc:74: tree pruning end, 1 roots, 62 extra nodes, 18 pruned nodes, max_depth=7\u001b[0m\n",
      "\u001b[31m[11]#011train-rmse:0.367255#011validation-rmse:0.388851\u001b[0m\n",
      "\u001b[31m[23:54:42] src/tree/updater_prune.cc:74: tree pruning end, 1 roots, 54 extra nodes, 30 pruned nodes, max_depth=7\u001b[0m\n",
      "\u001b[31m[12]#011train-rmse:0.36284#011validation-rmse:0.385915\u001b[0m\n",
      "\u001b[31m[23:54:44] src/tree/updater_prune.cc:74: tree pruning end, 1 roots, 46 extra nodes, 18 pruned nodes, max_depth=7\u001b[0m\n",
      "\u001b[31m[13]#011train-rmse:0.359264#011validation-rmse:0.382698\u001b[0m\n",
      "\u001b[31m[23:54:46] src/tree/updater_prune.cc:74: tree pruning end, 1 roots, 64 extra nodes, 20 pruned nodes, max_depth=7\u001b[0m\n",
      "\u001b[31m[14]#011train-rmse:0.355421#011validation-rmse:0.380342\u001b[0m\n",
      "\u001b[31m[23:54:47] src/tree/updater_prune.cc:74: tree pruning end, 1 roots, 52 extra nodes, 12 pruned nodes, max_depth=7\u001b[0m\n",
      "\u001b[31m[15]#011train-rmse:0.352084#011validation-rmse:0.378003\u001b[0m\n",
      "\u001b[31m[23:54:49] src/tree/updater_prune.cc:74: tree pruning end, 1 roots, 76 extra nodes, 20 pruned nodes, max_depth=7\u001b[0m\n",
      "\u001b[31m[16]#011train-rmse:0.348251#011validation-rmse:0.375593\u001b[0m\n",
      "\u001b[31m[23:54:51] src/tree/updater_prune.cc:74: tree pruning end, 1 roots, 78 extra nodes, 12 pruned nodes, max_depth=7\u001b[0m\n",
      "\u001b[31m[17]#011train-rmse:0.344247#011validation-rmse:0.372942\u001b[0m\n",
      "\u001b[31m[23:54:52] src/tree/updater_prune.cc:74: tree pruning end, 1 roots, 48 extra nodes, 16 pruned nodes, max_depth=7\u001b[0m\n",
      "\u001b[31m[18]#011train-rmse:0.341712#011validation-rmse:0.37132\u001b[0m\n",
      "\u001b[31m[23:54:54] src/tree/updater_prune.cc:74: tree pruning end, 1 roots, 42 extra nodes, 26 pruned nodes, max_depth=7\u001b[0m\n",
      "\u001b[31m[19]#011train-rmse:0.339404#011validation-rmse:0.369476\u001b[0m\n",
      "\u001b[31m[23:54:55] src/tree/updater_prune.cc:74: tree pruning end, 1 roots, 56 extra nodes, 20 pruned nodes, max_depth=7\u001b[0m\n",
      "\u001b[31m[20]#011train-rmse:0.336287#011validation-rmse:0.367898\u001b[0m\n",
      "\u001b[31m[23:54:57] src/tree/updater_prune.cc:74: tree pruning end, 1 roots, 66 extra nodes, 20 pruned nodes, max_depth=7\u001b[0m\n",
      "\u001b[31m[21]#011train-rmse:0.333095#011validation-rmse:0.366217\u001b[0m\n",
      "\u001b[31m[23:54:59] src/tree/updater_prune.cc:74: tree pruning end, 1 roots, 84 extra nodes, 36 pruned nodes, max_depth=7\u001b[0m\n",
      "\u001b[31m[22]#011train-rmse:0.329333#011validation-rmse:0.364682\u001b[0m\n",
      "\u001b[31m[23:55:00] src/tree/updater_prune.cc:74: tree pruning end, 1 roots, 72 extra nodes, 10 pruned nodes, max_depth=7\u001b[0m\n",
      "\u001b[31m[23]#011train-rmse:0.326303#011validation-rmse:0.36327\u001b[0m\n",
      "\u001b[31m[23:55:02] src/tree/updater_prune.cc:74: tree pruning end, 1 roots, 30 extra nodes, 32 pruned nodes, max_depth=7\u001b[0m\n",
      "\u001b[31m[24]#011train-rmse:0.324538#011validation-rmse:0.361695\u001b[0m\n",
      "\u001b[31m[23:55:04] src/tree/updater_prune.cc:74: tree pruning end, 1 roots, 54 extra nodes, 34 pruned nodes, max_depth=7\u001b[0m\n",
      "\u001b[31m[25]#011train-rmse:0.322031#011validation-rmse:0.360001\u001b[0m\n",
      "\u001b[31m[23:55:05] src/tree/updater_prune.cc:74: tree pruning end, 1 roots, 30 extra nodes, 32 pruned nodes, max_depth=7\u001b[0m\n",
      "\u001b[31m[26]#011train-rmse:0.320363#011validation-rmse:0.358983\u001b[0m\n",
      "\u001b[31m[23:55:07] src/tree/updater_prune.cc:74: tree pruning end, 1 roots, 64 extra nodes, 20 pruned nodes, max_depth=7\u001b[0m\n",
      "\u001b[31m[27]#011train-rmse:0.317947#011validation-rmse:0.357659\u001b[0m\n",
      "\u001b[31m[23:55:08] src/tree/updater_prune.cc:74: tree pruning end, 1 roots, 32 extra nodes, 20 pruned nodes, max_depth=7\u001b[0m\n",
      "\u001b[31m[28]#011train-rmse:0.316386#011validation-rmse:0.356191\u001b[0m\n",
      "\u001b[31m[23:55:10] src/tree/updater_prune.cc:74: tree pruning end, 1 roots, 46 extra nodes, 26 pruned nodes, max_depth=7\u001b[0m\n",
      "\u001b[31m[29]#011train-rmse:0.314343#011validation-rmse:0.354965\u001b[0m\n",
      "\u001b[31m[23:55:12] src/tree/updater_prune.cc:74: tree pruning end, 1 roots, 54 extra nodes, 20 pruned nodes, max_depth=7\u001b[0m\n",
      "\u001b[31m[30]#011train-rmse:0.311906#011validation-rmse:0.353722\u001b[0m\n",
      "\u001b[31m[23:55:13] src/tree/updater_prune.cc:74: tree pruning end, 1 roots, 34 extra nodes, 14 pruned nodes, max_depth=7\u001b[0m\n",
      "\u001b[31m[31]#011train-rmse:0.310178#011validation-rmse:0.352628\u001b[0m\n",
      "\u001b[31m[23:55:15] src/tree/updater_prune.cc:74: tree pruning end, 1 roots, 62 extra nodes, 22 pruned nodes, max_depth=7\u001b[0m\n",
      "\u001b[31m[32]#011train-rmse:0.307676#011validation-rmse:0.351466\u001b[0m\n",
      "\u001b[31m[23:55:17] src/tree/updater_prune.cc:74: tree pruning end, 1 roots, 46 extra nodes, 22 pruned nodes, max_depth=7\u001b[0m\n",
      "\u001b[31m[33]#011train-rmse:0.305915#011validation-rmse:0.35038\u001b[0m\n",
      "\u001b[31m[23:55:18] src/tree/updater_prune.cc:74: tree pruning end, 1 roots, 62 extra nodes, 28 pruned nodes, max_depth=7\u001b[0m\n",
      "\u001b[31m[34]#011train-rmse:0.303295#011validation-rmse:0.349578\u001b[0m\n",
      "\u001b[31m[23:55:20] src/tree/updater_prune.cc:74: tree pruning end, 1 roots, 38 extra nodes, 22 pruned nodes, max_depth=7\u001b[0m\n",
      "\u001b[31m[35]#011train-rmse:0.301733#011validation-rmse:0.348741\u001b[0m\n",
      "\u001b[31m[23:55:21] src/tree/updater_prune.cc:74: tree pruning end, 1 roots, 36 extra nodes, 22 pruned nodes, max_depth=7\u001b[0m\n",
      "\u001b[31m[36]#011train-rmse:0.300306#011validation-rmse:0.347681\u001b[0m\n",
      "\u001b[31m[23:55:23] src/tree/updater_prune.cc:74: tree pruning end, 1 roots, 66 extra nodes, 16 pruned nodes, max_depth=7\u001b[0m\n",
      "\u001b[31m[37]#011train-rmse:0.298071#011validation-rmse:0.346861\u001b[0m\n",
      "\u001b[31m[23:55:25] src/tree/updater_prune.cc:74: tree pruning end, 1 roots, 30 extra nodes, 28 pruned nodes, max_depth=7\u001b[0m\n",
      "\u001b[31m[38]#011train-rmse:0.296775#011validation-rmse:0.346132\u001b[0m\n",
      "\u001b[31m[23:55:26] src/tree/updater_prune.cc:74: tree pruning end, 1 roots, 44 extra nodes, 18 pruned nodes, max_depth=7\u001b[0m\n",
      "\u001b[31m[39]#011train-rmse:0.295161#011validation-rmse:0.345229\u001b[0m\n",
      "\u001b[31m[23:55:28] src/tree/updater_prune.cc:74: tree pruning end, 1 roots, 44 extra nodes, 24 pruned nodes, max_depth=7\u001b[0m\n",
      "\u001b[31m[40]#011train-rmse:0.293587#011validation-rmse:0.344299\u001b[0m\n",
      "\u001b[31m[23:55:30] src/tree/updater_prune.cc:74: tree pruning end, 1 roots, 26 extra nodes, 22 pruned nodes, max_depth=7\u001b[0m\n",
      "\u001b[31m[41]#011train-rmse:0.292537#011validation-rmse:0.343619\u001b[0m\n",
      "\u001b[31m[23:55:31] src/tree/updater_prune.cc:74: tree pruning end, 1 roots, 50 extra nodes, 26 pruned nodes, max_depth=7\u001b[0m\n",
      "\u001b[31m[42]#011train-rmse:0.290922#011validation-rmse:0.342968\u001b[0m\n",
      "\u001b[31m[23:55:33] src/tree/updater_prune.cc:74: tree pruning end, 1 roots, 62 extra nodes, 32 pruned nodes, max_depth=7\u001b[0m\n",
      "\u001b[31m[43]#011train-rmse:0.288897#011validation-rmse:0.342398\u001b[0m\n",
      "\u001b[31m[23:55:34] src/tree/updater_prune.cc:74: tree pruning end, 1 roots, 36 extra nodes, 30 pruned nodes, max_depth=7\u001b[0m\n",
      "\u001b[31m[44]#011train-rmse:0.287487#011validation-rmse:0.341694\u001b[0m\n",
      "\u001b[31m[23:55:36] src/tree/updater_prune.cc:74: tree pruning end, 1 roots, 36 extra nodes, 32 pruned nodes, max_depth=7\u001b[0m\n",
      "\u001b[31m[45]#011train-rmse:0.286396#011validation-rmse:0.341254\u001b[0m\n",
      "\u001b[31m[23:55:38] src/tree/updater_prune.cc:74: tree pruning end, 1 roots, 38 extra nodes, 14 pruned nodes, max_depth=7\u001b[0m\n",
      "\u001b[31m[46]#011train-rmse:0.285018#011validation-rmse:0.340823\u001b[0m\n",
      "\u001b[31m[23:55:39] src/tree/updater_prune.cc:74: tree pruning end, 1 roots, 24 extra nodes, 20 pruned nodes, max_depth=7\u001b[0m\n",
      "\u001b[31m[47]#011train-rmse:0.284055#011validation-rmse:0.340076\u001b[0m\n",
      "\u001b[31m[23:55:41] src/tree/updater_prune.cc:74: tree pruning end, 1 roots, 52 extra nodes, 22 pruned nodes, max_depth=7\u001b[0m\n",
      "\u001b[31m[48]#011train-rmse:0.282169#011validation-rmse:0.339481\u001b[0m\n",
      "\u001b[31m[23:55:43] src/tree/updater_prune.cc:74: tree pruning end, 1 roots, 22 extra nodes, 30 pruned nodes, max_depth=7\u001b[0m\n",
      "\u001b[31m[49]#011train-rmse:0.281203#011validation-rmse:0.33874\u001b[0m\n",
      "\u001b[31m[23:55:44] src/tree/updater_prune.cc:74: tree pruning end, 1 roots, 46 extra nodes, 16 pruned nodes, max_depth=7\u001b[0m\n",
      "\u001b[31m[50]#011train-rmse:0.279592#011validation-rmse:0.338273\u001b[0m\n",
      "\u001b[31m[23:55:46] src/tree/updater_prune.cc:74: tree pruning end, 1 roots, 28 extra nodes, 28 pruned nodes, max_depth=7\u001b[0m\n",
      "\u001b[31m[51]#011train-rmse:0.278592#011validation-rmse:0.337715\u001b[0m\n",
      "\u001b[31m[23:55:47] src/tree/updater_prune.cc:74: tree pruning end, 1 roots, 24 extra nodes, 26 pruned nodes, max_depth=7\u001b[0m\n",
      "\u001b[31m[52]#011train-rmse:0.277803#011validation-rmse:0.337445\u001b[0m\n",
      "\u001b[31m[23:55:49] src/tree/updater_prune.cc:74: tree pruning end, 1 roots, 28 extra nodes, 10 pruned nodes, max_depth=7\u001b[0m\n",
      "\u001b[31m[53]#011train-rmse:0.27667#011validation-rmse:0.336586\u001b[0m\n",
      "\u001b[31m[23:55:51] src/tree/updater_prune.cc:74: tree pruning end, 1 roots, 26 extra nodes, 28 pruned nodes, max_depth=7\u001b[0m\n",
      "\u001b[31m[54]#011train-rmse:0.275744#011validation-rmse:0.336051\u001b[0m\n",
      "\u001b[31m[23:55:52] src/tree/updater_prune.cc:74: tree pruning end, 1 roots, 34 extra nodes, 16 pruned nodes, max_depth=7\u001b[0m\n",
      "\u001b[31m[55]#011train-rmse:0.27463#011validation-rmse:0.335631\u001b[0m\n",
      "\u001b[31m[23:55:54] src/tree/updater_prune.cc:74: tree pruning end, 1 roots, 42 extra nodes, 26 pruned nodes, max_depth=7\u001b[0m\n",
      "\u001b[31m[56]#011train-rmse:0.2733#011validation-rmse:0.335043\u001b[0m\n",
      "\u001b[31m[23:55:55] src/tree/updater_prune.cc:74: tree pruning end, 1 roots, 38 extra nodes, 28 pruned nodes, max_depth=7\u001b[0m\n",
      "\u001b[31m[57]#011train-rmse:0.272052#011validation-rmse:0.334361\u001b[0m\n",
      "\u001b[31m[23:55:57] src/tree/updater_prune.cc:74: tree pruning end, 1 roots, 36 extra nodes, 32 pruned nodes, max_depth=7\u001b[0m\n",
      "\u001b[31m[58]#011train-rmse:0.270922#011validation-rmse:0.334006\u001b[0m\n",
      "\u001b[31m[23:55:59] src/tree/updater_prune.cc:74: tree pruning end, 1 roots, 24 extra nodes, 8 pruned nodes, max_depth=7\u001b[0m\n",
      "\u001b[31m[59]#011train-rmse:0.270125#011validation-rmse:0.33344\u001b[0m\n",
      "\u001b[31m[23:56:00] src/tree/updater_prune.cc:74: tree pruning end, 1 roots, 42 extra nodes, 28 pruned nodes, max_depth=7\u001b[0m\n",
      "\u001b[31m[60]#011train-rmse:0.26899#011validation-rmse:0.332837\u001b[0m\n",
      "\u001b[31m[23:56:02] src/tree/updater_prune.cc:74: tree pruning end, 1 roots, 40 extra nodes, 14 pruned nodes, max_depth=7\u001b[0m\n",
      "\u001b[31m[61]#011train-rmse:0.267635#011validation-rmse:0.332438\u001b[0m\n",
      "\u001b[31m[23:56:04] src/tree/updater_prune.cc:74: tree pruning end, 1 roots, 20 extra nodes, 18 pruned nodes, max_depth=7\u001b[0m\n",
      "\u001b[31m[62]#011train-rmse:0.266936#011validation-rmse:0.332066\u001b[0m\n",
      "\u001b[31m[23:56:05] src/tree/updater_prune.cc:74: tree pruning end, 1 roots, 32 extra nodes, 22 pruned nodes, max_depth=7\u001b[0m\n",
      "\u001b[31m[63]#011train-rmse:0.265985#011validation-rmse:0.331512\u001b[0m\n",
      "\u001b[31m[23:56:07] src/tree/updater_prune.cc:74: tree pruning end, 1 roots, 44 extra nodes, 14 pruned nodes, max_depth=7\u001b[0m\n",
      "\u001b[31m[64]#011train-rmse:0.264551#011validation-rmse:0.331039\u001b[0m\n",
      "\u001b[31m[23:56:09] src/tree/updater_prune.cc:74: tree pruning end, 1 roots, 40 extra nodes, 22 pruned nodes, max_depth=7\u001b[0m\n",
      "\u001b[31m[65]#011train-rmse:0.263469#011validation-rmse:0.330625\u001b[0m\n",
      "\u001b[31m[23:56:10] src/tree/updater_prune.cc:74: tree pruning end, 1 roots, 28 extra nodes, 22 pruned nodes, max_depth=7\u001b[0m\n",
      "\u001b[31m[66]#011train-rmse:0.262756#011validation-rmse:0.330296\u001b[0m\n",
      "\u001b[31m[23:56:12] src/tree/updater_prune.cc:74: tree pruning end, 1 roots, 34 extra nodes, 20 pruned nodes, max_depth=7\u001b[0m\n",
      "\u001b[31m[67]#011train-rmse:0.261792#011validation-rmse:0.329853\u001b[0m\n",
      "\u001b[31m[23:56:13] src/tree/updater_prune.cc:74: tree pruning end, 1 roots, 28 extra nodes, 10 pruned nodes, max_depth=7\u001b[0m\n",
      "\u001b[31m[68]#011train-rmse:0.260862#011validation-rmse:0.329414\u001b[0m\n",
      "\u001b[31m[23:56:15] src/tree/updater_prune.cc:74: tree pruning end, 1 roots, 18 extra nodes, 16 pruned nodes, max_depth=7\u001b[0m\n",
      "\u001b[31m[69]#011train-rmse:0.260288#011validation-rmse:0.329223\u001b[0m\n",
      "\u001b[31m[23:56:17] src/tree/updater_prune.cc:74: tree pruning end, 1 roots, 44 extra nodes, 22 pruned nodes, max_depth=7\u001b[0m\n",
      "\u001b[31m[70]#011train-rmse:0.258957#011validation-rmse:0.32859\u001b[0m\n",
      "\u001b[31m[23:56:18] src/tree/updater_prune.cc:74: tree pruning end, 1 roots, 42 extra nodes, 42 pruned nodes, max_depth=7\u001b[0m\n",
      "\u001b[31m[71]#011train-rmse:0.257911#011validation-rmse:0.3284\u001b[0m\n",
      "\u001b[31m[23:56:20] src/tree/updater_prune.cc:74: tree pruning end, 1 roots, 28 extra nodes, 26 pruned nodes, max_depth=7\u001b[0m\n",
      "\u001b[31m[72]#011train-rmse:0.2572#011validation-rmse:0.328208\u001b[0m\n",
      "\u001b[31m[23:56:22] src/tree/updater_prune.cc:74: tree pruning end, 1 roots, 30 extra nodes, 18 pruned nodes, max_depth=7\u001b[0m\n",
      "\u001b[31m[73]#011train-rmse:0.256355#011validation-rmse:0.327927\u001b[0m\n",
      "\u001b[31m[23:56:23] src/tree/updater_prune.cc:74: tree pruning end, 1 roots, 24 extra nodes, 34 pruned nodes, max_depth=7\u001b[0m\n",
      "\u001b[31m[74]#011train-rmse:0.255625#011validation-rmse:0.327533\u001b[0m\n",
      "\u001b[31m[23:56:25] src/tree/updater_prune.cc:74: tree pruning end, 1 roots, 20 extra nodes, 14 pruned nodes, max_depth=7\u001b[0m\n",
      "\u001b[31m[75]#011train-rmse:0.255092#011validation-rmse:0.327296\u001b[0m\n",
      "\u001b[31m[23:56:26] src/tree/updater_prune.cc:74: tree pruning end, 1 roots, 18 extra nodes, 20 pruned nodes, max_depth=7\u001b[0m\n",
      "\u001b[31m[76]#011train-rmse:0.254515#011validation-rmse:0.327141\u001b[0m\n",
      "\u001b[31m[23:56:28] src/tree/updater_prune.cc:74: tree pruning end, 1 roots, 40 extra nodes, 20 pruned nodes, max_depth=7\u001b[0m\n",
      "\u001b[31m[77]#011train-rmse:0.253641#011validation-rmse:0.327056\u001b[0m\n",
      "\u001b[31m[23:56:30] src/tree/updater_prune.cc:74: tree pruning end, 1 roots, 28 extra nodes, 20 pruned nodes, max_depth=7\u001b[0m\n",
      "\u001b[31m[78]#011train-rmse:0.252863#011validation-rmse:0.32665\u001b[0m\n",
      "\u001b[31m[23:56:31] src/tree/updater_prune.cc:74: tree pruning end, 1 roots, 24 extra nodes, 14 pruned nodes, max_depth=7\u001b[0m\n",
      "\u001b[31m[79]#011train-rmse:0.252228#011validation-rmse:0.326084\u001b[0m\n",
      "\u001b[31m[23:56:33] src/tree/updater_prune.cc:74: tree pruning end, 1 roots, 24 extra nodes, 26 pruned nodes, max_depth=7\u001b[0m\n",
      "\u001b[31m[80]#011train-rmse:0.251571#011validation-rmse:0.325814\u001b[0m\n",
      "\u001b[31m[23:56:35] src/tree/updater_prune.cc:74: tree pruning end, 1 roots, 32 extra nodes, 26 pruned nodes, max_depth=7\u001b[0m\n",
      "\u001b[31m[81]#011train-rmse:0.250738#011validation-rmse:0.325573\u001b[0m\n",
      "\u001b[31m[23:56:36] src/tree/updater_prune.cc:74: tree pruning end, 1 roots, 22 extra nodes, 24 pruned nodes, max_depth=7\u001b[0m\n",
      "\u001b[31m[82]#011train-rmse:0.250097#011validation-rmse:0.325322\u001b[0m\n",
      "\u001b[31m[23:56:38] src/tree/updater_prune.cc:74: tree pruning end, 1 roots, 14 extra nodes, 8 pruned nodes, max_depth=7\u001b[0m\n",
      "\u001b[31m[83]#011train-rmse:0.249675#011validation-rmse:0.32492\u001b[0m\n",
      "\u001b[31m[23:56:40] src/tree/updater_prune.cc:74: tree pruning end, 1 roots, 20 extra nodes, 24 pruned nodes, max_depth=7\u001b[0m\n",
      "\u001b[31m[84]#011train-rmse:0.249212#011validation-rmse:0.324586\u001b[0m\n",
      "\u001b[31m[23:56:41] src/tree/updater_prune.cc:74: tree pruning end, 1 roots, 26 extra nodes, 34 pruned nodes, max_depth=7\u001b[0m\n",
      "\u001b[31m[85]#011train-rmse:0.248447#011validation-rmse:0.324417\u001b[0m\n",
      "\u001b[31m[23:56:43] src/tree/updater_prune.cc:74: tree pruning end, 1 roots, 22 extra nodes, 36 pruned nodes, max_depth=7\u001b[0m\n",
      "\u001b[31m[86]#011train-rmse:0.247865#011validation-rmse:0.324305\u001b[0m\n",
      "\u001b[31m[23:56:44] src/tree/updater_prune.cc:74: tree pruning end, 1 roots, 28 extra nodes, 28 pruned nodes, max_depth=7\u001b[0m\n",
      "\u001b[31m[87]#011train-rmse:0.247277#011validation-rmse:0.324097\u001b[0m\n",
      "\u001b[31m[23:56:46] src/tree/updater_prune.cc:74: tree pruning end, 1 roots, 20 extra nodes, 22 pruned nodes, max_depth=7\u001b[0m\n",
      "\u001b[31m[88]#011train-rmse:0.246691#011validation-rmse:0.324036\u001b[0m\n",
      "\u001b[31m[23:56:48] src/tree/updater_prune.cc:74: tree pruning end, 1 roots, 18 extra nodes, 16 pruned nodes, max_depth=7\u001b[0m\n",
      "\u001b[31m[89]#011train-rmse:0.246173#011validation-rmse:0.323744\u001b[0m\n",
      "\u001b[31m[23:56:49] src/tree/updater_prune.cc:74: tree pruning end, 1 roots, 14 extra nodes, 8 pruned nodes, max_depth=7\u001b[0m\n",
      "\u001b[31m[90]#011train-rmse:0.2458#011validation-rmse:0.323474\u001b[0m\n",
      "\u001b[31m[23:56:51] src/tree/updater_prune.cc:74: tree pruning end, 1 roots, 22 extra nodes, 22 pruned nodes, max_depth=7\u001b[0m\n",
      "\u001b[31m[91]#011train-rmse:0.245191#011validation-rmse:0.32324\u001b[0m\n",
      "\u001b[31m[23:56:53] src/tree/updater_prune.cc:74: tree pruning end, 1 roots, 24 extra nodes, 32 pruned nodes, max_depth=7\u001b[0m\n",
      "\u001b[31m[92]#011train-rmse:0.244573#011validation-rmse:0.322935\u001b[0m\n",
      "\u001b[31m[23:56:54] src/tree/updater_prune.cc:74: tree pruning end, 1 roots, 20 extra nodes, 18 pruned nodes, max_depth=7\u001b[0m\n",
      "\u001b[31m[93]#011train-rmse:0.244063#011validation-rmse:0.322758\u001b[0m\n",
      "\u001b[31m[23:56:56] src/tree/updater_prune.cc:74: tree pruning end, 1 roots, 18 extra nodes, 14 pruned nodes, max_depth=7\u001b[0m\n",
      "\u001b[31m[94]#011train-rmse:0.243697#011validation-rmse:0.322427\u001b[0m\n",
      "\u001b[31m[23:56:58] src/tree/updater_prune.cc:74: tree pruning end, 1 roots, 26 extra nodes, 22 pruned nodes, max_depth=7\u001b[0m\n",
      "\u001b[31m[95]#011train-rmse:0.243052#011validation-rmse:0.322189\u001b[0m\n",
      "\u001b[31m[23:56:59] src/tree/updater_prune.cc:74: tree pruning end, 1 roots, 32 extra nodes, 24 pruned nodes, max_depth=7\u001b[0m\n",
      "\u001b[31m[96]#011train-rmse:0.242372#011validation-rmse:0.321844\u001b[0m\n",
      "\u001b[31m[23:57:01] src/tree/updater_prune.cc:74: tree pruning end, 1 roots, 24 extra nodes, 30 pruned nodes, max_depth=7\u001b[0m\n",
      "\u001b[31m[97]#011train-rmse:0.241779#011validation-rmse:0.32181\u001b[0m\n",
      "\u001b[31m[23:57:02] src/tree/updater_prune.cc:74: tree pruning end, 1 roots, 26 extra nodes, 24 pruned nodes, max_depth=7\u001b[0m\n",
      "\u001b[31m[98]#011train-rmse:0.241157#011validation-rmse:0.321595\u001b[0m\n",
      "\u001b[31m[23:57:04] src/tree/updater_prune.cc:74: tree pruning end, 1 roots, 26 extra nodes, 14 pruned nodes, max_depth=7\u001b[0m\n",
      "\u001b[31m[99]#011train-rmse:0.240612#011validation-rmse:0.321337\u001b[0m\n",
      "\u001b[31m[23:57:06] src/tree/updater_prune.cc:74: tree pruning end, 1 roots, 32 extra nodes, 28 pruned nodes, max_depth=7\u001b[0m\n",
      "\u001b[31m[100]#011train-rmse:0.239838#011validation-rmse:0.321097\u001b[0m\n",
      "\u001b[31m[23:57:07] src/tree/updater_prune.cc:74: tree pruning end, 1 roots, 14 extra nodes, 12 pruned nodes, max_depth=7\u001b[0m\n",
      "\u001b[31m[101]#011train-rmse:0.239505#011validation-rmse:0.320858\u001b[0m\n",
      "\u001b[31m[23:57:09] src/tree/updater_prune.cc:74: tree pruning end, 1 roots, 32 extra nodes, 26 pruned nodes, max_depth=7\u001b[0m\n",
      "\u001b[31m[102]#011train-rmse:0.238697#011validation-rmse:0.320747\u001b[0m\n",
      "\u001b[31m[23:57:11] src/tree/updater_prune.cc:74: tree pruning end, 1 roots, 34 extra nodes, 26 pruned nodes, max_depth=7\u001b[0m\n",
      "\u001b[31m[103]#011train-rmse:0.237904#011validation-rmse:0.320389\u001b[0m\n",
      "\u001b[31m[23:57:12] src/tree/updater_prune.cc:74: tree pruning end, 1 roots, 16 extra nodes, 22 pruned nodes, max_depth=7\u001b[0m\n",
      "\u001b[31m[104]#011train-rmse:0.237511#011validation-rmse:0.32013\u001b[0m\n",
      "\u001b[31m[23:57:14] src/tree/updater_prune.cc:74: tree pruning end, 1 roots, 20 extra nodes, 30 pruned nodes, max_depth=7\u001b[0m\n",
      "\u001b[31m[105]#011train-rmse:0.236943#011validation-rmse:0.319816\u001b[0m\n",
      "\u001b[31m[23:57:15] src/tree/updater_prune.cc:74: tree pruning end, 1 roots, 30 extra nodes, 18 pruned nodes, max_depth=7\u001b[0m\n",
      "\u001b[31m[106]#011train-rmse:0.236217#011validation-rmse:0.319779\u001b[0m\n",
      "\u001b[31m[23:57:17] src/tree/updater_prune.cc:74: tree pruning end, 1 roots, 22 extra nodes, 18 pruned nodes, max_depth=7\u001b[0m\n",
      "\u001b[31m[107]#011train-rmse:0.235839#011validation-rmse:0.319647\u001b[0m\n",
      "\u001b[31m[23:57:19] src/tree/updater_prune.cc:74: tree pruning end, 1 roots, 18 extra nodes, 36 pruned nodes, max_depth=7\u001b[0m\n",
      "\u001b[31m[108]#011train-rmse:0.235454#011validation-rmse:0.319633\u001b[0m\n",
      "\u001b[31m[23:57:20] src/tree/updater_prune.cc:74: tree pruning end, 1 roots, 32 extra nodes, 34 pruned nodes, max_depth=7\u001b[0m\n",
      "\u001b[31m[109]#011train-rmse:0.234633#011validation-rmse:0.319548\u001b[0m\n",
      "\u001b[31m[23:57:22] src/tree/updater_prune.cc:74: tree pruning end, 1 roots, 22 extra nodes, 22 pruned nodes, max_depth=7\u001b[0m\n",
      "\u001b[31m[110]#011train-rmse:0.234229#011validation-rmse:0.319157\u001b[0m\n",
      "\u001b[31m[23:57:24] src/tree/updater_prune.cc:74: tree pruning end, 1 roots, 20 extra nodes, 10 pruned nodes, max_depth=7\u001b[0m\n",
      "\u001b[31m[111]#011train-rmse:0.233753#011validation-rmse:0.319128\u001b[0m\n",
      "\u001b[31m[23:57:25] src/tree/updater_prune.cc:74: tree pruning end, 1 roots, 56 extra nodes, 42 pruned nodes, max_depth=7\u001b[0m\n",
      "\u001b[31m[112]#011train-rmse:0.232246#011validation-rmse:0.318984\u001b[0m\n",
      "\u001b[31m[23:57:27] src/tree/updater_prune.cc:74: tree pruning end, 1 roots, 14 extra nodes, 8 pruned nodes, max_depth=7\u001b[0m\n",
      "\u001b[31m[113]#011train-rmse:0.231912#011validation-rmse:0.318874\u001b[0m\n",
      "\u001b[31m[23:57:28] src/tree/updater_prune.cc:74: tree pruning end, 1 roots, 26 extra nodes, 14 pruned nodes, max_depth=7\u001b[0m\n",
      "\u001b[31m[114]#011train-rmse:0.231275#011validation-rmse:0.318879\u001b[0m\n",
      "\u001b[31m[23:57:30] src/tree/updater_prune.cc:74: tree pruning end, 1 roots, 14 extra nodes, 14 pruned nodes, max_depth=7\u001b[0m\n",
      "\u001b[31m[115]#011train-rmse:0.230979#011validation-rmse:0.318676\u001b[0m\n",
      "\u001b[31m[23:57:32] src/tree/updater_prune.cc:74: tree pruning end, 1 roots, 30 extra nodes, 10 pruned nodes, max_depth=7\u001b[0m\n",
      "\u001b[31m[116]#011train-rmse:0.230316#011validation-rmse:0.318623\u001b[0m\n",
      "\u001b[31m[23:57:33] src/tree/updater_prune.cc:74: tree pruning end, 1 roots, 14 extra nodes, 14 pruned nodes, max_depth=7\u001b[0m\n",
      "\u001b[31m[117]#011train-rmse:0.230017#011validation-rmse:0.31827\u001b[0m\n",
      "\u001b[31m[23:57:35] src/tree/updater_prune.cc:74: tree pruning end, 1 roots, 26 extra nodes, 20 pruned nodes, max_depth=7\u001b[0m\n",
      "\u001b[31m[118]#011train-rmse:0.229459#011validation-rmse:0.318194\u001b[0m\n",
      "\u001b[31m[23:57:37] src/tree/updater_prune.cc:74: tree pruning end, 1 roots, 18 extra nodes, 14 pruned nodes, max_depth=7\u001b[0m\n",
      "\u001b[31m[119]#011train-rmse:0.229052#011validation-rmse:0.318091\u001b[0m\n",
      "\u001b[31m[23:57:38] src/tree/updater_prune.cc:74: tree pruning end, 1 roots, 18 extra nodes, 10 pruned nodes, max_depth=7\u001b[0m\n",
      "\u001b[31m[120]#011train-rmse:0.228577#011validation-rmse:0.31778\u001b[0m\n",
      "\u001b[31m[23:57:40] src/tree/updater_prune.cc:74: tree pruning end, 1 roots, 18 extra nodes, 12 pruned nodes, max_depth=7\u001b[0m\n",
      "\u001b[31m[121]#011train-rmse:0.228219#011validation-rmse:0.317679\u001b[0m\n",
      "\u001b[31m[23:57:41] src/tree/updater_prune.cc:74: tree pruning end, 1 roots, 30 extra nodes, 28 pruned nodes, max_depth=7\u001b[0m\n",
      "\u001b[31m[122]#011train-rmse:0.2275#011validation-rmse:0.317335\u001b[0m\n",
      "\u001b[31m[23:57:43] src/tree/updater_prune.cc:74: tree pruning end, 1 roots, 22 extra nodes, 12 pruned nodes, max_depth=7\u001b[0m\n",
      "\u001b[31m[123]#011train-rmse:0.22697#011validation-rmse:0.317099\u001b[0m\n",
      "\u001b[31m[23:57:45] src/tree/updater_prune.cc:74: tree pruning end, 1 roots, 16 extra nodes, 24 pruned nodes, max_depth=7\u001b[0m\n",
      "\u001b[31m[124]#011train-rmse:0.226672#011validation-rmse:0.316932\u001b[0m\n",
      "\u001b[31m[23:57:46] src/tree/updater_prune.cc:74: tree pruning end, 1 roots, 20 extra nodes, 22 pruned nodes, max_depth=7\u001b[0m\n",
      "\u001b[31m[125]#011train-rmse:0.22623#011validation-rmse:0.316774\u001b[0m\n",
      "\u001b[31m[23:57:48] src/tree/updater_prune.cc:74: tree pruning end, 1 roots, 20 extra nodes, 24 pruned nodes, max_depth=7\u001b[0m\n",
      "\u001b[31m[126]#011train-rmse:0.225797#011validation-rmse:0.316701\u001b[0m\n",
      "\u001b[31m[23:57:50] src/tree/updater_prune.cc:74: tree pruning end, 1 roots, 24 extra nodes, 26 pruned nodes, max_depth=7\u001b[0m\n",
      "\u001b[31m[127]#011train-rmse:0.225227#011validation-rmse:0.316342\u001b[0m\n",
      "\u001b[31m[23:57:51] src/tree/updater_prune.cc:74: tree pruning end, 1 roots, 28 extra nodes, 10 pruned nodes, max_depth=7\u001b[0m\n",
      "\u001b[31m[128]#011train-rmse:0.224556#011validation-rmse:0.316095\u001b[0m\n",
      "\u001b[31m[23:57:53] src/tree/updater_prune.cc:74: tree pruning end, 1 roots, 16 extra nodes, 12 pruned nodes, max_depth=7\u001b[0m\n",
      "\u001b[31m[129]#011train-rmse:0.224214#011validation-rmse:0.316038\u001b[0m\n",
      "\u001b[31m[23:57:55] src/tree/updater_prune.cc:74: tree pruning end, 1 roots, 16 extra nodes, 24 pruned nodes, max_depth=7\u001b[0m\n",
      "\u001b[31m[130]#011train-rmse:0.22391#011validation-rmse:0.315772\u001b[0m\n",
      "\u001b[31m[23:57:56] src/tree/updater_prune.cc:74: tree pruning end, 1 roots, 40 extra nodes, 36 pruned nodes, max_depth=7\u001b[0m\n",
      "\u001b[31m[131]#011train-rmse:0.222934#011validation-rmse:0.315496\u001b[0m\n",
      "\u001b[31m[23:57:58] src/tree/updater_prune.cc:74: tree pruning end, 1 roots, 14 extra nodes, 6 pruned nodes, max_depth=7\u001b[0m\n",
      "\u001b[31m[132]#011train-rmse:0.222635#011validation-rmse:0.315348\u001b[0m\n",
      "\u001b[31m[23:57:59] src/tree/updater_prune.cc:74: tree pruning end, 1 roots, 18 extra nodes, 14 pruned nodes, max_depth=7\u001b[0m\n",
      "\u001b[31m[133]#011train-rmse:0.222272#011validation-rmse:0.315371\u001b[0m\n",
      "\u001b[31m[23:58:01] src/tree/updater_prune.cc:74: tree pruning end, 1 roots, 14 extra nodes, 8 pruned nodes, max_depth=7\u001b[0m\n",
      "\u001b[31m[134]#011train-rmse:0.222074#011validation-rmse:0.315235\u001b[0m\n",
      "\u001b[31m[23:58:03] src/tree/updater_prune.cc:74: tree pruning end, 1 roots, 40 extra nodes, 48 pruned nodes, max_depth=7\u001b[0m\n",
      "\u001b[31m[135]#011train-rmse:0.221222#011validation-rmse:0.315259\u001b[0m\n",
      "\u001b[31m[23:58:04] src/tree/updater_prune.cc:74: tree pruning end, 1 roots, 20 extra nodes, 22 pruned nodes, max_depth=7\u001b[0m\n",
      "\u001b[31m[136]#011train-rmse:0.220838#011validation-rmse:0.315052\u001b[0m\n",
      "\u001b[31m[23:58:06] src/tree/updater_prune.cc:74: tree pruning end, 1 roots, 14 extra nodes, 14 pruned nodes, max_depth=7\u001b[0m\n",
      "\u001b[31m[137]#011train-rmse:0.220585#011validation-rmse:0.31483\u001b[0m\n",
      "\u001b[31m[23:58:08] src/tree/updater_prune.cc:74: tree pruning end, 1 roots, 22 extra nodes, 20 pruned nodes, max_depth=7\u001b[0m\n",
      "\u001b[31m[138]#011train-rmse:0.220189#011validation-rmse:0.314646\u001b[0m\n",
      "\u001b[31m[23:58:09] src/tree/updater_prune.cc:74: tree pruning end, 1 roots, 14 extra nodes, 22 pruned nodes, max_depth=7\u001b[0m\n",
      "\u001b[31m[139]#011train-rmse:0.219923#011validation-rmse:0.314534\u001b[0m\n",
      "\u001b[31m[23:58:11] src/tree/updater_prune.cc:74: tree pruning end, 1 roots, 16 extra nodes, 26 pruned nodes, max_depth=7\u001b[0m\n",
      "\u001b[31m[140]#011train-rmse:0.219626#011validation-rmse:0.314267\u001b[0m\n",
      "\u001b[31m[23:58:13] src/tree/updater_prune.cc:74: tree pruning end, 1 roots, 22 extra nodes, 32 pruned nodes, max_depth=7\u001b[0m\n",
      "\u001b[31m[141]#011train-rmse:0.219088#011validation-rmse:0.314072\u001b[0m\n",
      "\u001b[31m[23:58:14] src/tree/updater_prune.cc:74: tree pruning end, 1 roots, 14 extra nodes, 10 pruned nodes, max_depth=7\u001b[0m\n",
      "\u001b[31m[142]#011train-rmse:0.218764#011validation-rmse:0.314001\u001b[0m\n",
      "\u001b[31m[23:58:16] src/tree/updater_prune.cc:74: tree pruning end, 1 roots, 18 extra nodes, 18 pruned nodes, max_depth=7\u001b[0m\n",
      "\u001b[31m[143]#011train-rmse:0.218401#011validation-rmse:0.313783\u001b[0m\n",
      "\u001b[31m[23:58:17] src/tree/updater_prune.cc:74: tree pruning end, 1 roots, 18 extra nodes, 18 pruned nodes, max_depth=7\u001b[0m\n",
      "\u001b[31m[144]#011train-rmse:0.218112#011validation-rmse:0.313726\u001b[0m\n",
      "\u001b[31m[23:58:19] src/tree/updater_prune.cc:74: tree pruning end, 1 roots, 16 extra nodes, 20 pruned nodes, max_depth=7\u001b[0m\n",
      "\u001b[31m[145]#011train-rmse:0.21778#011validation-rmse:0.313613\u001b[0m\n",
      "\u001b[31m[23:58:21] src/tree/updater_prune.cc:74: tree pruning end, 1 roots, 24 extra nodes, 28 pruned nodes, max_depth=7\u001b[0m\n",
      "\u001b[31m[146]#011train-rmse:0.217316#011validation-rmse:0.313545\u001b[0m\n",
      "\u001b[31m[23:58:22] src/tree/updater_prune.cc:74: tree pruning end, 1 roots, 14 extra nodes, 14 pruned nodes, max_depth=7\u001b[0m\n",
      "\u001b[31m[147]#011train-rmse:0.216972#011validation-rmse:0.31348\u001b[0m\n",
      "\u001b[31m[23:58:24] src/tree/updater_prune.cc:74: tree pruning end, 1 roots, 18 extra nodes, 28 pruned nodes, max_depth=7\u001b[0m\n",
      "\u001b[31m[148]#011train-rmse:0.216574#011validation-rmse:0.313342\u001b[0m\n",
      "\u001b[31m[23:58:26] src/tree/updater_prune.cc:74: tree pruning end, 1 roots, 36 extra nodes, 28 pruned nodes, max_depth=7\u001b[0m\n",
      "\u001b[31m[149]#011train-rmse:0.215672#011validation-rmse:0.313266\u001b[0m\n",
      "\u001b[31m[23:58:27] src/tree/updater_prune.cc:74: tree pruning end, 1 roots, 18 extra nodes, 14 pruned nodes, max_depth=7\u001b[0m\n",
      "\u001b[31m[150]#011train-rmse:0.215345#011validation-rmse:0.313157\u001b[0m\n",
      "\u001b[31m[23:58:29] src/tree/updater_prune.cc:74: tree pruning end, 1 roots, 14 extra nodes, 16 pruned nodes, max_depth=7\u001b[0m\n",
      "\u001b[31m[151]#011train-rmse:0.215111#011validation-rmse:0.313124\u001b[0m\n",
      "\u001b[31m[23:58:30] src/tree/updater_prune.cc:74: tree pruning end, 1 roots, 18 extra nodes, 14 pruned nodes, max_depth=7\u001b[0m\n",
      "\u001b[31m[152]#011train-rmse:0.214767#011validation-rmse:0.312911\u001b[0m\n",
      "\u001b[31m[23:58:32] src/tree/updater_prune.cc:74: tree pruning end, 1 roots, 28 extra nodes, 8 pruned nodes, max_depth=7\u001b[0m\n",
      "\u001b[31m[153]#011train-rmse:0.214213#011validation-rmse:0.3129\u001b[0m\n",
      "\u001b[31m[23:58:34] src/tree/updater_prune.cc:74: tree pruning end, 1 roots, 26 extra nodes, 28 pruned nodes, max_depth=7\u001b[0m\n",
      "\u001b[31m[154]#011train-rmse:0.213639#011validation-rmse:0.312772\u001b[0m\n",
      "\u001b[31m[23:58:35] src/tree/updater_prune.cc:74: tree pruning end, 1 roots, 22 extra nodes, 20 pruned nodes, max_depth=7\u001b[0m\n",
      "\u001b[31m[155]#011train-rmse:0.213209#011validation-rmse:0.312478\u001b[0m\n",
      "\u001b[31m[23:58:37] src/tree/updater_prune.cc:74: tree pruning end, 1 roots, 20 extra nodes, 22 pruned nodes, max_depth=7\u001b[0m\n",
      "\u001b[31m[156]#011train-rmse:0.212863#011validation-rmse:0.31225\u001b[0m\n",
      "\u001b[31m[23:58:39] src/tree/updater_prune.cc:74: tree pruning end, 1 roots, 14 extra nodes, 8 pruned nodes, max_depth=7\u001b[0m\n",
      "\u001b[31m[157]#011train-rmse:0.212626#011validation-rmse:0.312223\u001b[0m\n",
      "\u001b[31m[23:58:40] src/tree/updater_prune.cc:74: tree pruning end, 1 roots, 20 extra nodes, 20 pruned nodes, max_depth=7\u001b[0m\n",
      "\u001b[31m[158]#011train-rmse:0.212248#011validation-rmse:0.312122\u001b[0m\n",
      "\u001b[31m[23:58:42] src/tree/updater_prune.cc:74: tree pruning end, 1 roots, 16 extra nodes, 14 pruned nodes, max_depth=7\u001b[0m\n",
      "\u001b[31m[159]#011train-rmse:0.211957#011validation-rmse:0.312174\u001b[0m\n",
      "\u001b[31m[23:58:44] src/tree/updater_prune.cc:74: tree pruning end, 1 roots, 18 extra nodes, 30 pruned nodes, max_depth=7\u001b[0m\n",
      "\u001b[31m[160]#011train-rmse:0.21159#011validation-rmse:0.312161\u001b[0m\n",
      "\u001b[31m[23:58:45] src/tree/updater_prune.cc:74: tree pruning end, 1 roots, 14 extra nodes, 22 pruned nodes, max_depth=7\u001b[0m\n",
      "\u001b[31m[161]#011train-rmse:0.211434#011validation-rmse:0.312098\u001b[0m\n",
      "\u001b[31m[23:58:47] src/tree/updater_prune.cc:74: tree pruning end, 1 roots, 26 extra nodes, 36 pruned nodes, max_depth=7\u001b[0m\n",
      "\u001b[31m[162]#011train-rmse:0.210792#011validation-rmse:0.311989\u001b[0m\n",
      "\u001b[31m[23:58:48] src/tree/updater_prune.cc:74: tree pruning end, 1 roots, 24 extra nodes, 30 pruned nodes, max_depth=7\u001b[0m\n",
      "\u001b[31m[163]#011train-rmse:0.210344#011validation-rmse:0.312037\u001b[0m\n",
      "\u001b[31m[23:58:50] src/tree/updater_prune.cc:74: tree pruning end, 1 roots, 16 extra nodes, 18 pruned nodes, max_depth=7\u001b[0m\n",
      "\u001b[31m[164]#011train-rmse:0.210102#011validation-rmse:0.311963\u001b[0m\n",
      "\u001b[31m[23:58:52] src/tree/updater_prune.cc:74: tree pruning end, 1 roots, 16 extra nodes, 12 pruned nodes, max_depth=7\u001b[0m\n",
      "\u001b[31m[165]#011train-rmse:0.209825#011validation-rmse:0.311731\u001b[0m\n",
      "\u001b[31m[23:58:53] src/tree/updater_prune.cc:74: tree pruning end, 1 roots, 20 extra nodes, 18 pruned nodes, max_depth=7\u001b[0m\n",
      "\u001b[31m[166]#011train-rmse:0.209478#011validation-rmse:0.311577\u001b[0m\n",
      "\u001b[31m[23:58:55] src/tree/updater_prune.cc:74: tree pruning end, 1 roots, 18 extra nodes, 42 pruned nodes, max_depth=7\u001b[0m\n",
      "\u001b[31m[167]#011train-rmse:0.209254#011validation-rmse:0.311572\u001b[0m\n",
      "\u001b[31m[23:58:57] src/tree/updater_prune.cc:74: tree pruning end, 1 roots, 20 extra nodes, 26 pruned nodes, max_depth=7\u001b[0m\n",
      "\u001b[31m[168]#011train-rmse:0.208966#011validation-rmse:0.311557\u001b[0m\n",
      "\u001b[31m[23:58:58] src/tree/updater_prune.cc:74: tree pruning end, 1 roots, 26 extra nodes, 28 pruned nodes, max_depth=7\u001b[0m\n",
      "\u001b[31m[169]#011train-rmse:0.208348#011validation-rmse:0.311582\u001b[0m\n",
      "\u001b[31m[23:59:00] src/tree/updater_prune.cc:74: tree pruning end, 1 roots, 16 extra nodes, 24 pruned nodes, max_depth=6\u001b[0m\n",
      "\u001b[31m[170]#011train-rmse:0.208076#011validation-rmse:0.311589\u001b[0m\n",
      "\u001b[31m[23:59:01] src/tree/updater_prune.cc:74: tree pruning end, 1 roots, 14 extra nodes, 22 pruned nodes, max_depth=7\u001b[0m\n",
      "\u001b[31m[171]#011train-rmse:0.20783#011validation-rmse:0.311572\u001b[0m\n",
      "\u001b[31m[23:59:03] src/tree/updater_prune.cc:74: tree pruning end, 1 roots, 16 extra nodes, 12 pruned nodes, max_depth=7\u001b[0m\n",
      "\u001b[31m[172]#011train-rmse:0.207554#011validation-rmse:0.31149\u001b[0m\n",
      "\u001b[31m[23:59:05] src/tree/updater_prune.cc:74: tree pruning end, 1 roots, 18 extra nodes, 12 pruned nodes, max_depth=7\u001b[0m\n",
      "\u001b[31m[173]#011train-rmse:0.207211#011validation-rmse:0.311376\u001b[0m\n",
      "\u001b[31m[23:59:06] src/tree/updater_prune.cc:74: tree pruning end, 1 roots, 20 extra nodes, 20 pruned nodes, max_depth=7\u001b[0m\n",
      "\u001b[31m[174]#011train-rmse:0.206863#011validation-rmse:0.311341\u001b[0m\n",
      "\u001b[31m[23:59:08] src/tree/updater_prune.cc:74: tree pruning end, 1 roots, 6 extra nodes, 16 pruned nodes, max_depth=3\u001b[0m\n",
      "\u001b[31m[175]#011train-rmse:0.206758#011validation-rmse:0.311165\u001b[0m\n",
      "\u001b[31m[23:59:10] src/tree/updater_prune.cc:74: tree pruning end, 1 roots, 20 extra nodes, 28 pruned nodes, max_depth=7\u001b[0m\n",
      "\u001b[31m[176]#011train-rmse:0.206393#011validation-rmse:0.311113\u001b[0m\n",
      "\u001b[31m[23:59:11] src/tree/updater_prune.cc:74: tree pruning end, 1 roots, 16 extra nodes, 16 pruned nodes, max_depth=7\u001b[0m\n",
      "\u001b[31m[177]#011train-rmse:0.206158#011validation-rmse:0.310972\u001b[0m\n",
      "\u001b[31m[23:59:13] src/tree/updater_prune.cc:74: tree pruning end, 1 roots, 16 extra nodes, 30 pruned nodes, max_depth=7\u001b[0m\n",
      "\u001b[31m[178]#011train-rmse:0.205936#011validation-rmse:0.310998\u001b[0m\n",
      "\u001b[31m[23:59:14] src/tree/updater_prune.cc:74: tree pruning end, 1 roots, 22 extra nodes, 24 pruned nodes, max_depth=7\u001b[0m\n",
      "\u001b[31m[179]#011train-rmse:0.205411#011validation-rmse:0.310932\u001b[0m\n",
      "\u001b[31m[23:59:16] src/tree/updater_prune.cc:74: tree pruning end, 1 roots, 16 extra nodes, 20 pruned nodes, max_depth=7\u001b[0m\n",
      "\u001b[31m[180]#011train-rmse:0.205162#011validation-rmse:0.310967\u001b[0m\n",
      "\u001b[31m[23:59:18] src/tree/updater_prune.cc:74: tree pruning end, 1 roots, 20 extra nodes, 20 pruned nodes, max_depth=7\u001b[0m\n",
      "\u001b[31m[181]#011train-rmse:0.204835#011validation-rmse:0.310908\u001b[0m\n",
      "\u001b[31m[23:59:19] src/tree/updater_prune.cc:74: tree pruning end, 1 roots, 14 extra nodes, 18 pruned nodes, max_depth=7\u001b[0m\n",
      "\u001b[31m[182]#011train-rmse:0.204635#011validation-rmse:0.310692\u001b[0m\n",
      "\u001b[31m[23:59:21] src/tree/updater_prune.cc:74: tree pruning end, 1 roots, 30 extra nodes, 26 pruned nodes, max_depth=7\u001b[0m\n",
      "\u001b[31m[183]#011train-rmse:0.204057#011validation-rmse:0.310612\u001b[0m\n",
      "\u001b[31m[23:59:23] src/tree/updater_prune.cc:74: tree pruning end, 1 roots, 12 extra nodes, 34 pruned nodes, max_depth=6\u001b[0m\n",
      "\u001b[31m[184]#011train-rmse:0.203863#011validation-rmse:0.31063\u001b[0m\n",
      "\u001b[31m[23:59:24] src/tree/updater_prune.cc:74: tree pruning end, 1 roots, 18 extra nodes, 8 pruned nodes, max_depth=7\u001b[0m\n",
      "\u001b[31m[185]#011train-rmse:0.203544#011validation-rmse:0.310413\u001b[0m\n",
      "\u001b[31m[23:59:26] src/tree/updater_prune.cc:74: tree pruning end, 1 roots, 16 extra nodes, 32 pruned nodes, max_depth=7\u001b[0m\n",
      "\u001b[31m[186]#011train-rmse:0.203296#011validation-rmse:0.310276\u001b[0m\n",
      "\u001b[31m[23:59:28] src/tree/updater_prune.cc:74: tree pruning end, 1 roots, 14 extra nodes, 30 pruned nodes, max_depth=7\u001b[0m\n",
      "\u001b[31m[187]#011train-rmse:0.20312#011validation-rmse:0.310215\u001b[0m\n",
      "\u001b[31m[23:59:29] src/tree/updater_prune.cc:74: tree pruning end, 1 roots, 14 extra nodes, 28 pruned nodes, max_depth=7\u001b[0m\n",
      "\u001b[31m[188]#011train-rmse:0.202853#011validation-rmse:0.310042\u001b[0m\n",
      "\u001b[31m[23:59:31] src/tree/updater_prune.cc:74: tree pruning end, 1 roots, 22 extra nodes, 22 pruned nodes, max_depth=7\u001b[0m\n",
      "\u001b[31m[189]#011train-rmse:0.202492#011validation-rmse:0.310102\u001b[0m\n",
      "\u001b[31m[23:59:32] src/tree/updater_prune.cc:74: tree pruning end, 1 roots, 16 extra nodes, 18 pruned nodes, max_depth=7\u001b[0m\n",
      "\u001b[31m[190]#011train-rmse:0.202296#011validation-rmse:0.309887\u001b[0m\n",
      "\u001b[31m[23:59:34] src/tree/updater_prune.cc:74: tree pruning end, 1 roots, 20 extra nodes, 24 pruned nodes, max_depth=7\u001b[0m\n",
      "\u001b[31m[191]#011train-rmse:0.201938#011validation-rmse:0.309715\u001b[0m\n",
      "\u001b[31m[23:59:36] src/tree/updater_prune.cc:74: tree pruning end, 1 roots, 14 extra nodes, 16 pruned nodes, max_depth=6\u001b[0m\n",
      "\u001b[31m[192]#011train-rmse:0.201721#011validation-rmse:0.309555\u001b[0m\n",
      "\u001b[31m[23:59:37] src/tree/updater_prune.cc:74: tree pruning end, 1 roots, 14 extra nodes, 16 pruned nodes, max_depth=6\u001b[0m\n",
      "\u001b[31m[193]#011train-rmse:0.201492#011validation-rmse:0.309506\u001b[0m\n",
      "\u001b[31m[23:59:39] src/tree/updater_prune.cc:74: tree pruning end, 1 roots, 22 extra nodes, 16 pruned nodes, max_depth=7\u001b[0m\n",
      "\u001b[31m[194]#011train-rmse:0.20116#011validation-rmse:0.309335\u001b[0m\n",
      "\u001b[31m[23:59:41] src/tree/updater_prune.cc:74: tree pruning end, 1 roots, 24 extra nodes, 8 pruned nodes, max_depth=7\u001b[0m\n",
      "\u001b[31m[195]#011train-rmse:0.200698#011validation-rmse:0.309278\u001b[0m\n",
      "\u001b[31m[23:59:42] src/tree/updater_prune.cc:74: tree pruning end, 1 roots, 14 extra nodes, 20 pruned nodes, max_depth=6\u001b[0m\n",
      "\u001b[31m[196]#011train-rmse:0.200438#011validation-rmse:0.309234\u001b[0m\n",
      "\u001b[31m[23:59:44] src/tree/updater_prune.cc:74: tree pruning end, 1 roots, 16 extra nodes, 34 pruned nodes, max_depth=7\u001b[0m\n",
      "\u001b[31m[197]#011train-rmse:0.200205#011validation-rmse:0.309162\u001b[0m\n",
      "\u001b[31m[23:59:46] src/tree/updater_prune.cc:74: tree pruning end, 1 roots, 2 extra nodes, 30 pruned nodes, max_depth=1\u001b[0m\n",
      "\u001b[31m[198]#011train-rmse:0.200188#011validation-rmse:0.309155\u001b[0m\n",
      "\u001b[31m[23:59:47] src/tree/updater_prune.cc:74: tree pruning end, 1 roots, 8 extra nodes, 20 pruned nodes, max_depth=4\u001b[0m\n",
      "\u001b[31m[199]#011train-rmse:0.200068#011validation-rmse:0.309183\u001b[0m\n",
      "Billable seconds: 371\n"
     ]
    }
   ],
   "source": [
    "# TODO: Create a new estimator object attached to the best training job found during hyperparameter tuning\n",
    "\n",
    "xgb_attached = sagemaker.estimator.Estimator.attach(xgb_hyperparameter_tuner.best_training_job())\n"
   ]
  },
  {
   "cell_type": "markdown",
   "metadata": {},
   "source": [
    "Now that we have an estimator object attached to the correct training job, we can proceed as we normally would and create a transformer object."
   ]
  },
  {
   "cell_type": "code",
   "execution_count": 26,
   "metadata": {},
   "outputs": [],
   "source": [
    "# TODO: Create a transformer object from the attached estimator. Using an instance count of 1 and an instance type of ml.m4.xlarge\n",
    "#       should be more than enough.\n",
    "\n",
    "xgb_transformer = xgb_attached.transformer(instance_count=1, instance_type='ml.m4.xlarge')\n"
   ]
  },
  {
   "cell_type": "markdown",
   "metadata": {},
   "source": [
    "Next we actually perform the transform job. When doing so we need to make sure to specify the type of data we are sending so that it is serialized correctly in the background. In our case we are providing our model with csv data so we specify `text/csv`. Also, if the test data that we have provided is too large to process all at once then we need to specify how the data file should be split up. Since each line is a single entry in our data set we tell SageMaker that it can split the input on each line."
   ]
  },
  {
   "cell_type": "code",
   "execution_count": 27,
   "metadata": {},
   "outputs": [],
   "source": [
    "# TODO: Start the transform job. Make sure to specify the content type and the split type of the test data.\n",
    "xgb_transformer.transform(test_location, content_type='text/csv', split_type='Line')"
   ]
  },
  {
   "cell_type": "markdown",
   "metadata": {},
   "source": [
    "Currently the transform job is running but it is doing so in the background. Since we wish to wait until the transform job is done and we would like a bit of feedback we can run the `wait()` method."
   ]
  },
  {
   "cell_type": "code",
   "execution_count": 28,
   "metadata": {},
   "outputs": [
    {
     "name": "stdout",
     "output_type": "stream",
     "text": [
      ".............................................!\n"
     ]
    }
   ],
   "source": [
    "xgb_transformer.wait()"
   ]
  },
  {
   "cell_type": "markdown",
   "metadata": {},
   "source": [
    "Now the transform job has executed and the result, the estimated sentiment of each review, has been saved on S3. Since we would rather work on this file locally we can perform a bit of notebook magic to copy the file to the `data_dir`."
   ]
  },
  {
   "cell_type": "code",
   "execution_count": 29,
   "metadata": {},
   "outputs": [
    {
     "name": "stdout",
     "output_type": "stream",
     "text": [
      "Completed 256.0 KiB/373.1 KiB (3.9 MiB/s) with 1 file(s) remaining\r",
      "Completed 373.1 KiB/373.1 KiB (5.6 MiB/s) with 1 file(s) remaining\r",
      "download: s3://sagemaker-ap-south-1-044155252928/xgboost-190504-2336-006-e1ff19bb-2019-05-05-00-39-40-290/test.csv.out to ../data/xgboost/test.csv.out\r\n"
     ]
    }
   ],
   "source": [
    "!aws s3 cp --recursive $xgb_transformer.output_path $data_dir"
   ]
  },
  {
   "cell_type": "markdown",
   "metadata": {},
   "source": [
    "The last step is now to read in the output from our model, convert the output to something a little more usable, in this case we want the sentiment to be either `1` (positive) or `0` (negative), and then compare to the ground truth labels."
   ]
  },
  {
   "cell_type": "code",
   "execution_count": 30,
   "metadata": {},
   "outputs": [],
   "source": [
    "predictions = pd.read_csv(os.path.join(data_dir, 'test.csv.out'), header=None)\n",
    "predictions = [round(num) for num in predictions.squeeze().values]"
   ]
  },
  {
   "cell_type": "code",
   "execution_count": 31,
   "metadata": {},
   "outputs": [
    {
     "data": {
      "text/plain": [
       "0.86776"
      ]
     },
     "execution_count": 31,
     "metadata": {},
     "output_type": "execute_result"
    }
   ],
   "source": [
    "from sklearn.metrics import accuracy_score\n",
    "accuracy_score(test_y, predictions)"
   ]
  },
  {
   "cell_type": "markdown",
   "metadata": {},
   "source": [
    "## Optional: Clean up\n",
    "\n",
    "The default notebook instance on SageMaker doesn't have a lot of excess disk space available. As you continue to complete and execute notebooks you will eventually fill up this disk space, leading to errors which can be difficult to diagnose. Once you are completely finished using a notebook it is a good idea to remove the files that you created along the way. Of course, you can do this from the terminal or from the notebook hub if you would like. The cell below contains some commands to clean up the created files from within the notebook."
   ]
  },
  {
   "cell_type": "code",
   "execution_count": 32,
   "metadata": {},
   "outputs": [],
   "source": [
    "# First we will remove all of the files contained in the data_dir directory\n",
    "!rm $data_dir/*\n",
    "\n",
    "# And then we delete the directory itself\n",
    "!rmdir $data_dir\n",
    "\n",
    "# Similarly we will remove the files in the cache_dir directory and the directory itself\n",
    "!rm $cache_dir/*\n",
    "!rmdir $cache_dir"
   ]
  },
  {
   "cell_type": "code",
   "execution_count": null,
   "metadata": {},
   "outputs": [],
   "source": []
  }
 ],
 "metadata": {
  "kernelspec": {
   "display_name": "conda_python3",
   "language": "python",
   "name": "conda_python3"
  },
  "language_info": {
   "codemirror_mode": {
    "name": "ipython",
    "version": 3
   },
   "file_extension": ".py",
   "mimetype": "text/x-python",
   "name": "python",
   "nbconvert_exporter": "python",
   "pygments_lexer": "ipython3",
   "version": "3.6.5"
  }
 },
 "nbformat": 4,
 "nbformat_minor": 2
}
