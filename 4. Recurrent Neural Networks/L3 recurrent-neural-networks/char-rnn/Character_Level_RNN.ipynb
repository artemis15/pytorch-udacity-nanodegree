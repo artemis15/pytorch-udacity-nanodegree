{
 "cells": [
  {
   "cell_type": "markdown",
   "metadata": {},
   "source": [
    "# Character-Level LSTM in PyTorch\n",
    "\n",
    "In this notebook, I'll construct a character-level LSTM with PyTorch. The network will train character by character on some text, then generate new text character by character. As an example, I will train on Anna Karenina. **This model will be able to generate new text based on the text from the book!**\n",
    "\n",
    "This network is based off of Andrej Karpathy's [post on RNNs](http://karpathy.github.io/2015/05/21/rnn-effectiveness/) and [implementation in Torch](https://github.com/karpathy/char-rnn). Below is the general architecture of the character-wise RNN.\n",
    "\n",
    "<img src=\"assets/charseq.jpeg\" width=\"500\">"
   ]
  },
  {
   "cell_type": "markdown",
   "metadata": {},
   "source": [
    "First let's load in our required resources for data loading and model creation."
   ]
  },
  {
   "cell_type": "code",
   "execution_count": 1,
   "metadata": {},
   "outputs": [],
   "source": [
    "import numpy as np\n",
    "import torch\n",
    "from torch import nn\n",
    "import torch.nn.functional as F"
   ]
  },
  {
   "cell_type": "markdown",
   "metadata": {},
   "source": [
    "## Load in Data\n",
    "\n",
    "Then, we'll load the Anna Karenina text file and convert it into integers for our network to use. "
   ]
  },
  {
   "cell_type": "code",
   "execution_count": 2,
   "metadata": {},
   "outputs": [],
   "source": [
    "# open text file and read in data as `text`\n",
    "with open('data/anna.txt', 'r') as f:\n",
    "    text = f.read()"
   ]
  },
  {
   "cell_type": "markdown",
   "metadata": {},
   "source": [
    "Let's check out the first 100 characters, make sure everything is peachy. According to the [American Book Review](http://americanbookreview.org/100bestlines.asp), this is the 6th best first line of a book ever."
   ]
  },
  {
   "cell_type": "code",
   "execution_count": 3,
   "metadata": {},
   "outputs": [
    {
     "data": {
      "text/plain": [
       "'Chapter 1\\n\\n\\nHappy families are all alike; every unhappy family is unhappy in its own\\nway.\\n\\nEverythin'"
      ]
     },
     "execution_count": 3,
     "metadata": {},
     "output_type": "execute_result"
    }
   ],
   "source": [
    "text[:100]"
   ]
  },
  {
   "cell_type": "markdown",
   "metadata": {},
   "source": [
    "### Tokenization\n",
    "\n",
    "In the cells, below, I'm creating a couple **dictionaries** to convert the characters to and from integers. Encoding the characters as integers makes it easier to use as input in the network."
   ]
  },
  {
   "cell_type": "code",
   "execution_count": 4,
   "metadata": {},
   "outputs": [],
   "source": [
    "# encode the text and map each character to an integer and vice versa\n",
    "\n",
    "# we create two dictionaries:\n",
    "# 1. int2char, which maps integers to characters\n",
    "# 2. char2int, which maps characters to unique integers\n",
    "chars = tuple(set(text))\n",
    "int2char = dict(enumerate(chars))\n",
    "char2int = {ch: ii for ii, ch in int2char.items()}\n",
    "# encode the text\n",
    "encoded = np.array([char2int[ch] for ch in text])"
   ]
  },
  {
   "cell_type": "markdown",
   "metadata": {},
   "source": [
    "And we can see those same characters from above, encoded as integers."
   ]
  },
  {
   "cell_type": "code",
   "execution_count": 5,
   "metadata": {},
   "outputs": [
    {
     "data": {
      "text/plain": [
       "array([15, 32,  4, 61, 57, 82, 29, 76, 46, 40, 40, 40, 49,  4, 61, 61,  5,\n",
       "       76,  9,  4, 70, 14, 38, 14, 82, 81, 76,  4, 29, 82, 76,  4, 38, 38,\n",
       "       76,  4, 38, 14, 54, 82, 23, 76, 82, 77, 82, 29,  5, 76, 36, 59, 32,\n",
       "        4, 61, 61,  5, 76,  9,  4, 70, 14, 38,  5, 76, 14, 81, 76, 36, 59,\n",
       "       32,  4, 61, 61,  5, 76, 14, 59, 76, 14, 57, 81, 76, 16, 11, 59, 40,\n",
       "       11,  4,  5, 63, 40, 40, 64, 77, 82, 29,  5, 57, 32, 14, 59])"
      ]
     },
     "execution_count": 5,
     "metadata": {},
     "output_type": "execute_result"
    }
   ],
   "source": [
    "encoded[:100]"
   ]
  },
  {
   "cell_type": "code",
   "execution_count": 6,
   "metadata": {},
   "outputs": [
    {
     "data": {
      "text/plain": [
       "'Chapter 1\\n\\n\\nHappy families are all alike; every unhappy family is unhappy in its own\\nway.\\n\\nEverythin'"
      ]
     },
     "execution_count": 6,
     "metadata": {},
     "output_type": "execute_result"
    }
   ],
   "source": [
    "text = [int2char[n] for n in encoded[:100]]\n",
    "''.join(list(text))"
   ]
  },
  {
   "cell_type": "markdown",
   "metadata": {},
   "source": [
    "## Pre-processing the data\n",
    "\n",
    "As you can see in our char-RNN image above, our LSTM expects an input that is **one-hot encoded** meaning that each character is converted into an integer (via our created dictionary) and *then* converted into a column vector where only it's corresponding integer index will have the value of 1 and the rest of the vector will be filled with 0's. Since we're one-hot encoding the data, let's make a function to do that!\n"
   ]
  },
  {
   "cell_type": "code",
   "execution_count": 7,
   "metadata": {},
   "outputs": [],
   "source": [
    "def one_hot_encode(arr, n_labels):\n",
    "    \n",
    "    # Initialize the the encoded array\n",
    "    one_hot = np.zeros((np.multiply(*arr.shape), n_labels), dtype=np.float32)\n",
    "    \n",
    "    # Fill the appropriate elements with ones\n",
    "    one_hot[np.arange(one_hot.shape[0]), arr.flatten()] = 1.\n",
    "    \n",
    "    # Finally reshape it to get back to the original array\n",
    "    one_hot = one_hot.reshape((*arr.shape, n_labels))\n",
    "    \n",
    "    return one_hot"
   ]
  },
  {
   "cell_type": "code",
   "execution_count": 8,
   "metadata": {},
   "outputs": [
    {
     "name": "stdout",
     "output_type": "stream",
     "text": [
      "[[[0. 0. 0. 1. 0. 0. 0. 0.]\n",
      "  [0. 0. 0. 0. 0. 1. 0. 0.]\n",
      "  [0. 1. 0. 0. 0. 0. 0. 0.]]]\n"
     ]
    }
   ],
   "source": [
    "# check that the function works as expected\n",
    "test_seq = np.array([[3, 5, 1]])\n",
    "one_hot = one_hot_encode(test_seq, 8)\n",
    "\n",
    "print(one_hot)"
   ]
  },
  {
   "cell_type": "markdown",
   "metadata": {},
   "source": [
    "## Making training mini-batches\n",
    "\n",
    "\n",
    "To train on this data, we also want to create mini-batches for training. Remember that we want our batches to be multiple sequences of some desired number of sequence steps. Considering a simple example, our batches would look like this:\n",
    "\n",
    "<img src=\"assets/sequence_batching@1x.png\" width=500px>\n",
    "\n",
    "\n",
    "<br>\n",
    "\n",
    "In this example, we'll take the encoded characters (passed in as the `arr` parameter) and split them into multiple sequences, given by `batch_size`. Each of our sequences will be `seq_length` long.\n",
    "\n",
    "### Creating Batches\n",
    "\n",
    "**1. The first thing we need to do is discard some of the text so we only have completely full mini-batches. **\n",
    "\n",
    "Each batch contains $N \\times M$ characters, where $N$ is the batch size (the number of sequences in a batch) and $M$ is the seq_length or number of time steps in a sequence. Then, to get the total number of batches, $K$, that we can make from the array `arr`, you divide the length of `arr` by the number of characters per batch. Once you know the number of batches, you can get the total number of characters to keep from `arr`, $N * M * K$.\n",
    "\n",
    "**2. After that, we need to split `arr` into $N$ batches. ** \n",
    "\n",
    "You can do this using `arr.reshape(size)` where `size` is a tuple containing the dimensions sizes of the reshaped array. We know we want $N$ sequences in a batch, so let's make that the size of the first dimension. For the second dimension, you can use `-1` as a placeholder in the size, it'll fill up the array with the appropriate data for you. After this, you should have an array that is $N \\times (M * K)$.\n",
    "\n",
    "**3. Now that we have this array, we can iterate through it to get our mini-batches. **\n",
    "\n",
    "The idea is each batch is a $N \\times M$ window on the $N \\times (M * K)$ array. For each subsequent batch, the window moves over by `seq_length`. We also want to create both the input and target arrays. Remember that the targets are just the inputs shifted over by one character. The way I like to do this window is use `range` to take steps of size `n_steps` from $0$ to `arr.shape[1]`, the total number of tokens in each sequence. That way, the integers you get from `range` always point to the start of a batch, and each window is `seq_length` wide.\n",
    "\n",
    "> **TODO:** Write the code for creating batches in the function below. The exercises in this notebook _will not be easy_. I've provided a notebook with solutions alongside this notebook. If you get stuck, checkout the solutions. The most important thing is that you don't copy and paste the code into here, **type out the solution code yourself.**"
   ]
  },
  {
   "cell_type": "code",
   "execution_count": 9,
   "metadata": {},
   "outputs": [],
   "source": [
    "def get_batches(arr, batch_size, seq_length):\n",
    "    '''Create a generator that returns batches of size\n",
    "       batch_size x seq_length from arr.\n",
    "       \n",
    "       Arguments\n",
    "       ---------\n",
    "       arr: Array you want to make batches from\n",
    "       batch_size: Batch size, the number of sequences per batch\n",
    "       seq_length: Number of encoded chars in a sequence\n",
    "    '''\n",
    "    \n",
    "    ## TODO: Get the number of batches we can make\n",
    "    n_batches = len(arr) // (batch_size * seq_length)\n",
    "    \n",
    "    ## TODO: Keep only enough characters to make full batches\n",
    "    arr = arr[:n_batches * batch_size * seq_length]\n",
    "    \n",
    "    ## TODO: Reshape into batch_size rows\n",
    "    arr = arr.reshape((batch_size, -1))\n",
    "    \n",
    "    ## TODO: Iterate over the batches using a window of size seq_length\n",
    "    for n in range(0, arr.shape[1], seq_length):\n",
    "        # The features\n",
    "        x = arr[:, n:n+seq_length]\n",
    "        # The targets, shifted by one\n",
    "        y = np.zeros_like(x)\n",
    "        try:\n",
    "            y[:, :-1], y[:, -1] = x[:, 1:], arr[:, n+seq_length]\n",
    "        except IndexError:\n",
    "            y[:, :-1], y[:, -1] = x[:, 1:], arr[:, 0]\n",
    "\n",
    "        yield x, y"
   ]
  },
  {
   "cell_type": "markdown",
   "metadata": {},
   "source": [
    "### Test Your Implementation\n",
    "\n",
    "Now I'll make some data sets and we can check out what's going on as we batch data. Here, as an example, I'm going to use a batch size of 8 and 50 sequence steps."
   ]
  },
  {
   "cell_type": "code",
   "execution_count": 10,
   "metadata": {},
   "outputs": [],
   "source": [
    "batches = get_batches(encoded, 8, 50)\n",
    "x, y = next(batches)"
   ]
  },
  {
   "cell_type": "code",
   "execution_count": 11,
   "metadata": {},
   "outputs": [
    {
     "name": "stdout",
     "output_type": "stream",
     "text": [
      "x\n",
      " [[15 32  4 61 57 82 29 76 46 40]\n",
      " [81 16 59 76 57 32  4 57 76  4]\n",
      " [82 59 20 76 16 29 76  4 76  9]\n",
      " [81 76 57 32 82 76 72 32 14 82]\n",
      " [76 81  4 11 76 32 82 29 76 57]\n",
      " [72 36 81 81 14 16 59 76  4 59]\n",
      " [76 18 59 59  4 76 32  4 20 76]\n",
      " [50 26 38 16 59 81 54  5 63 76]]\n",
      "\n",
      "y\n",
      " [[32  4 61 57 82 29 76 46 40 40]\n",
      " [16 59 76 57 32  4 57 76  4 57]\n",
      " [59 20 76 16 29 76  4 76  9 16]\n",
      " [76 57 32 82 76 72 32 14 82  9]\n",
      " [81  4 11 76 32 82 29 76 57 82]\n",
      " [36 81 81 14 16 59 76  4 59 20]\n",
      " [18 59 59  4 76 32  4 20 76 81]\n",
      " [26 38 16 59 81 54  5 63 76 27]]\n"
     ]
    }
   ],
   "source": [
    "# printing out the first 10 items in a sequence\n",
    "print('x\\n', x[:10, :10])\n",
    "print('\\ny\\n', y[:10, :10])"
   ]
  },
  {
   "cell_type": "markdown",
   "metadata": {},
   "source": [
    "If you implemented `get_batches` correctly, the above output should look something like \n",
    "```\n",
    "x\n",
    " [[25  8 60 11 45 27 28 73  1  2]\n",
    " [17  7 20 73 45  8 60 45 73 60]\n",
    " [27 20 80 73  7 28 73 60 73 65]\n",
    " [17 73 45  8 27 73 66  8 46 27]\n",
    " [73 17 60 12 73  8 27 28 73 45]\n",
    " [66 64 17 17 46  7 20 73 60 20]\n",
    " [73 76 20 20 60 73  8 60 80 73]\n",
    " [47 35 43  7 20 17 24 50 37 73]]\n",
    "\n",
    "y\n",
    " [[ 8 60 11 45 27 28 73  1  2  2]\n",
    " [ 7 20 73 45  8 60 45 73 60 45]\n",
    " [20 80 73  7 28 73 60 73 65  7]\n",
    " [73 45  8 27 73 66  8 46 27 65]\n",
    " [17 60 12 73  8 27 28 73 45 27]\n",
    " [64 17 17 46  7 20 73 60 20 80]\n",
    " [76 20 20 60 73  8 60 80 73 17]\n",
    " [35 43  7 20 17 24 50 37 73 36]]\n",
    " ```\n",
    " although the exact numbers may be different. Check to make sure the data is shifted over one step for `y`."
   ]
  },
  {
   "cell_type": "markdown",
   "metadata": {},
   "source": [
    "---\n",
    "## Defining the network with PyTorch\n",
    "\n",
    "Below is where you'll define the network.\n",
    "\n",
    "<img src=\"assets/charRNN.png\" width=500px>\n",
    "\n",
    "Next, you'll use PyTorch to define the architecture of the network. We start by defining the layers and operations we want. Then, define a method for the forward pass. You've also been given a method for predicting characters."
   ]
  },
  {
   "cell_type": "markdown",
   "metadata": {},
   "source": [
    "### Model Structure\n",
    "\n",
    "In `__init__` the suggested structure is as follows:\n",
    "* Create and store the necessary dictionaries (this has been done for you)\n",
    "* Define an LSTM layer that takes as params: an input size (the number of characters), a hidden layer size `n_hidden`, a number of layers `n_layers`, a dropout probability `drop_prob`, and a batch_first boolean (True, since we are batching)\n",
    "* Define a dropout layer with `drop_prob`\n",
    "* Define a fully-connected layer with params: input size `n_hidden` and output size (the number of characters)\n",
    "* Finally, initialize the weights (again, this has been given)\n",
    "\n",
    "Note that some parameters have been named and given in the `__init__` function, and we use them and store them by doing something like `self.drop_prob = drop_prob`."
   ]
  },
  {
   "cell_type": "markdown",
   "metadata": {},
   "source": [
    "---\n",
    "### LSTM Inputs/Outputs\n",
    "\n",
    "You can create a basic [LSTM layer](https://pytorch.org/docs/stable/nn.html#lstm) as follows\n",
    "\n",
    "```python\n",
    "self.lstm = nn.LSTM(input_size, n_hidden, n_layers, \n",
    "                            dropout=drop_prob, batch_first=True)\n",
    "```\n",
    "\n",
    "where `input_size` is the number of characters this cell expects to see as sequential input, and `n_hidden` is the number of units in the hidden layers in the cell. And we can add dropout by adding a dropout parameter with a specified probability; this will automatically add dropout to the inputs or outputs. Finally, in the `forward` function, we can stack up the LSTM cells into layers using `.view`. With this, you pass in a list of cells and it will send the output of one cell into the next cell.\n",
    "\n",
    "We also need to create an initial hidden state of all zeros. This is done like so\n",
    "\n",
    "```python\n",
    "self.init_hidden()\n",
    "```"
   ]
  },
  {
   "cell_type": "code",
   "execution_count": 12,
   "metadata": {},
   "outputs": [
    {
     "name": "stdout",
     "output_type": "stream",
     "text": [
      "Training on GPU!\n"
     ]
    }
   ],
   "source": [
    "# check if GPU is available\n",
    "train_on_gpu = torch.cuda.is_available()\n",
    "if(train_on_gpu):\n",
    "    print('Training on GPU!')\n",
    "else: \n",
    "    print('No GPU available, training on CPU; consider making n_epochs very small.')"
   ]
  },
  {
   "cell_type": "code",
   "execution_count": 13,
   "metadata": {},
   "outputs": [],
   "source": [
    "class CharRNN(nn.Module):\n",
    "    \n",
    "    def __init__(self, tokens, n_hidden=256, n_layers=2,\n",
    "                               drop_prob=0.5, lr=0.001):\n",
    "        super().__init__()\n",
    "        self.drop_prob = drop_prob\n",
    "        self.n_layers = n_layers\n",
    "        self.n_hidden = n_hidden\n",
    "        self.lr = lr\n",
    "        \n",
    "        # creating character dictionaries\n",
    "        self.chars = tokens\n",
    "        self.int2char = dict(enumerate(self.chars))\n",
    "        self.char2int = {ch: ii for ii, ch in self.int2char.items()}\n",
    "        \n",
    "        ## TODO: define the layers of the model\n",
    "        self.lstm = nn.LSTM(len(self.chars), n_hidden, n_layers, dropout=drop_prob, batch_first=True)\n",
    "        self.dropout = nn.Dropout(drop_prob)\n",
    "        self.fc = nn.Linear(n_hidden, len(self.chars))\n",
    "        \n",
    "    \n",
    "    def forward(self, x, hidden):\n",
    "        ''' Forward pass through the network. \n",
    "            These inputs are x, and the hidden/cell state `hidden`. '''\n",
    "                \n",
    "        ## TODO: Get the outputs and the new hidden state from the lstm\n",
    "        out, hidden = self.lstm(x, hidden)\n",
    "        out = self.dropout(out)\n",
    "        out = out.contiguous().view(-1, self.n_hidden)\n",
    "        out = self.fc(out)\n",
    "        \n",
    "        # return the final output and the hidden state\n",
    "        return out, hidden\n",
    "    \n",
    "    \n",
    "    def init_hidden(self, batch_size):\n",
    "        ''' Initializes hidden state '''\n",
    "        # Create two new tensors with sizes n_layers x batch_size x n_hidden,\n",
    "        # initialized to zero, for hidden state and cell state of LSTM\n",
    "        weight = next(self.parameters()).data\n",
    "        \n",
    "        if (train_on_gpu):\n",
    "            hidden = (weight.new(self.n_layers, batch_size, self.n_hidden).zero_().cuda(),\n",
    "                  weight.new(self.n_layers, batch_size, self.n_hidden).zero_().cuda())\n",
    "        else:\n",
    "            hidden = (weight.new(self.n_layers, batch_size, self.n_hidden).zero_(),\n",
    "                      weight.new(self.n_layers, batch_size, self.n_hidden).zero_())\n",
    "        \n",
    "        return hidden\n",
    "        "
   ]
  },
  {
   "cell_type": "markdown",
   "metadata": {},
   "source": [
    "## Time to train\n",
    "\n",
    "The train function gives us the ability to set the number of epochs, the learning rate, and other parameters.\n",
    "\n",
    "Below we're using an Adam optimizer and cross entropy loss since we are looking at character class scores as output. We calculate the loss and perform backpropagation, as usual!\n",
    "\n",
    "A couple of details about training: \n",
    ">* Within the batch loop, we detach the hidden state from its history; this time setting it equal to a new *tuple* variable because an LSTM has a hidden state that is a tuple of the hidden and cell states.\n",
    "* We use [`clip_grad_norm_`](https://pytorch.org/docs/stable/_modules/torch/nn/utils/clip_grad.html) to help prevent exploding gradients."
   ]
  },
  {
   "cell_type": "code",
   "execution_count": 14,
   "metadata": {},
   "outputs": [],
   "source": [
    "def train(net, data, epochs=10, batch_size=10, seq_length=50, lr=0.001, clip=5, val_frac=0.1, print_every=10):\n",
    "    ''' Training a network \n",
    "    \n",
    "        Arguments\n",
    "        ---------\n",
    "        \n",
    "        net: CharRNN network\n",
    "        data: text data to train the network\n",
    "        epochs: Number of epochs to train\n",
    "        batch_size: Number of mini-sequences per mini-batch, aka batch size\n",
    "        seq_length: Number of character steps per mini-batch\n",
    "        lr: learning rate\n",
    "        clip: gradient clipping\n",
    "        val_frac: Fraction of data to hold out for validation\n",
    "        print_every: Number of steps for printing training and validation loss\n",
    "    \n",
    "    '''\n",
    "    net.train()\n",
    "    \n",
    "    opt = torch.optim.Adam(net.parameters(), lr=lr)\n",
    "    criterion = nn.CrossEntropyLoss()\n",
    "    \n",
    "    # create training and validation data\n",
    "    val_idx = int(len(data)*(1-val_frac))\n",
    "    data, val_data = data[:val_idx], data[val_idx:]\n",
    "    \n",
    "    if(train_on_gpu):\n",
    "        net.cuda()\n",
    "    \n",
    "    counter = 0\n",
    "    n_chars = len(net.chars)\n",
    "    for e in range(epochs):\n",
    "        # initialize hidden state\n",
    "        h = net.init_hidden(batch_size)\n",
    "        \n",
    "        for x, y in get_batches(data, batch_size, seq_length):\n",
    "            counter += 1\n",
    "            \n",
    "            # One-hot encode our data and make them Torch tensors\n",
    "            x = one_hot_encode(x, n_chars)\n",
    "            inputs, targets = torch.from_numpy(x), torch.from_numpy(y)\n",
    "            \n",
    "            if(train_on_gpu):\n",
    "                inputs, targets = inputs.cuda(), targets.cuda()\n",
    "\n",
    "            # Creating new variables for the hidden state, otherwise\n",
    "            # we'd backprop through the entire training history\n",
    "            h = tuple([each.data for each in h])\n",
    "\n",
    "            # zero accumulated gradients\n",
    "            net.zero_grad()\n",
    "            \n",
    "            # get the output from the model\n",
    "            output, h = net(inputs, h)\n",
    "            \n",
    "            # calculate the loss and perform backprop\n",
    "            loss = criterion(output, targets.view(batch_size*seq_length).long())\n",
    "            loss.backward()\n",
    "            # `clip_grad_norm` helps prevent the exploding gradient problem in RNNs / LSTMs.\n",
    "            nn.utils.clip_grad_norm_(net.parameters(), clip)\n",
    "            opt.step()\n",
    "            \n",
    "            # loss stats\n",
    "            if counter % print_every == 0:\n",
    "                # Get validation loss\n",
    "                val_h = net.init_hidden(batch_size)\n",
    "                val_losses = []\n",
    "                net.eval()\n",
    "                for x, y in get_batches(val_data, batch_size, seq_length):\n",
    "                    # One-hot encode our data and make them Torch tensors\n",
    "                    x = one_hot_encode(x, n_chars)\n",
    "                    x, y = torch.from_numpy(x), torch.from_numpy(y)\n",
    "                    \n",
    "                    # Creating new variables for the hidden state, otherwise\n",
    "                    # we'd backprop through the entire training history\n",
    "                    val_h = tuple([each.data for each in val_h])\n",
    "                    \n",
    "                    inputs, targets = x, y\n",
    "                    if(train_on_gpu):\n",
    "                        inputs, targets = inputs.cuda(), targets.cuda()\n",
    "\n",
    "                    output, val_h = net(inputs, val_h)\n",
    "                    val_loss = criterion(output, targets.view(batch_size*seq_length).long())\n",
    "                \n",
    "                    val_losses.append(val_loss.item())\n",
    "                \n",
    "                net.train() # reset to train mode after iterationg through validation data\n",
    "                \n",
    "                print(\"Epoch: {}/{}...\".format(e+1, epochs),\n",
    "                      \"Step: {}...\".format(counter),\n",
    "                      \"Loss: {:.4f}...\".format(loss.item()),\n",
    "                      \"Val Loss: {:.4f}\".format(np.mean(val_losses)))"
   ]
  },
  {
   "cell_type": "markdown",
   "metadata": {},
   "source": [
    "## Instantiating the model\n",
    "\n",
    "Now we can actually train the network. First we'll create the network itself, with some given hyperparameters. Then, define the mini-batches sizes, and start training!"
   ]
  },
  {
   "cell_type": "code",
   "execution_count": 15,
   "metadata": {},
   "outputs": [
    {
     "name": "stdout",
     "output_type": "stream",
     "text": [
      "CharRNN(\n",
      "  (lstm): LSTM(83, 256, num_layers=3, batch_first=True, dropout=0.5)\n",
      "  (dropout): Dropout(p=0.5)\n",
      "  (fc): Linear(in_features=256, out_features=83, bias=True)\n",
      ")\n"
     ]
    }
   ],
   "source": [
    "## TODO: set your model hyperparameters\n",
    "# define and print the net\n",
    "n_hidden=256\n",
    "n_layers=3\n",
    "\n",
    "net = CharRNN(chars, n_hidden, n_layers)\n",
    "print(net)"
   ]
  },
  {
   "cell_type": "markdown",
   "metadata": {},
   "source": [
    "### Set your training hyperparameters!"
   ]
  },
  {
   "cell_type": "code",
   "execution_count": 16,
   "metadata": {
    "scrolled": false
   },
   "outputs": [
    {
     "name": "stdout",
     "output_type": "stream",
     "text": [
      "Epoch: 1/100... Step: 100... Loss: 3.1570... Val Loss: 3.1263\n",
      "Epoch: 1/100... Step: 200... Loss: 3.1311... Val Loss: 3.1264\n",
      "Epoch: 2/100... Step: 300... Loss: 3.1287... Val Loss: 3.1224\n",
      "Epoch: 2/100... Step: 400... Loss: 2.9348... Val Loss: 2.8876\n",
      "Epoch: 2/100... Step: 500... Loss: 2.7419... Val Loss: 2.7233\n",
      "Epoch: 3/100... Step: 600... Loss: 2.5295... Val Loss: 2.4813\n",
      "Epoch: 3/100... Step: 700... Loss: 2.4388... Val Loss: 2.3951\n",
      "Epoch: 3/100... Step: 800... Loss: 2.3322... Val Loss: 2.3391\n",
      "Epoch: 4/100... Step: 900... Loss: 2.3235... Val Loss: 2.2866\n",
      "Epoch: 4/100... Step: 1000... Loss: 2.2284... Val Loss: 2.2377\n",
      "Epoch: 4/100... Step: 1100... Loss: 2.2026... Val Loss: 2.1930\n",
      "Epoch: 5/100... Step: 1200... Loss: 2.1716... Val Loss: 2.1546\n",
      "Epoch: 5/100... Step: 1300... Loss: 2.1192... Val Loss: 2.1146\n",
      "Epoch: 6/100... Step: 1400... Loss: 2.1245... Val Loss: 2.0759\n",
      "Epoch: 6/100... Step: 1500... Loss: 2.0310... Val Loss: 2.0406\n",
      "Epoch: 6/100... Step: 1600... Loss: 2.0099... Val Loss: 2.0100\n",
      "Epoch: 7/100... Step: 1700... Loss: 1.9792... Val Loss: 1.9786\n",
      "Epoch: 7/100... Step: 1800... Loss: 1.9679... Val Loss: 1.9443\n",
      "Epoch: 7/100... Step: 1900... Loss: 1.9074... Val Loss: 1.9211\n",
      "Epoch: 8/100... Step: 2000... Loss: 1.9320... Val Loss: 1.8946\n",
      "Epoch: 8/100... Step: 2100... Loss: 1.8867... Val Loss: 1.8693\n",
      "Epoch: 8/100... Step: 2200... Loss: 1.8777... Val Loss: 1.8469\n",
      "Epoch: 9/100... Step: 2300... Loss: 1.8518... Val Loss: 1.8253\n",
      "Epoch: 9/100... Step: 2400... Loss: 1.8124... Val Loss: 1.8024\n",
      "Epoch: 9/100... Step: 2500... Loss: 1.7877... Val Loss: 1.7842\n",
      "Epoch: 10/100... Step: 2600... Loss: 1.7807... Val Loss: 1.7657\n",
      "Epoch: 10/100... Step: 2700... Loss: 1.7813... Val Loss: 1.7474\n",
      "Epoch: 11/100... Step: 2800... Loss: 1.7321... Val Loss: 1.7321\n",
      "Epoch: 11/100... Step: 2900... Loss: 1.7248... Val Loss: 1.7204\n",
      "Epoch: 11/100... Step: 3000... Loss: 1.7313... Val Loss: 1.7012\n",
      "Epoch: 12/100... Step: 3100... Loss: 1.7178... Val Loss: 1.6849\n",
      "Epoch: 12/100... Step: 3200... Loss: 1.7180... Val Loss: 1.6722\n",
      "Epoch: 12/100... Step: 3300... Loss: 1.7132... Val Loss: 1.6594\n",
      "Epoch: 13/100... Step: 3400... Loss: 1.6969... Val Loss: 1.6465\n",
      "Epoch: 13/100... Step: 3500... Loss: 1.6793... Val Loss: 1.6374\n",
      "Epoch: 13/100... Step: 3600... Loss: 1.6514... Val Loss: 1.6239\n",
      "Epoch: 14/100... Step: 3700... Loss: 1.6039... Val Loss: 1.6141\n",
      "Epoch: 14/100... Step: 3800... Loss: 1.6542... Val Loss: 1.6061\n",
      "Epoch: 14/100... Step: 3900... Loss: 1.6357... Val Loss: 1.5977\n",
      "Epoch: 15/100... Step: 4000... Loss: 1.6475... Val Loss: 1.5900\n",
      "Epoch: 15/100... Step: 4100... Loss: 1.5578... Val Loss: 1.5803\n",
      "Epoch: 16/100... Step: 4200... Loss: 1.6343... Val Loss: 1.5726\n",
      "Epoch: 16/100... Step: 4300... Loss: 1.5501... Val Loss: 1.5658\n",
      "Epoch: 16/100... Step: 4400... Loss: 1.5937... Val Loss: 1.5610\n",
      "Epoch: 17/100... Step: 4500... Loss: 1.5913... Val Loss: 1.5525\n",
      "Epoch: 17/100... Step: 4600... Loss: 1.5707... Val Loss: 1.5467\n",
      "Epoch: 17/100... Step: 4700... Loss: 1.5707... Val Loss: 1.5381\n",
      "Epoch: 18/100... Step: 4800... Loss: 1.5465... Val Loss: 1.5355\n",
      "Epoch: 18/100... Step: 4900... Loss: 1.5424... Val Loss: 1.5291\n",
      "Epoch: 18/100... Step: 5000... Loss: 1.6112... Val Loss: 1.5239\n",
      "Epoch: 19/100... Step: 5100... Loss: 1.5248... Val Loss: 1.5195\n",
      "Epoch: 19/100... Step: 5200... Loss: 1.5562... Val Loss: 1.5155\n",
      "Epoch: 19/100... Step: 5300... Loss: 1.5053... Val Loss: 1.5086\n",
      "Epoch: 20/100... Step: 5400... Loss: 1.4974... Val Loss: 1.5067\n",
      "Epoch: 20/100... Step: 5500... Loss: 1.5247... Val Loss: 1.4996\n",
      "Epoch: 21/100... Step: 5600... Loss: 1.5190... Val Loss: 1.4977\n",
      "Epoch: 21/100... Step: 5700... Loss: 1.5046... Val Loss: 1.4919\n",
      "Epoch: 21/100... Step: 5800... Loss: 1.5174... Val Loss: 1.4883\n",
      "Epoch: 22/100... Step: 5900... Loss: 1.4311... Val Loss: 1.4843\n",
      "Epoch: 22/100... Step: 6000... Loss: 1.5033... Val Loss: 1.4797\n",
      "Epoch: 22/100... Step: 6100... Loss: 1.5015... Val Loss: 1.4774\n",
      "Epoch: 23/100... Step: 6200... Loss: 1.4626... Val Loss: 1.4740\n",
      "Epoch: 23/100... Step: 6300... Loss: 1.4737... Val Loss: 1.4727\n",
      "Epoch: 23/100... Step: 6400... Loss: 1.4625... Val Loss: 1.4683\n",
      "Epoch: 24/100... Step: 6500... Loss: 1.4913... Val Loss: 1.4693\n",
      "Epoch: 24/100... Step: 6600... Loss: 1.4717... Val Loss: 1.4666\n",
      "Epoch: 25/100... Step: 6700... Loss: 1.4369... Val Loss: 1.4623\n",
      "Epoch: 25/100... Step: 6800... Loss: 1.4494... Val Loss: 1.4590\n",
      "Epoch: 25/100... Step: 6900... Loss: 1.4381... Val Loss: 1.4563\n",
      "Epoch: 26/100... Step: 7000... Loss: 1.4795... Val Loss: 1.4543\n",
      "Epoch: 26/100... Step: 7100... Loss: 1.4823... Val Loss: 1.4500\n",
      "Epoch: 26/100... Step: 7200... Loss: 1.4393... Val Loss: 1.4500\n",
      "Epoch: 27/100... Step: 7300... Loss: 1.4809... Val Loss: 1.4435\n",
      "Epoch: 27/100... Step: 7400... Loss: 1.4313... Val Loss: 1.4431\n",
      "Epoch: 27/100... Step: 7500... Loss: 1.3966... Val Loss: 1.4383\n",
      "Epoch: 28/100... Step: 7600... Loss: 1.4519... Val Loss: 1.4383\n",
      "Epoch: 28/100... Step: 7700... Loss: 1.4490... Val Loss: 1.4387\n",
      "Epoch: 28/100... Step: 7800... Loss: 1.4436... Val Loss: 1.4316\n",
      "Epoch: 29/100... Step: 7900... Loss: 1.4455... Val Loss: 1.4366\n",
      "Epoch: 29/100... Step: 8000... Loss: 1.4222... Val Loss: 1.4338\n",
      "Epoch: 30/100... Step: 8100... Loss: 1.4102... Val Loss: 1.4264\n",
      "Epoch: 30/100... Step: 8200... Loss: 1.4135... Val Loss: 1.4305\n",
      "Epoch: 30/100... Step: 8300... Loss: 1.4391... Val Loss: 1.4261\n",
      "Epoch: 31/100... Step: 8400... Loss: 1.4097... Val Loss: 1.4257\n",
      "Epoch: 31/100... Step: 8500... Loss: 1.4090... Val Loss: 1.4225\n",
      "Epoch: 31/100... Step: 8600... Loss: 1.4100... Val Loss: 1.4241\n",
      "Epoch: 32/100... Step: 8700... Loss: 1.3995... Val Loss: 1.4171\n",
      "Epoch: 32/100... Step: 8800... Loss: 1.4349... Val Loss: 1.4189\n",
      "Epoch: 32/100... Step: 8900... Loss: 1.4037... Val Loss: 1.4161\n",
      "Epoch: 33/100... Step: 9000... Loss: 1.4212... Val Loss: 1.4189\n",
      "Epoch: 33/100... Step: 9100... Loss: 1.3820... Val Loss: 1.4151\n",
      "Epoch: 33/100... Step: 9200... Loss: 1.3762... Val Loss: 1.4123\n",
      "Epoch: 34/100... Step: 9300... Loss: 1.3859... Val Loss: 1.4143\n",
      "Epoch: 34/100... Step: 9400... Loss: 1.4169... Val Loss: 1.4110\n",
      "Epoch: 35/100... Step: 9500... Loss: 1.4008... Val Loss: 1.4059\n",
      "Epoch: 35/100... Step: 9600... Loss: 1.3850... Val Loss: 1.4102\n",
      "Epoch: 35/100... Step: 9700... Loss: 1.4019... Val Loss: 1.4058\n",
      "Epoch: 36/100... Step: 9800... Loss: 1.4052... Val Loss: 1.4080\n",
      "Epoch: 36/100... Step: 9900... Loss: 1.4086... Val Loss: 1.4011\n",
      "Epoch: 36/100... Step: 10000... Loss: 1.3959... Val Loss: 1.4022\n",
      "Epoch: 37/100... Step: 10100... Loss: 1.3545... Val Loss: 1.4066\n",
      "Epoch: 37/100... Step: 10200... Loss: 1.3705... Val Loss: 1.4007\n",
      "Epoch: 37/100... Step: 10300... Loss: 1.3847... Val Loss: 1.4001\n",
      "Epoch: 38/100... Step: 10400... Loss: 1.3574... Val Loss: 1.4009\n",
      "Epoch: 38/100... Step: 10500... Loss: 1.4247... Val Loss: 1.4025\n",
      "Epoch: 38/100... Step: 10600... Loss: 1.3595... Val Loss: 1.3936\n",
      "Epoch: 39/100... Step: 10700... Loss: 1.3535... Val Loss: 1.3944\n",
      "Epoch: 39/100... Step: 10800... Loss: 1.3470... Val Loss: 1.3956\n",
      "Epoch: 40/100... Step: 10900... Loss: 1.3982... Val Loss: 1.3976\n",
      "Epoch: 40/100... Step: 11000... Loss: 1.3393... Val Loss: 1.3982\n",
      "Epoch: 40/100... Step: 11100... Loss: 1.3625... Val Loss: 1.3956\n",
      "Epoch: 41/100... Step: 11200... Loss: 1.3219... Val Loss: 1.3936\n",
      "Epoch: 41/100... Step: 11300... Loss: 1.3162... Val Loss: 1.3902\n",
      "Epoch: 41/100... Step: 11400... Loss: 1.3589... Val Loss: 1.3887\n",
      "Epoch: 42/100... Step: 11500... Loss: 1.3180... Val Loss: 1.3902\n",
      "Epoch: 42/100... Step: 11600... Loss: 1.3392... Val Loss: 1.3870\n",
      "Epoch: 42/100... Step: 11700... Loss: 1.3270... Val Loss: 1.3910\n",
      "Epoch: 43/100... Step: 11800... Loss: 1.3425... Val Loss: 1.3872\n",
      "Epoch: 43/100... Step: 11900... Loss: 1.3790... Val Loss: 1.3864\n",
      "Epoch: 44/100... Step: 12000... Loss: 1.3554... Val Loss: 1.3848\n",
      "Epoch: 44/100... Step: 12100... Loss: 1.3314... Val Loss: 1.3853\n",
      "Epoch: 44/100... Step: 12200... Loss: 1.3488... Val Loss: 1.3827\n",
      "Epoch: 45/100... Step: 12300... Loss: 1.3285... Val Loss: 1.3810\n",
      "Epoch: 45/100... Step: 12400... Loss: 1.3243... Val Loss: 1.3798\n",
      "Epoch: 45/100... Step: 12500... Loss: 1.3862... Val Loss: 1.3827\n",
      "Epoch: 46/100... Step: 12600... Loss: 1.3418... Val Loss: 1.3795\n",
      "Epoch: 46/100... Step: 12700... Loss: 1.3648... Val Loss: 1.3795\n",
      "Epoch: 46/100... Step: 12800... Loss: 1.3459... Val Loss: 1.3771\n",
      "Epoch: 47/100... Step: 12900... Loss: 1.3328... Val Loss: 1.3747\n"
     ]
    },
    {
     "name": "stdout",
     "output_type": "stream",
     "text": [
      "Epoch: 47/100... Step: 13000... Loss: 1.3223... Val Loss: 1.3722\n",
      "Epoch: 47/100... Step: 13100... Loss: 1.3496... Val Loss: 1.3745\n",
      "Epoch: 48/100... Step: 13200... Loss: 1.2809... Val Loss: 1.3788\n",
      "Epoch: 48/100... Step: 13300... Loss: 1.3521... Val Loss: 1.3753\n",
      "Epoch: 49/100... Step: 13400... Loss: 1.3299... Val Loss: 1.3802\n",
      "Epoch: 49/100... Step: 13500... Loss: 1.3269... Val Loss: 1.3778\n",
      "Epoch: 49/100... Step: 13600... Loss: 1.3436... Val Loss: 1.3742\n",
      "Epoch: 50/100... Step: 13700... Loss: 1.3144... Val Loss: 1.3759\n",
      "Epoch: 50/100... Step: 13800... Loss: 1.3442... Val Loss: 1.3698\n",
      "Epoch: 50/100... Step: 13900... Loss: 1.3583... Val Loss: 1.3686\n",
      "Epoch: 51/100... Step: 14000... Loss: 1.3541... Val Loss: 1.3684\n",
      "Epoch: 51/100... Step: 14100... Loss: 1.3440... Val Loss: 1.3700\n",
      "Epoch: 51/100... Step: 14200... Loss: 1.2941... Val Loss: 1.3692\n",
      "Epoch: 52/100... Step: 14300... Loss: 1.2996... Val Loss: 1.3745\n",
      "Epoch: 52/100... Step: 14400... Loss: 1.3583... Val Loss: 1.3694\n",
      "Epoch: 52/100... Step: 14500... Loss: 1.3959... Val Loss: 1.3660\n",
      "Epoch: 53/100... Step: 14600... Loss: 1.3076... Val Loss: 1.3698\n",
      "Epoch: 53/100... Step: 14700... Loss: 1.2927... Val Loss: 1.3672\n",
      "Epoch: 54/100... Step: 14800... Loss: 1.3362... Val Loss: 1.3729\n",
      "Epoch: 54/100... Step: 14900... Loss: 1.2667... Val Loss: 1.3684\n",
      "Epoch: 54/100... Step: 15000... Loss: 1.3386... Val Loss: 1.3638\n",
      "Epoch: 55/100... Step: 15100... Loss: 1.3274... Val Loss: 1.3673\n",
      "Epoch: 55/100... Step: 15200... Loss: 1.3179... Val Loss: 1.3617\n",
      "Epoch: 55/100... Step: 15300... Loss: 1.3464... Val Loss: 1.3639\n",
      "Epoch: 56/100... Step: 15400... Loss: 1.2946... Val Loss: 1.3649\n",
      "Epoch: 56/100... Step: 15500... Loss: 1.3240... Val Loss: 1.3627\n",
      "Epoch: 56/100... Step: 15600... Loss: 1.3046... Val Loss: 1.3613\n",
      "Epoch: 57/100... Step: 15700... Loss: 1.3033... Val Loss: 1.3675\n",
      "Epoch: 57/100... Step: 15800... Loss: 1.3235... Val Loss: 1.3663\n",
      "Epoch: 57/100... Step: 15900... Loss: 1.2941... Val Loss: 1.3588\n",
      "Epoch: 58/100... Step: 16000... Loss: 1.3453... Val Loss: 1.3614\n",
      "Epoch: 58/100... Step: 16100... Loss: 1.3310... Val Loss: 1.3590\n",
      "Epoch: 59/100... Step: 16200... Loss: 1.3297... Val Loss: 1.3659\n",
      "Epoch: 59/100... Step: 16300... Loss: 1.2711... Val Loss: 1.3642\n",
      "Epoch: 59/100... Step: 16400... Loss: 1.3220... Val Loss: 1.3593\n",
      "Epoch: 60/100... Step: 16500... Loss: 1.2727... Val Loss: 1.3579\n",
      "Epoch: 60/100... Step: 16600... Loss: 1.2981... Val Loss: 1.3592\n",
      "Epoch: 60/100... Step: 16700... Loss: 1.3143... Val Loss: 1.3606\n",
      "Epoch: 61/100... Step: 16800... Loss: 1.2352... Val Loss: 1.3573\n",
      "Epoch: 61/100... Step: 16900... Loss: 1.2855... Val Loss: 1.3562\n",
      "Epoch: 61/100... Step: 17000... Loss: 1.3072... Val Loss: 1.3586\n",
      "Epoch: 62/100... Step: 17100... Loss: 1.2935... Val Loss: 1.3607\n",
      "Epoch: 62/100... Step: 17200... Loss: 1.2979... Val Loss: 1.3550\n",
      "Epoch: 63/100... Step: 17300... Loss: 1.2926... Val Loss: 1.3598\n",
      "Epoch: 63/100... Step: 17400... Loss: 1.2679... Val Loss: 1.3604\n",
      "Epoch: 63/100... Step: 17500... Loss: 1.3117... Val Loss: 1.3604\n",
      "Epoch: 64/100... Step: 17600... Loss: 1.3031... Val Loss: 1.3550\n",
      "Epoch: 64/100... Step: 17700... Loss: 1.3460... Val Loss: 1.3611\n",
      "Epoch: 64/100... Step: 17800... Loss: 1.2905... Val Loss: 1.3532\n",
      "Epoch: 65/100... Step: 17900... Loss: 1.3324... Val Loss: 1.3565\n",
      "Epoch: 65/100... Step: 18000... Loss: 1.3054... Val Loss: 1.3562\n",
      "Epoch: 65/100... Step: 18100... Loss: 1.3238... Val Loss: 1.3538\n",
      "Epoch: 66/100... Step: 18200... Loss: 1.2964... Val Loss: 1.3589\n",
      "Epoch: 66/100... Step: 18300... Loss: 1.2960... Val Loss: 1.3551\n",
      "Epoch: 66/100... Step: 18400... Loss: 1.3170... Val Loss: 1.3550\n",
      "Epoch: 67/100... Step: 18500... Loss: 1.2266... Val Loss: 1.3541\n",
      "Epoch: 67/100... Step: 18600... Loss: 1.2884... Val Loss: 1.3514\n",
      "Epoch: 68/100... Step: 18700... Loss: 1.2526... Val Loss: 1.3563\n",
      "Epoch: 68/100... Step: 18800... Loss: 1.2626... Val Loss: 1.3569\n",
      "Epoch: 68/100... Step: 18900... Loss: 1.3159... Val Loss: 1.3493\n",
      "Epoch: 69/100... Step: 19000... Loss: 1.2544... Val Loss: 1.3552\n",
      "Epoch: 69/100... Step: 19100... Loss: 1.3157... Val Loss: 1.3504\n",
      "Epoch: 69/100... Step: 19200... Loss: 1.2748... Val Loss: 1.3483\n",
      "Epoch: 70/100... Step: 19300... Loss: 1.2473... Val Loss: 1.3521\n",
      "Epoch: 70/100... Step: 19400... Loss: 1.2947... Val Loss: 1.3522\n",
      "Epoch: 70/100... Step: 19500... Loss: 1.2322... Val Loss: 1.3484\n",
      "Epoch: 71/100... Step: 19600... Loss: 1.3137... Val Loss: 1.3515\n",
      "Epoch: 71/100... Step: 19700... Loss: 1.2998... Val Loss: 1.3475\n",
      "Epoch: 71/100... Step: 19800... Loss: 1.2746... Val Loss: 1.3534\n",
      "Epoch: 72/100... Step: 19900... Loss: 1.2844... Val Loss: 1.3526\n",
      "Epoch: 72/100... Step: 20000... Loss: 1.2966... Val Loss: 1.3517\n",
      "Epoch: 73/100... Step: 20100... Loss: 1.2680... Val Loss: 1.3601\n",
      "Epoch: 73/100... Step: 20200... Loss: 1.2637... Val Loss: 1.3528\n",
      "Epoch: 73/100... Step: 20300... Loss: 1.2509... Val Loss: 1.3517\n",
      "Epoch: 74/100... Step: 20400... Loss: 1.2498... Val Loss: 1.3506\n",
      "Epoch: 74/100... Step: 20500... Loss: 1.3068... Val Loss: 1.3484\n",
      "Epoch: 74/100... Step: 20600... Loss: 1.2835... Val Loss: 1.3482\n",
      "Epoch: 75/100... Step: 20700... Loss: 1.2358... Val Loss: 1.3489\n",
      "Epoch: 75/100... Step: 20800... Loss: 1.2708... Val Loss: 1.3460\n",
      "Epoch: 75/100... Step: 20900... Loss: 1.2492... Val Loss: 1.3474\n",
      "Epoch: 76/100... Step: 21000... Loss: 1.2915... Val Loss: 1.3535\n",
      "Epoch: 76/100... Step: 21100... Loss: 1.3358... Val Loss: 1.3515\n",
      "Epoch: 76/100... Step: 21200... Loss: 1.3533... Val Loss: 1.3522\n",
      "Epoch: 77/100... Step: 21300... Loss: 1.3081... Val Loss: 1.3464\n",
      "Epoch: 77/100... Step: 21400... Loss: 1.2500... Val Loss: 1.3490\n",
      "Epoch: 78/100... Step: 21500... Loss: 1.3004... Val Loss: 1.3512\n",
      "Epoch: 78/100... Step: 21600... Loss: 1.2688... Val Loss: 1.3576\n",
      "Epoch: 78/100... Step: 21700... Loss: 1.2430... Val Loss: 1.3458\n",
      "Epoch: 79/100... Step: 21800... Loss: 1.2680... Val Loss: 1.3514\n",
      "Epoch: 79/100... Step: 21900... Loss: 1.2846... Val Loss: 1.3493\n",
      "Epoch: 79/100... Step: 22000... Loss: 1.2917... Val Loss: 1.3495\n",
      "Epoch: 80/100... Step: 22100... Loss: 1.2191... Val Loss: 1.3501\n",
      "Epoch: 80/100... Step: 22200... Loss: 1.2622... Val Loss: 1.3453\n",
      "Epoch: 80/100... Step: 22300... Loss: 1.2715... Val Loss: 1.3472\n",
      "Epoch: 81/100... Step: 22400... Loss: 1.2654... Val Loss: 1.3508\n",
      "Epoch: 81/100... Step: 22500... Loss: 1.2566... Val Loss: 1.3489\n",
      "Epoch: 82/100... Step: 22600... Loss: 1.3470... Val Loss: 1.3456\n",
      "Epoch: 82/100... Step: 22700... Loss: 1.2502... Val Loss: 1.3439\n",
      "Epoch: 82/100... Step: 22800... Loss: 1.2914... Val Loss: 1.3444\n",
      "Epoch: 83/100... Step: 22900... Loss: 1.2458... Val Loss: 1.3444\n",
      "Epoch: 83/100... Step: 23000... Loss: 1.2278... Val Loss: 1.3521\n",
      "Epoch: 83/100... Step: 23100... Loss: 1.2666... Val Loss: 1.3463\n",
      "Epoch: 84/100... Step: 23200... Loss: 1.2436... Val Loss: 1.3481\n",
      "Epoch: 84/100... Step: 23300... Loss: 1.2490... Val Loss: 1.3460\n",
      "Epoch: 84/100... Step: 23400... Loss: 1.2883... Val Loss: 1.3469\n",
      "Epoch: 85/100... Step: 23500... Loss: 1.2457... Val Loss: 1.3489\n",
      "Epoch: 85/100... Step: 23600... Loss: 1.2575... Val Loss: 1.3438\n",
      "Epoch: 85/100... Step: 23700... Loss: 1.2942... Val Loss: 1.3475\n",
      "Epoch: 86/100... Step: 23800... Loss: 1.2313... Val Loss: 1.3463\n",
      "Epoch: 86/100... Step: 23900... Loss: 1.2457... Val Loss: 1.3483\n",
      "Epoch: 87/100... Step: 24000... Loss: 1.2498... Val Loss: 1.3476\n",
      "Epoch: 87/100... Step: 24100... Loss: 1.2188... Val Loss: 1.3481\n",
      "Epoch: 87/100... Step: 24200... Loss: 1.2801... Val Loss: 1.3449\n",
      "Epoch: 88/100... Step: 24300... Loss: 1.2238... Val Loss: 1.3444\n",
      "Epoch: 88/100... Step: 24400... Loss: 1.2667... Val Loss: 1.3442\n",
      "Epoch: 88/100... Step: 24500... Loss: 1.2659... Val Loss: 1.3445\n",
      "Epoch: 89/100... Step: 24600... Loss: 1.2371... Val Loss: 1.3447\n",
      "Epoch: 89/100... Step: 24700... Loss: 1.2578... Val Loss: 1.3401\n",
      "Epoch: 89/100... Step: 24800... Loss: 1.2426... Val Loss: 1.3388\n",
      "Epoch: 90/100... Step: 24900... Loss: 1.2595... Val Loss: 1.3420\n",
      "Epoch: 90/100... Step: 25000... Loss: 1.2771... Val Loss: 1.3393\n",
      "Epoch: 90/100... Step: 25100... Loss: 1.2879... Val Loss: 1.3431\n",
      "Epoch: 91/100... Step: 25200... Loss: 1.2526... Val Loss: 1.3443\n",
      "Epoch: 91/100... Step: 25300... Loss: 1.2706... Val Loss: 1.3423\n",
      "Epoch: 92/100... Step: 25400... Loss: 1.2570... Val Loss: 1.3406\n",
      "Epoch: 92/100... Step: 25500... Loss: 1.2433... Val Loss: 1.3434\n",
      "Epoch: 92/100... Step: 25600... Loss: 1.2435... Val Loss: 1.3397\n"
     ]
    },
    {
     "name": "stdout",
     "output_type": "stream",
     "text": [
      "Epoch: 93/100... Step: 25700... Loss: 1.2204... Val Loss: 1.3435\n",
      "Epoch: 93/100... Step: 25800... Loss: 1.3032... Val Loss: 1.3408\n",
      "Epoch: 93/100... Step: 25900... Loss: 1.2715... Val Loss: 1.3383\n",
      "Epoch: 94/100... Step: 26000... Loss: 1.2408... Val Loss: 1.3411\n",
      "Epoch: 94/100... Step: 26100... Loss: 1.2416... Val Loss: 1.3384\n",
      "Epoch: 94/100... Step: 26200... Loss: 1.2244... Val Loss: 1.3415\n",
      "Epoch: 95/100... Step: 26300... Loss: 1.2377... Val Loss: 1.3419\n",
      "Epoch: 95/100... Step: 26400... Loss: 1.2490... Val Loss: 1.3405\n",
      "Epoch: 95/100... Step: 26500... Loss: 1.2472... Val Loss: 1.3398\n",
      "Epoch: 96/100... Step: 26600... Loss: 1.2697... Val Loss: 1.3405\n",
      "Epoch: 96/100... Step: 26700... Loss: 1.2536... Val Loss: 1.3382\n",
      "Epoch: 97/100... Step: 26800... Loss: 1.2794... Val Loss: 1.3375\n",
      "Epoch: 97/100... Step: 26900... Loss: 1.2190... Val Loss: 1.3405\n",
      "Epoch: 97/100... Step: 27000... Loss: 1.2334... Val Loss: 1.3387\n",
      "Epoch: 98/100... Step: 27100... Loss: 1.2777... Val Loss: 1.3423\n",
      "Epoch: 98/100... Step: 27200... Loss: 1.2584... Val Loss: 1.3397\n",
      "Epoch: 98/100... Step: 27300... Loss: 1.2342... Val Loss: 1.3363\n",
      "Epoch: 99/100... Step: 27400... Loss: 1.2163... Val Loss: 1.3372\n",
      "Epoch: 99/100... Step: 27500... Loss: 1.2478... Val Loss: 1.3400\n",
      "Epoch: 99/100... Step: 27600... Loss: 1.2500... Val Loss: 1.3419\n",
      "Epoch: 100/100... Step: 27700... Loss: 1.2325... Val Loss: 1.3458\n",
      "Epoch: 100/100... Step: 27800... Loss: 1.2363... Val Loss: 1.3403\n",
      "Epoch: 100/100... Step: 27900... Loss: 1.2998... Val Loss: 1.3375\n"
     ]
    }
   ],
   "source": [
    "batch_size = 64\n",
    "seq_length = 100\n",
    "n_epochs =  100 # start small if you are just testing initial behavior\n",
    "\n",
    "# train the model\n",
    "train(net, encoded, epochs=n_epochs, batch_size=batch_size, seq_length=seq_length, lr=0.0005, print_every=100)"
   ]
  },
  {
   "cell_type": "markdown",
   "metadata": {},
   "source": [
    "## Getting the best model\n",
    "\n",
    "To set your hyperparameters to get the best performance, you'll want to watch the training and validation losses. If your training loss is much lower than the validation loss, you're overfitting. Increase regularization (more dropout) or use a smaller network. If the training and validation losses are close, you're underfitting so you can increase the size of the network."
   ]
  },
  {
   "cell_type": "markdown",
   "metadata": {},
   "source": [
    "## Hyperparameters\n",
    "\n",
    "Here are the hyperparameters for the network.\n",
    "\n",
    "In defining the model:\n",
    "* `n_hidden` - The number of units in the hidden layers.\n",
    "* `n_layers` - Number of hidden LSTM layers to use.\n",
    "\n",
    "We assume that dropout probability and learning rate will be kept at the default, in this example.\n",
    "\n",
    "And in training:\n",
    "* `batch_size` - Number of sequences running through the network in one pass.\n",
    "* `seq_length` - Number of characters in the sequence the network is trained on. Larger is better typically, the network will learn more long range dependencies. But it takes longer to train. 100 is typically a good number here.\n",
    "* `lr` - Learning rate for training\n",
    "\n",
    "Here's some good advice from Andrej Karpathy on training the network. I'm going to copy it in here for your benefit, but also link to [where it originally came from](https://github.com/karpathy/char-rnn#tips-and-tricks).\n",
    "\n",
    "> ## Tips and Tricks\n",
    "\n",
    ">### Monitoring Validation Loss vs. Training Loss\n",
    ">If you're somewhat new to Machine Learning or Neural Networks it can take a bit of expertise to get good models. The most important quantity to keep track of is the difference between your training loss (printed during training) and the validation loss (printed once in a while when the RNN is run on the validation data (by default every 1000 iterations)). In particular:\n",
    "\n",
    "> - If your training loss is much lower than validation loss then this means the network might be **overfitting**. Solutions to this are to decrease your network size, or to increase dropout. For example you could try dropout of 0.5 and so on.\n",
    "> - If your training/validation loss are about equal then your model is **underfitting**. Increase the size of your model (either number of layers or the raw number of neurons per layer)\n",
    "\n",
    "> ### Approximate number of parameters\n",
    "\n",
    "> The two most important parameters that control the model are `n_hidden` and `n_layers`. I would advise that you always use `n_layers` of either 2/3. The `n_hidden` can be adjusted based on how much data you have. The two important quantities to keep track of here are:\n",
    "\n",
    "> - The number of parameters in your model. This is printed when you start training.\n",
    "> - The size of your dataset. 1MB file is approximately 1 million characters.\n",
    "\n",
    ">These two should be about the same order of magnitude. It's a little tricky to tell. Here are some examples:\n",
    "\n",
    "> - I have a 100MB dataset and I'm using the default parameter settings (which currently print 150K parameters). My data size is significantly larger (100 mil >> 0.15 mil), so I expect to heavily underfit. I am thinking I can comfortably afford to make `n_hidden` larger.\n",
    "> - I have a 10MB dataset and running a 10 million parameter model. I'm slightly nervous and I'm carefully monitoring my validation loss. If it's larger than my training loss then I may want to try to increase dropout a bit and see if that helps the validation loss.\n",
    "\n",
    "> ### Best models strategy\n",
    "\n",
    ">The winning strategy to obtaining very good models (if you have the compute time) is to always err on making the network larger (as large as you're willing to wait for it to compute) and then try different dropout values (between 0,1). Whatever model has the best validation performance (the loss, written in the checkpoint filename, low is good) is the one you should use in the end.\n",
    "\n",
    ">It is very common in deep learning to run many different models with many different hyperparameter settings, and in the end take whatever checkpoint gave the best validation performance.\n",
    "\n",
    ">By the way, the size of your training and validation splits are also parameters. Make sure you have a decent amount of data in your validation set or otherwise the validation performance will be noisy and not very informative."
   ]
  },
  {
   "cell_type": "markdown",
   "metadata": {},
   "source": [
    "## Checkpoint\n",
    "\n",
    "After training, we'll save the model so we can load it again later if we need too. Here I'm saving the parameters needed to create the same architecture, the hidden layer hyperparameters and the text characters."
   ]
  },
  {
   "cell_type": "code",
   "execution_count": 17,
   "metadata": {},
   "outputs": [],
   "source": [
    "# change the name, for saving multiple files\n",
    "model_name = 'rnn_x_epoch.net'\n",
    "\n",
    "checkpoint = {'n_hidden': net.n_hidden,\n",
    "              'n_layers': net.n_layers,\n",
    "              'state_dict': net.state_dict(),\n",
    "              'tokens': net.chars}\n",
    "\n",
    "with open(model_name, 'wb') as f:\n",
    "    torch.save(checkpoint, f)"
   ]
  },
  {
   "cell_type": "markdown",
   "metadata": {},
   "source": [
    "---\n",
    "## Making Predictions\n",
    "\n",
    "Now that the model is trained, we'll want to sample from it and make predictions about next characters! To sample, we pass in a character and have the network predict the next character. Then we take that character, pass it back in, and get another predicted character. Just keep doing this and you'll generate a bunch of text!\n",
    "\n",
    "### A note on the `predict`  function\n",
    "\n",
    "The output of our RNN is from a fully-connected layer and it outputs a **distribution of next-character scores**.\n",
    "\n",
    "> To actually get the next character, we apply a softmax function, which gives us a *probability* distribution that we can then sample to predict the next character.\n",
    "\n",
    "### Top K sampling\n",
    "\n",
    "Our predictions come from a categorical probability distribution over all the possible characters. We can make the sample text and make it more reasonable to handle (with less variables) by only considering some $K$ most probable characters. This will prevent the network from giving us completely absurd characters while allowing it to introduce some noise and randomness into the sampled text. Read more about [topk, here](https://pytorch.org/docs/stable/torch.html#torch.topk).\n"
   ]
  },
  {
   "cell_type": "code",
   "execution_count": 18,
   "metadata": {},
   "outputs": [],
   "source": [
    "def predict(net, char, h=None, top_k=None):\n",
    "        ''' Given a character, predict the next character.\n",
    "            Returns the predicted character and the hidden state.\n",
    "        '''\n",
    "        \n",
    "        # tensor inputs\n",
    "        x = np.array([[net.char2int[char]]])\n",
    "        x = one_hot_encode(x, len(net.chars))\n",
    "        inputs = torch.from_numpy(x)\n",
    "        \n",
    "        if(train_on_gpu):\n",
    "            inputs = inputs.cuda()\n",
    "        \n",
    "        # detach hidden state from history\n",
    "        h = tuple([each.data for each in h])\n",
    "        # get the output of the model\n",
    "        out, h = net(inputs, h)\n",
    "\n",
    "        # get the character probabilities\n",
    "        p = F.softmax(out, dim=1).data\n",
    "        if(train_on_gpu):\n",
    "            p = p.cpu() # move to cpu\n",
    "        \n",
    "        # get top characters\n",
    "        if top_k is None:\n",
    "            top_ch = np.arange(len(net.chars))\n",
    "        else:\n",
    "            p, top_ch = p.topk(top_k)\n",
    "            top_ch = top_ch.numpy().squeeze()\n",
    "        \n",
    "        # select the likely next character with some element of randomness\n",
    "        p = p.numpy().squeeze()\n",
    "        char = np.random.choice(top_ch, p=p/p.sum())\n",
    "        \n",
    "        # return the encoded value of the predicted char and the hidden state\n",
    "        return net.int2char[char], h"
   ]
  },
  {
   "cell_type": "markdown",
   "metadata": {},
   "source": [
    "### Priming and generating text \n",
    "\n",
    "Typically you'll want to prime the network so you can build up a hidden state. Otherwise the network will start out generating characters at random. In general the first bunch of characters will be a little rough since it hasn't built up a long history of characters to predict from."
   ]
  },
  {
   "cell_type": "code",
   "execution_count": 19,
   "metadata": {},
   "outputs": [],
   "source": [
    "def sample(net, size, prime='The', top_k=None):\n",
    "        \n",
    "    if(train_on_gpu):\n",
    "        net.cuda()\n",
    "    else:\n",
    "        net.cpu()\n",
    "    \n",
    "    net.eval() # eval mode\n",
    "    \n",
    "    # First off, run through the prime characters\n",
    "    chars = [ch for ch in prime]\n",
    "    h = net.init_hidden(1)\n",
    "    for ch in prime:\n",
    "        char, h = predict(net, ch, h, top_k=top_k)\n",
    "\n",
    "    chars.append(char)\n",
    "    \n",
    "    # Now pass in the previous character and get a new one\n",
    "    for ii in range(size):\n",
    "        char, h = predict(net, chars[-1], h, top_k=top_k)\n",
    "        chars.append(char)\n",
    "\n",
    "    return ''.join(chars)"
   ]
  },
  {
   "cell_type": "code",
   "execution_count": 20,
   "metadata": {},
   "outputs": [
    {
     "name": "stdout",
     "output_type": "stream",
     "text": [
      "Anna, and the same with\n",
      "and the same\n",
      "table than\n",
      "his watch whether\n",
      "the peasants were\n",
      "a more and\n",
      "too at a change.\n",
      "\n",
      "\"It will soon as the second\n",
      "members. Too with his son, what was a sense of the carriage. I shall say to this son,\" she said, and the children\n",
      "walked on his face. \"Why was it is a man, the sense of\n",
      "the strange, but I can't see your sister, but it is. What's the state of meaning of the same strong the coming to\n",
      "see you and so much and the strong marshal of the man and that they\n",
      "were an old passion. I don't\n",
      "sen he had the straid the stream there is no thing to say that it was that I can't be\n",
      "so strange to his best that has believed. And I\n",
      "say it, and to say,\" said Alexey\n",
      "Alexandrovitch.\n",
      "\n",
      "\"I have so subject to me any see and more and seemed to the steps over to be the strength.\"\n",
      "\n",
      "\"It are to stay,\" said Alexey Alexandrovitch, as he her head\n",
      "and the simple short\n",
      "way of the passion, and she stopped and showing his hand, and still men that he was still that she was always at a cart of he\n"
     ]
    }
   ],
   "source": [
    "print(sample(net, 1000, prime='Anna', top_k=3))"
   ]
  },
  {
   "cell_type": "markdown",
   "metadata": {},
   "source": [
    "## Loading a checkpoint"
   ]
  },
  {
   "cell_type": "code",
   "execution_count": 21,
   "metadata": {},
   "outputs": [],
   "source": [
    "# Here we have loaded in a model that trained over 20 epochs `rnn_20_epoch.net`\n",
    "with open('rnn_x_epoch.net', 'rb') as f:\n",
    "    checkpoint = torch.load(f)\n",
    "    \n",
    "loaded = CharRNN(checkpoint['tokens'], n_hidden=checkpoint['n_hidden'], n_layers=checkpoint['n_layers'])\n",
    "loaded.load_state_dict(checkpoint['state_dict'])"
   ]
  },
  {
   "cell_type": "code",
   "execution_count": 22,
   "metadata": {},
   "outputs": [
    {
     "name": "stdout",
     "output_type": "stream",
     "text": [
      "And Levin said to his share,\n",
      "and with the same tame, the same satisfaction, as they were to say that he was\n",
      "all talking of\n",
      "the person at the complexity of the conversation which would have to see the country. And the people had\n",
      "been still all her\n",
      "shame as the counting streams of the common women was sent a steps. The carriage to be so lating and the country. How so as he had seeming to say that he was a strong and so short the prince, who was already a marshal of\n",
      "any doubt, that had never talked about this she was\n",
      "sent all the\n",
      "stards of the conversation with his shoulder, when\n",
      "he had never seen the parculsion to the\n",
      "sound of the sacrament at his heart the consciousness of her feelings that she saw him.\n",
      "\n",
      "\"Well, that was a sheel one of\n",
      "a mistake that I can't be a matter.\"\n",
      "\n",
      "And he was always a stanring off the\n",
      "station, while he sent to her hands at his hand, and she sent to him.\n",
      "\n",
      "\"What do you take him and say? It's a chest to the conversation of the same and more, the same time I'm to be\n",
      "all as a minute to see them. I see that I will be the party, but I could be seemed.\" Alexey Alexandrovitch, the same sense and had been so so that this was struck him, and when he would be so made in the station, which was a standing of all\n",
      "the sofa, the servants with his would have to be\n",
      "so many things of a months over the stard,\n",
      "and\n",
      "was the called and the sense of that tone of this conversation, and\n",
      "had\n",
      "sat the\n",
      "carriage of his wife, and the strange sense of the state of home to that horse, who had never taken the step of to his strength that she\n",
      "had been a sort of table,\n",
      "and the peasants were a station.\n",
      "\n",
      "\"I'm not the same of a secret and the same time in the country to see the prince and and that it's a strength that is the strong, and to take\n",
      "a shell and so at our astempt of a charm of him is an instant and the peasant who was the stands on the particular thing that the consceuntable strange, with the\n",
      "same attitude of to the conversation with her and take a little to his brother's, but that\n",
      "it's t\n"
     ]
    }
   ],
   "source": [
    "# Sample using a loaded model\n",
    "print(sample(loaded, 2000, top_k=3, prime=\"And Levin said\"))"
   ]
  }
 ],
 "metadata": {
  "kernelspec": {
   "display_name": "Python 3",
   "language": "python",
   "name": "python3"
  },
  "language_info": {
   "codemirror_mode": {
    "name": "ipython",
    "version": 3
   },
   "file_extension": ".py",
   "mimetype": "text/x-python",
   "name": "python",
   "nbconvert_exporter": "python",
   "pygments_lexer": "ipython3",
   "version": "3.6.8"
  }
 },
 "nbformat": 4,
 "nbformat_minor": 2
}
