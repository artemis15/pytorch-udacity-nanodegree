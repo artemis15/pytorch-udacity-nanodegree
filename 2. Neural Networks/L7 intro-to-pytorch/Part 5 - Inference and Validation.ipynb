{
 "cells": [
  {
   "cell_type": "markdown",
   "metadata": {},
   "source": [
    "# Inference and Validation\n",
    "\n",
    "Now that you have a trained network, you can use it for making predictions. This is typically called **inference**, a term borrowed from statistics. However, neural networks have a tendency to perform *too well* on the training data and aren't able to generalize to data that hasn't been seen before. This is called **overfitting** and it impairs inference performance. To test for overfitting while training, we measure the performance on data not in the training set called the **validation** set. We avoid overfitting through regularization such as dropout while monitoring the validation performance during training. In this notebook, I'll show you how to do this in PyTorch. \n",
    "\n",
    "As usual, let's start by loading the dataset through torchvision. You'll learn more about torchvision and loading data in a later part. This time we'll be taking advantage of the test set which you can get by setting `train=False` here:\n",
    "\n",
    "```python\n",
    "testset = datasets.FashionMNIST('~/.pytorch/F_MNIST_data/', download=True, train=False, transform=transform)\n",
    "```\n",
    "\n",
    "The test set contains images just like the training set. Typically you'll see 10-20% of the original dataset held out for testing and validation with the rest being used for training."
   ]
  },
  {
   "cell_type": "code",
   "execution_count": 1,
   "metadata": {},
   "outputs": [],
   "source": [
    "import torch\n",
    "from torchvision import datasets, transforms\n",
    "\n",
    "# Define a transform to normalize the data\n",
    "transform = transforms.Compose([transforms.ToTensor(),\n",
    "                                transforms.Normalize((0.5, 0.5, 0.5), (0.5, 0.5, 0.5))])\n",
    "# Download and load the training data\n",
    "trainset = datasets.FashionMNIST('~/.pytorch/F_MNIST_data/', download=True, train=True, transform=transform)\n",
    "trainloader = torch.utils.data.DataLoader(trainset, batch_size=64, shuffle=True)\n",
    "\n",
    "# Download and load the test data\n",
    "testset = datasets.FashionMNIST('~/.pytorch/F_MNIST_data/', download=True, train=False, transform=transform)\n",
    "testloader = torch.utils.data.DataLoader(testset, batch_size=64, shuffle=True)"
   ]
  },
  {
   "cell_type": "markdown",
   "metadata": {},
   "source": [
    "Here I'll create a model like normal, using the same one from my solution for part 4."
   ]
  },
  {
   "cell_type": "code",
   "execution_count": 2,
   "metadata": {},
   "outputs": [],
   "source": [
    "from torch import nn, optim\n",
    "import torch.nn.functional as F"
   ]
  },
  {
   "cell_type": "code",
   "execution_count": 3,
   "metadata": {},
   "outputs": [],
   "source": [
    "class Classifier(nn.Module):\n",
    "    def __init__(self):\n",
    "        super().__init__()\n",
    "        self.fc1 = nn.Linear(784, 256)\n",
    "        self.fc2 = nn.Linear(256, 128)\n",
    "        self.fc3 = nn.Linear(128, 64)\n",
    "        self.fc4 = nn.Linear(64, 10)\n",
    "        \n",
    "    def forward(self, x):\n",
    "        # make sure input tensor is flattened\n",
    "        x = x.view(x.shape[0], -1)\n",
    "        \n",
    "        x = F.relu(self.fc1(x))\n",
    "        x = F.relu(self.fc2(x))\n",
    "        x = F.relu(self.fc3(x))\n",
    "        x = F.log_softmax(self.fc4(x), dim=1)\n",
    "        \n",
    "        return x"
   ]
  },
  {
   "cell_type": "markdown",
   "metadata": {},
   "source": [
    "The goal of validation is to measure the model's performance on data that isn't part of the training set. Performance here is up to the developer to define though. Typically this is just accuracy, the percentage of classes the network predicted correctly. Other options are [precision and recall](https://en.wikipedia.org/wiki/Precision_and_recall#Definition_(classification_context)) and top-5 error rate. We'll focus on accuracy here. First I'll do a forward pass with one batch from the test set."
   ]
  },
  {
   "cell_type": "code",
   "execution_count": 4,
   "metadata": {},
   "outputs": [
    {
     "name": "stdout",
     "output_type": "stream",
     "text": [
      "torch.Size([64, 10])\n"
     ]
    }
   ],
   "source": [
    "model = Classifier()\n",
    "\n",
    "images, labels = next(iter(testloader))\n",
    "# Get the class probabilities\n",
    "ps = torch.exp(model(images))\n",
    "# Make sure the shape is appropriate, we should get 10 class probabilities for 64 examples\n",
    "print(ps.shape)"
   ]
  },
  {
   "cell_type": "markdown",
   "metadata": {},
   "source": [
    "With the probabilities, we can get the most likely class using the `ps.topk` method. This returns the $k$ highest values. Since we just want the most likely class, we can use `ps.topk(1)`. This returns a tuple of the top-$k$ values and the top-$k$ indices. If the highest value is the fifth element, we'll get back 4 as the index."
   ]
  },
  {
   "cell_type": "code",
   "execution_count": 5,
   "metadata": {},
   "outputs": [
    {
     "name": "stdout",
     "output_type": "stream",
     "text": [
      "tensor([[5],\n",
      "        [5],\n",
      "        [5],\n",
      "        [5],\n",
      "        [5],\n",
      "        [5],\n",
      "        [5],\n",
      "        [5],\n",
      "        [5],\n",
      "        [5]])\n"
     ]
    }
   ],
   "source": [
    "_, top_class = ps.topk(1, dim=1)\n",
    "# Look at the most likely classes for the first 10 examples\n",
    "print(top_class[:10,:])"
   ]
  },
  {
   "cell_type": "markdown",
   "metadata": {},
   "source": [
    "Now we can check if the predicted classes match the labels. This is simple to do by equating `top_class` and `labels`, but we have to be careful of the shapes. Here `top_class` is a 2D tensor with shape `(64, 1)` while `labels` is 1D with shape `(64)`. To get the equality to work out the way we want, `top_class` and `labels` must have the same shape.\n",
    "\n",
    "If we do\n",
    "\n",
    "```python\n",
    "equals = top_class == labels\n",
    "```\n",
    "\n",
    "`equals` will have shape `(64, 64)`, try it yourself. What it's doing is comparing the one element in each row of `top_class` with each element in `labels` which returns 64 True/False boolean values for each row."
   ]
  },
  {
   "cell_type": "code",
   "execution_count": 6,
   "metadata": {},
   "outputs": [],
   "source": [
    "equals = top_class == labels.view(*top_class.shape)"
   ]
  },
  {
   "cell_type": "markdown",
   "metadata": {},
   "source": [
    "Now we need to calculate the percentage of correct predictions. `equals` has binary values, either 0 or 1. This means that if we just sum up all the values and divide by the number of values, we get the percentage of correct predictions. This is the same operation as taking the mean, so we can get the accuracy with a call to `torch.mean`. If only it was that simple. If you try `torch.mean(equals)`, you'll get an error\n",
    "\n",
    "```\n",
    "RuntimeError: mean is not implemented for type torch.ByteTensor\n",
    "```\n",
    "\n",
    "This happens because `equals` has type `torch.ByteTensor` but `torch.mean` isn't implement for tensors with that type. So we'll need to convert `equals` to a float tensor. Note that when we take `torch.mean` it returns a scalar tensor, to get the actual value as a float we'll need to do `accuracy.item()`."
   ]
  },
  {
   "cell_type": "code",
   "execution_count": 7,
   "metadata": {},
   "outputs": [
    {
     "name": "stdout",
     "output_type": "stream",
     "text": [
      "Accuracy: 10.9375%\n"
     ]
    }
   ],
   "source": [
    "accuracy = torch.mean(equals.type(torch.FloatTensor))\n",
    "print(f'Accuracy: {accuracy.item()*100}%')"
   ]
  },
  {
   "cell_type": "markdown",
   "metadata": {},
   "source": [
    "The network is untrained so it's making random guesses and we should see an accuracy around 10%. Now let's train our network and include our validation pass so we can measure how well the network is performing on the test set. Since we're not updating our parameters in the validation pass, we can speed up our code by turning off gradients using `torch.no_grad()`:\n",
    "\n",
    "```python\n",
    "# turn off gradients\n",
    "with torch.no_grad():\n",
    "    # validation pass here\n",
    "    for images, labels in testloader:\n",
    "        ...\n",
    "```\n",
    "\n",
    ">**Exercise:** Implement the validation loop below and print out the total accuracy after the loop. You can largely copy and paste the code from above, but I suggest typing it in because writing it out yourself is essential for building the skill. In general you'll always learn more by typing it rather than copy-pasting. You should be able to get an accuracy above 80%."
   ]
  },
  {
   "cell_type": "code",
   "execution_count": 8,
   "metadata": {},
   "outputs": [
    {
     "name": "stdout",
     "output_type": "stream",
     "text": [
      "Epoch [1/50]  Training Loss:.. 0.518 Test Loss:.. 0.458 Test Accuracy:.. 0.834\n",
      "Epoch [2/50]  Training Loss:.. 0.376 Test Loss:.. 0.411 Test Accuracy:.. 0.855\n",
      "Epoch [3/50]  Training Loss:.. 0.338 Test Loss:.. 0.380 Test Accuracy:.. 0.864\n",
      "Epoch [4/50]  Training Loss:.. 0.315 Test Loss:.. 0.378 Test Accuracy:.. 0.862\n",
      "Epoch [5/50]  Training Loss:.. 0.294 Test Loss:.. 0.345 Test Accuracy:.. 0.875\n",
      "Epoch [6/50]  Training Loss:.. 0.277 Test Loss:.. 0.358 Test Accuracy:.. 0.872\n",
      "Epoch [7/50]  Training Loss:.. 0.261 Test Loss:.. 0.356 Test Accuracy:.. 0.876\n",
      "Epoch [8/50]  Training Loss:.. 0.250 Test Loss:.. 0.342 Test Accuracy:.. 0.880\n",
      "Epoch [9/50]  Training Loss:.. 0.237 Test Loss:.. 0.327 Test Accuracy:.. 0.881\n",
      "Epoch [10/50]  Training Loss:.. 0.227 Test Loss:.. 0.334 Test Accuracy:.. 0.882\n",
      "Epoch [11/50]  Training Loss:.. 0.220 Test Loss:.. 0.328 Test Accuracy:.. 0.884\n",
      "Epoch [12/50]  Training Loss:.. 0.207 Test Loss:.. 0.347 Test Accuracy:.. 0.887\n",
      "Epoch [13/50]  Training Loss:.. 0.200 Test Loss:.. 0.345 Test Accuracy:.. 0.885\n",
      "Epoch [14/50]  Training Loss:.. 0.190 Test Loss:.. 0.364 Test Accuracy:.. 0.882\n",
      "Epoch [15/50]  Training Loss:.. 0.186 Test Loss:.. 0.351 Test Accuracy:.. 0.883\n",
      "Epoch [16/50]  Training Loss:.. 0.179 Test Loss:.. 0.332 Test Accuracy:.. 0.892\n",
      "Epoch [17/50]  Training Loss:.. 0.170 Test Loss:.. 0.367 Test Accuracy:.. 0.886\n",
      "Epoch [18/50]  Training Loss:.. 0.162 Test Loss:.. 0.386 Test Accuracy:.. 0.886\n",
      "Epoch [19/50]  Training Loss:.. 0.159 Test Loss:.. 0.351 Test Accuracy:.. 0.890\n",
      "Epoch [20/50]  Training Loss:.. 0.154 Test Loss:.. 0.376 Test Accuracy:.. 0.885\n",
      "Epoch [21/50]  Training Loss:.. 0.147 Test Loss:.. 0.386 Test Accuracy:.. 0.885\n",
      "Epoch [22/50]  Training Loss:.. 0.141 Test Loss:.. 0.382 Test Accuracy:.. 0.888\n",
      "Epoch [23/50]  Training Loss:.. 0.138 Test Loss:.. 0.386 Test Accuracy:.. 0.890\n",
      "Epoch [24/50]  Training Loss:.. 0.130 Test Loss:.. 0.409 Test Accuracy:.. 0.886\n",
      "Epoch [25/50]  Training Loss:.. 0.129 Test Loss:.. 0.415 Test Accuracy:.. 0.887\n",
      "Epoch [26/50]  Training Loss:.. 0.121 Test Loss:.. 0.408 Test Accuracy:.. 0.891\n",
      "Epoch [27/50]  Training Loss:.. 0.117 Test Loss:.. 0.430 Test Accuracy:.. 0.891\n",
      "Epoch [28/50]  Training Loss:.. 0.119 Test Loss:.. 0.445 Test Accuracy:.. 0.892\n",
      "Epoch [29/50]  Training Loss:.. 0.114 Test Loss:.. 0.456 Test Accuracy:.. 0.888\n",
      "Epoch [30/50]  Training Loss:.. 0.108 Test Loss:.. 0.485 Test Accuracy:.. 0.886\n",
      "Epoch [31/50]  Training Loss:.. 0.099 Test Loss:.. 0.501 Test Accuracy:.. 0.885\n",
      "Epoch [32/50]  Training Loss:.. 0.104 Test Loss:.. 0.478 Test Accuracy:.. 0.890\n",
      "Epoch [33/50]  Training Loss:.. 0.096 Test Loss:.. 0.506 Test Accuracy:.. 0.890\n",
      "Epoch [34/50]  Training Loss:.. 0.096 Test Loss:.. 0.515 Test Accuracy:.. 0.890\n",
      "Epoch [35/50]  Training Loss:.. 0.092 Test Loss:.. 0.541 Test Accuracy:.. 0.884\n",
      "Epoch [36/50]  Training Loss:.. 0.090 Test Loss:.. 0.513 Test Accuracy:.. 0.885\n",
      "Epoch [37/50]  Training Loss:.. 0.089 Test Loss:.. 0.541 Test Accuracy:.. 0.889\n",
      "Epoch [38/50]  Training Loss:.. 0.085 Test Loss:.. 0.548 Test Accuracy:.. 0.891\n",
      "Epoch [39/50]  Training Loss:.. 0.079 Test Loss:.. 0.568 Test Accuracy:.. 0.887\n",
      "Epoch [40/50]  Training Loss:.. 0.082 Test Loss:.. 0.571 Test Accuracy:.. 0.889\n",
      "Epoch [41/50]  Training Loss:.. 0.083 Test Loss:.. 0.613 Test Accuracy:.. 0.889\n",
      "Epoch [42/50]  Training Loss:.. 0.075 Test Loss:.. 0.615 Test Accuracy:.. 0.883\n",
      "Epoch [43/50]  Training Loss:.. 0.076 Test Loss:.. 0.556 Test Accuracy:.. 0.889\n",
      "Epoch [44/50]  Training Loss:.. 0.073 Test Loss:.. 0.577 Test Accuracy:.. 0.891\n",
      "Epoch [45/50]  Training Loss:.. 0.073 Test Loss:.. 0.581 Test Accuracy:.. 0.883\n",
      "Epoch [46/50]  Training Loss:.. 0.072 Test Loss:.. 0.587 Test Accuracy:.. 0.893\n",
      "Epoch [47/50]  Training Loss:.. 0.069 Test Loss:.. 0.620 Test Accuracy:.. 0.889\n",
      "Epoch [48/50]  Training Loss:.. 0.063 Test Loss:.. 0.651 Test Accuracy:.. 0.886\n",
      "Epoch [49/50]  Training Loss:.. 0.066 Test Loss:.. 0.665 Test Accuracy:.. 0.889\n",
      "Epoch [50/50]  Training Loss:.. 0.066 Test Loss:.. 0.658 Test Accuracy:.. 0.887\n"
     ]
    }
   ],
   "source": [
    "model = Classifier().cuda()\n",
    "criterion = nn.NLLLoss()\n",
    "optimizer = optim.Adam(model.parameters(), lr=0.001)\n",
    "\n",
    "epochs = 50\n",
    "steps = 0\n",
    "\n",
    "train_losses, test_losses, accuracies = [], [], []\n",
    "for e in range(epochs):\n",
    "    running_loss = 0\n",
    "    for images, labels in trainloader:\n",
    "        images, labels = images.cuda(), labels.cuda()\n",
    "        \n",
    "        optimizer.zero_grad()\n",
    "        \n",
    "        log_ps = model(images)\n",
    "        \n",
    "        loss = criterion(log_ps, labels)\n",
    "        loss.backward()\n",
    "        optimizer.step()\n",
    "        \n",
    "        running_loss += loss.item()\n",
    "    \n",
    "    else:\n",
    "        ## TODO: Implement the validation pass and print out the validation accuracy\n",
    "        test_loss = 0\n",
    "        accuracy = 0\n",
    "        \n",
    "        with torch.no_grad():\n",
    "            # validation pass here\n",
    "            for images, labels in testloader:\n",
    "                images, labels = images.cuda(), labels.cuda()\n",
    "                \n",
    "                log_ps = model(images)\n",
    "                \n",
    "                test_loss += criterion(log_ps, labels)\n",
    "                \n",
    "                ps = torch.exp(log_ps)\n",
    "                _, top_class = ps.topk(1, dim=1)\n",
    "                equals = top_class == labels.view(*top_class.shape)\n",
    "                accuracy += torch.mean(equals.type(torch.cuda.FloatTensor))\n",
    "                \n",
    "        steps += 1\n",
    "        train_losses.append(running_loss/len(trainloader))\n",
    "        test_losses.append(test_loss/len(testloader))\n",
    "        accuracies.append(accuracy/len(testloader))\n",
    "                \n",
    "        print(\"Epoch [{}/{}] \".format(e+1, epochs),\n",
    "            \"Training Loss:.. {:.3f}\".format(train_losses[e]),\n",
    "            \"Test Loss:.. {:.3f}\".format(test_losses[e]),\n",
    "            \"Test Accuracy:.. {:.3f}\".format(accuracies[e]))"
   ]
  },
  {
   "cell_type": "code",
   "execution_count": 9,
   "metadata": {},
   "outputs": [],
   "source": [
    "%matplotlib inline\n",
    "%config InlineBackend.figure.format = 'retina'\n",
    "import matplotlib.pyplot as plt"
   ]
  },
  {
   "cell_type": "code",
   "execution_count": 10,
   "metadata": {},
   "outputs": [
    {
     "data": {
      "text/plain": [
       "<matplotlib.legend.Legend at 0x14e2592ac18>"
      ]
     },
     "execution_count": 10,
     "metadata": {},
     "output_type": "execute_result"
    },
    {
     "data": {
      "image/png": "[encoded data removed]",
      "text/plain": [
       "<Figure size 432x288 with 1 Axes>"
      ]
     },
     "metadata": {
      "needs_background": "light"
     },
     "output_type": "display_data"
    }
   ],
   "source": [
    "plt.plot(train_losses, label=\"training loss\")\n",
    "plt.plot(test_losses, label=\"validation loss\")\n",
    "plt.plot(accuracies, label=\"validation accuracy\")\n",
    "plt.legend(frameon=False)"
   ]
  },
  {
   "cell_type": "markdown",
   "metadata": {},
   "source": [
    "## Overfitting\n",
    "\n",
    "If we look at the training and validation losses as we train the network, we can see a phenomenon known as overfitting.\n",
    "\n",
    "<img src='assets/overfitting.png' width=450px>\n",
    "\n",
    "The network learns the training set better and better, resulting in lower training losses. However, it starts having problems generalizing to data outside the training set leading to the validation loss increasing. The ultimate goal of any deep learning model is to make predictions on new data, so we should strive to get the lowest validation loss possible. One option is to use the version of the model with the lowest validation loss, here the one around 8-10 training epochs. This strategy is called *early-stopping*. In practice, you'd save the model frequently as you're training then later choose the model with the lowest validation loss.\n",
    "\n",
    "The most common method to reduce overfitting (outside of early-stopping) is *dropout*, where we randomly drop input units. This forces the network to share information between weights, increasing it's ability to generalize to new data. Adding dropout in PyTorch is straightforward using the [`nn.Dropout`](https://pytorch.org/docs/stable/nn.html#torch.nn.Dropout) module.\n",
    "\n",
    "```python\n",
    "class Classifier(nn.Module):\n",
    "    def __init__(self):\n",
    "        super().__init__()\n",
    "        self.fc1 = nn.Linear(784, 256)\n",
    "        self.fc2 = nn.Linear(256, 128)\n",
    "        self.fc3 = nn.Linear(128, 64)\n",
    "        self.fc4 = nn.Linear(64, 10)\n",
    "        \n",
    "        # Dropout module with 0.2 drop probability\n",
    "        self.dropout = nn.Dropout(p=0.2)\n",
    "        \n",
    "    def forward(self, x):\n",
    "        # make sure input tensor is flattened\n",
    "        x = x.view(x.shape[0], -1)\n",
    "        \n",
    "        # Now with dropout\n",
    "        x = self.dropout(F.relu(self.fc1(x)))\n",
    "        x = self.dropout(F.relu(self.fc2(x)))\n",
    "        x = self.dropout(F.relu(self.fc3(x)))\n",
    "        \n",
    "        # output so no dropout here\n",
    "        x = F.log_softmax(self.fc4(x), dim=1)\n",
    "        \n",
    "        return x\n",
    "```\n",
    "\n",
    "During training we want to use dropout to prevent overfitting, but during inference we want to use the entire network. So, we need to turn off dropout during validation, testing, and whenever we're using the network to make predictions. To do this, you use `model.eval()`. This sets the model to evaluation mode where the dropout probability is 0. You can turn dropout back on by setting the model to train mode with `model.train()`. In general, the pattern for the validation loop will look like this, where you turn off gradients, set the model to evaluation mode, calculate the validation loss and metric, then set the model back to train mode.\n",
    "\n",
    "```python\n",
    "# turn off gradients\n",
    "with torch.no_grad():\n",
    "    \n",
    "    # set model to evaluation mode\n",
    "    model.eval()\n",
    "    \n",
    "    # validation pass here\n",
    "    for images, labels in testloader:\n",
    "        ...\n",
    "\n",
    "# set model back to train mode\n",
    "model.train()\n",
    "```"
   ]
  },
  {
   "cell_type": "markdown",
   "metadata": {},
   "source": [
    "> **Exercise:** Add dropout to your model and train it on Fashion-MNIST again. See if you can get a lower validation loss or higher accuracy."
   ]
  },
  {
   "cell_type": "code",
   "execution_count": 11,
   "metadata": {},
   "outputs": [],
   "source": [
    "## TODO: Define your model with dropout added\n",
    "class Classifier_withDropout(nn.Module):\n",
    "    def __init__(self):\n",
    "        super().__init__()\n",
    "        self.fc1 = nn.Linear(784, 256)\n",
    "        self.fc2 = nn.Linear(256, 128)\n",
    "        self.fc3 = nn.Linear(128, 64)\n",
    "        self.fc4 = nn.Linear(64, 10)\n",
    "        \n",
    "        self.dropout = nn.Dropout(p=0.2)\n",
    "        \n",
    "    def forward(self, x):\n",
    "        # make sure input tensor is flattened\n",
    "        x = x.view(x.shape[0], -1)\n",
    "        \n",
    "        x = F.relu(self.fc1(x))\n",
    "        x = self.dropout(x)\n",
    "        x = F.relu(self.fc2(x))\n",
    "        x = self.dropout(x)\n",
    "        x = F.relu(self.fc3(x))\n",
    "        x = self.dropout(x)\n",
    "        x = F.log_softmax(self.fc4(x), dim=1)\n",
    "        \n",
    "        return x"
   ]
  },
  {
   "cell_type": "code",
   "execution_count": 12,
   "metadata": {},
   "outputs": [
    {
     "name": "stdout",
     "output_type": "stream",
     "text": [
      "Epoch [1/50]  Training Loss:.. 0.603 Test Loss:.. 0.447 Test Accuracy:.. 0.834\n",
      "Epoch [2/50]  Training Loss:.. 0.435 Test Loss:.. 0.404 Test Accuracy:.. 0.852\n",
      "Epoch [3/50]  Training Loss:.. 0.399 Test Loss:.. 0.391 Test Accuracy:.. 0.861\n",
      "Epoch [4/50]  Training Loss:.. 0.373 Test Loss:.. 0.373 Test Accuracy:.. 0.866\n",
      "Epoch [5/50]  Training Loss:.. 0.357 Test Loss:.. 0.367 Test Accuracy:.. 0.869\n",
      "Epoch [6/50]  Training Loss:.. 0.342 Test Loss:.. 0.349 Test Accuracy:.. 0.878\n",
      "Epoch [7/50]  Training Loss:.. 0.329 Test Loss:.. 0.354 Test Accuracy:.. 0.869\n",
      "Epoch [8/50]  Training Loss:.. 0.323 Test Loss:.. 0.353 Test Accuracy:.. 0.875\n",
      "Epoch [9/50]  Training Loss:.. 0.313 Test Loss:.. 0.338 Test Accuracy:.. 0.880\n",
      "Epoch [10/50]  Training Loss:.. 0.303 Test Loss:.. 0.342 Test Accuracy:.. 0.878\n",
      "Epoch [11/50]  Training Loss:.. 0.297 Test Loss:.. 0.366 Test Accuracy:.. 0.874\n",
      "Epoch [12/50]  Training Loss:.. 0.289 Test Loss:.. 0.334 Test Accuracy:.. 0.882\n",
      "Epoch [13/50]  Training Loss:.. 0.286 Test Loss:.. 0.340 Test Accuracy:.. 0.881\n",
      "Epoch [14/50]  Training Loss:.. 0.283 Test Loss:.. 0.343 Test Accuracy:.. 0.883\n",
      "Epoch [15/50]  Training Loss:.. 0.275 Test Loss:.. 0.340 Test Accuracy:.. 0.880\n",
      "Epoch [16/50]  Training Loss:.. 0.270 Test Loss:.. 0.324 Test Accuracy:.. 0.885\n",
      "Epoch [17/50]  Training Loss:.. 0.266 Test Loss:.. 0.327 Test Accuracy:.. 0.885\n",
      "Epoch [18/50]  Training Loss:.. 0.260 Test Loss:.. 0.315 Test Accuracy:.. 0.890\n",
      "Epoch [19/50]  Training Loss:.. 0.258 Test Loss:.. 0.332 Test Accuracy:.. 0.882\n",
      "Epoch [20/50]  Training Loss:.. 0.254 Test Loss:.. 0.339 Test Accuracy:.. 0.885\n",
      "Epoch [21/50]  Training Loss:.. 0.246 Test Loss:.. 0.324 Test Accuracy:.. 0.891\n",
      "Epoch [22/50]  Training Loss:.. 0.248 Test Loss:.. 0.333 Test Accuracy:.. 0.886\n",
      "Epoch [23/50]  Training Loss:.. 0.245 Test Loss:.. 0.313 Test Accuracy:.. 0.891\n",
      "Epoch [24/50]  Training Loss:.. 0.242 Test Loss:.. 0.336 Test Accuracy:.. 0.888\n",
      "Epoch [25/50]  Training Loss:.. 0.235 Test Loss:.. 0.342 Test Accuracy:.. 0.887\n",
      "Epoch [26/50]  Training Loss:.. 0.236 Test Loss:.. 0.319 Test Accuracy:.. 0.888\n",
      "Epoch [27/50]  Training Loss:.. 0.230 Test Loss:.. 0.321 Test Accuracy:.. 0.893\n",
      "Epoch [28/50]  Training Loss:.. 0.227 Test Loss:.. 0.323 Test Accuracy:.. 0.891\n",
      "Epoch [29/50]  Training Loss:.. 0.226 Test Loss:.. 0.339 Test Accuracy:.. 0.888\n",
      "Epoch [30/50]  Training Loss:.. 0.223 Test Loss:.. 0.333 Test Accuracy:.. 0.891\n",
      "Epoch [31/50]  Training Loss:.. 0.220 Test Loss:.. 0.331 Test Accuracy:.. 0.889\n",
      "Epoch [32/50]  Training Loss:.. 0.217 Test Loss:.. 0.340 Test Accuracy:.. 0.892\n",
      "Epoch [33/50]  Training Loss:.. 0.220 Test Loss:.. 0.330 Test Accuracy:.. 0.889\n",
      "Epoch [34/50]  Training Loss:.. 0.212 Test Loss:.. 0.331 Test Accuracy:.. 0.894\n",
      "Epoch [35/50]  Training Loss:.. 0.214 Test Loss:.. 0.326 Test Accuracy:.. 0.892\n",
      "Epoch [36/50]  Training Loss:.. 0.210 Test Loss:.. 0.335 Test Accuracy:.. 0.892\n",
      "Epoch [37/50]  Training Loss:.. 0.207 Test Loss:.. 0.319 Test Accuracy:.. 0.896\n",
      "Epoch [38/50]  Training Loss:.. 0.201 Test Loss:.. 0.353 Test Accuracy:.. 0.891\n",
      "Epoch [39/50]  Training Loss:.. 0.205 Test Loss:.. 0.343 Test Accuracy:.. 0.891\n",
      "Epoch [40/50]  Training Loss:.. 0.204 Test Loss:.. 0.329 Test Accuracy:.. 0.892\n",
      "Epoch [41/50]  Training Loss:.. 0.201 Test Loss:.. 0.326 Test Accuracy:.. 0.894\n",
      "Epoch [42/50]  Training Loss:.. 0.201 Test Loss:.. 0.336 Test Accuracy:.. 0.895\n",
      "Epoch [43/50]  Training Loss:.. 0.197 Test Loss:.. 0.318 Test Accuracy:.. 0.896\n",
      "Epoch [44/50]  Training Loss:.. 0.191 Test Loss:.. 0.347 Test Accuracy:.. 0.892\n",
      "Epoch [45/50]  Training Loss:.. 0.195 Test Loss:.. 0.344 Test Accuracy:.. 0.895\n",
      "Epoch [46/50]  Training Loss:.. 0.193 Test Loss:.. 0.350 Test Accuracy:.. 0.895\n",
      "Epoch [47/50]  Training Loss:.. 0.189 Test Loss:.. 0.344 Test Accuracy:.. 0.890\n",
      "Epoch [48/50]  Training Loss:.. 0.190 Test Loss:.. 0.330 Test Accuracy:.. 0.897\n",
      "Epoch [49/50]  Training Loss:.. 0.186 Test Loss:.. 0.351 Test Accuracy:.. 0.893\n",
      "Epoch [50/50]  Training Loss:.. 0.186 Test Loss:.. 0.345 Test Accuracy:.. 0.896\n"
     ]
    }
   ],
   "source": [
    "## TODO: Train your model with dropout, and monitor the training progress with the validation loss and accuracy\n",
    "\n",
    "model = Classifier_withDropout().cuda()\n",
    "criterion = nn.NLLLoss()\n",
    "optimizer = optim.Adam(model.parameters(), lr=0.001)\n",
    "\n",
    "epochs = 50\n",
    "steps = 0\n",
    "\n",
    "train_losses, test_losses, accuracies = [], [], []\n",
    "for e in range(epochs):\n",
    "    running_loss = 0\n",
    "    for images, labels in trainloader:\n",
    "        images, labels = images.cuda(), labels.cuda()\n",
    "        \n",
    "        optimizer.zero_grad()\n",
    "        \n",
    "        log_ps = model(images)\n",
    "        \n",
    "        loss = criterion(log_ps, labels)\n",
    "        loss.backward()\n",
    "        optimizer.step()\n",
    "        \n",
    "        running_loss += loss.item()\n",
    "    \n",
    "    else:\n",
    "        ## TODO: Implement the validation pass and print out the validation accuracy\n",
    "        test_loss = 0\n",
    "        accuracy = 0\n",
    "        \n",
    "        with torch.no_grad():\n",
    "            \n",
    "            model.eval()\n",
    "            \n",
    "            # validation pass here\n",
    "            for images, labels in testloader:\n",
    "                images, labels = images.cuda(), labels.cuda()\n",
    "                \n",
    "                log_ps = model(images)\n",
    "                \n",
    "                test_loss += criterion(log_ps, labels)\n",
    "                \n",
    "                ps = torch.exp(log_ps)\n",
    "                _, top_class = ps.topk(1, dim=1)\n",
    "                equals = top_class == labels.view(*top_class.shape)\n",
    "                accuracy += torch.mean(equals.type(torch.cuda.FloatTensor))\n",
    "                \n",
    "        steps += 1\n",
    "        train_losses.append(running_loss/len(trainloader))\n",
    "        test_losses.append(test_loss/len(testloader))\n",
    "        accuracies.append(accuracy/len(testloader))\n",
    "        \n",
    "        model.train()\n",
    "                \n",
    "        print(\"Epoch [{}/{}] \".format(e+1, epochs),\n",
    "            \"Training Loss:.. {:.3f}\".format(train_losses[e]),\n",
    "            \"Test Loss:.. {:.3f}\".format(test_losses[e]),\n",
    "            \"Test Accuracy:.. {:.3f}\".format(accuracies[e]))"
   ]
  },
  {
   "cell_type": "code",
   "execution_count": 13,
   "metadata": {},
   "outputs": [
    {
     "data": {
      "text/plain": [
       "<matplotlib.legend.Legend at 0x14e2f84fdd8>"
      ]
     },
     "execution_count": 13,
     "metadata": {},
     "output_type": "execute_result"
    },
    {
     "data": {
      "image/png": "[encoded data removed]",
      "text/plain": [
       "<Figure size 432x288 with 1 Axes>"
      ]
     },
     "metadata": {
      "needs_background": "light"
     },
     "output_type": "display_data"
    }
   ],
   "source": [
    "plt.plot(train_losses, label=\"training loss\")\n",
    "plt.plot(test_losses, label=\"validation loss\")\n",
    "plt.plot(accuracies, label=\"validation accuracy\")\n",
    "plt.legend(frameon=False)"
   ]
  },
  {
   "cell_type": "markdown",
   "metadata": {},
   "source": [
    "## Inference\n",
    "\n",
    "Now that the model is trained, we can use it for inference. We've done this before, but now we need to remember to set the model in inference mode with `model.eval()`. You'll also want to turn off autograd with the `torch.no_grad()` context."
   ]
  },
  {
   "cell_type": "code",
   "execution_count": 14,
   "metadata": {},
   "outputs": [
    {
     "data": {
      "image/png": "[encoded data removed]",
      "text/plain": [
       "<Figure size 432x648 with 2 Axes>"
      ]
     },
     "metadata": {
      "needs_background": "light"
     },
     "output_type": "display_data"
    }
   ],
   "source": [
    "# Import helper module (should be in the repo)\n",
    "import helper\n",
    "\n",
    "# Test out your network!\n",
    "\n",
    "model.eval()\n",
    "\n",
    "dataiter = iter(testloader)\n",
    "images, labels = dataiter.next()\n",
    "images, labels = images.cuda(), labels.cuda()\n",
    "img = images[0]\n",
    "# Convert 2D image to 1D vector\n",
    "img = img.view(1, 784)\n",
    "\n",
    "# Calculate the class probabilities (softmax) for img\n",
    "with torch.no_grad():\n",
    "    output = model.forward(img)\n",
    "\n",
    "ps = torch.exp(output)\n",
    "\n",
    "# Plot the image and probabilities\n",
    "helper.view_classify(img.view(1, 28, 28).cpu(), ps.cpu(), version='Fashion')"
   ]
  },
  {
   "cell_type": "markdown",
   "metadata": {},
   "source": [
    "## Next Up!\n",
    "\n",
    "In the next part, I'll show you how to save your trained models. In general, you won't want to train a model everytime you need it. Instead, you'll train once, save it, then load the model when you want to train more or use if for inference."
   ]
  }
 ],
 "metadata": {
  "kernelspec": {
   "display_name": "Python 3",
   "language": "python",
   "name": "python3"
  },
  "language_info": {
   "codemirror_mode": {
    "name": "ipython",
    "version": 3
   },
   "file_extension": ".py",
   "mimetype": "text/x-python",
   "name": "python",
   "nbconvert_exporter": "python",
   "pygments_lexer": "ipython3",
   "version": "3.6.7"
  }
 },
 "nbformat": 4,
 "nbformat_minor": 2
}
